{
  "nbformat": 4,
  "nbformat_minor": 0,
  "metadata": {
    "kernelspec": {
      "display_name": "Python 3",
      "language": "python",
      "name": "python3"
    },
    "language_info": {
      "codemirror_mode": {
        "name": "ipython",
        "version": 3
      },
      "file_extension": ".py",
      "mimetype": "text/x-python",
      "name": "python",
      "nbconvert_exporter": "python",
      "pygments_lexer": "ipython3",
      "version": "3.8.3"
    },
    "colab": {
      "name": "EXPLANATORY DATA ANALYSIS.ipynb",
      "provenance": [],
      "collapsed_sections": [
        "oS_MygQsSL_V",
        "GG2CbQRDSL_a",
        "YeRdbmoDSL_r",
        "1H4c_BzBSL_3",
        "bXeXCVd4SL_5",
        "9uTred2wSL_7",
        "VoaOaM23SMAA",
        "3TugnFB_SMAj",
        "qMAtE6bDSMAl",
        "X8mrtwlGSMAm",
        "0vl8W0yJSMAp",
        "8sNdPlB1SMAq",
        "Ru0VpqkGSMAs",
        "1uD2eHMcSMAu",
        "mzIAjEq0SMAv",
        "1uaXfdWYSMA0",
        "BhZEVNmaSMBQ"
      ]
    }
  },
  "cells": [
    {
      "cell_type": "markdown",
      "metadata": {
        "id": "oS_MygQsSL_V"
      },
      "source": [
        "# FRAUD DETECTION\n",
        "\n",
        "This notebook should help you get started with any competition on Zindi. In it we cover:\n",
        "- Loading the data\n",
        "- Simple EDA and an example of feature enginnering"
      ]
    },
    {
      "cell_type": "code",
      "metadata": {
        "colab": {
          "base_uri": "https://localhost:8080/"
        },
        "id": "EY9sg8RLTYvS",
        "outputId": "df2b2c6a-e6be-4739-bed0-9d0a7394d843"
      },
      "source": [
        "!pip install catboost"
      ],
      "execution_count": 1,
      "outputs": [
        {
          "output_type": "stream",
          "text": [
            "Collecting catboost\n",
            "\u001b[?25l  Downloading https://files.pythonhosted.org/packages/96/3b/bb419654adcf7efff42ed8a3f84e50c8f236424b7ed1cc8ccd290852e003/catboost-0.24.4-cp37-none-manylinux1_x86_64.whl (65.7MB)\n",
            "\u001b[K     |████████████████████████████████| 65.7MB 58kB/s \n",
            "\u001b[?25hRequirement already satisfied: plotly in /usr/local/lib/python3.7/dist-packages (from catboost) (4.4.1)\n",
            "Requirement already satisfied: numpy>=1.16.0 in /usr/local/lib/python3.7/dist-packages (from catboost) (1.19.5)\n",
            "Requirement already satisfied: matplotlib in /usr/local/lib/python3.7/dist-packages (from catboost) (3.2.2)\n",
            "Requirement already satisfied: scipy in /usr/local/lib/python3.7/dist-packages (from catboost) (1.4.1)\n",
            "Requirement already satisfied: pandas>=0.24.0 in /usr/local/lib/python3.7/dist-packages (from catboost) (1.1.5)\n",
            "Requirement already satisfied: six in /usr/local/lib/python3.7/dist-packages (from catboost) (1.15.0)\n",
            "Requirement already satisfied: graphviz in /usr/local/lib/python3.7/dist-packages (from catboost) (0.10.1)\n",
            "Requirement already satisfied: retrying>=1.3.3 in /usr/local/lib/python3.7/dist-packages (from plotly->catboost) (1.3.3)\n",
            "Requirement already satisfied: kiwisolver>=1.0.1 in /usr/local/lib/python3.7/dist-packages (from matplotlib->catboost) (1.3.1)\n",
            "Requirement already satisfied: python-dateutil>=2.1 in /usr/local/lib/python3.7/dist-packages (from matplotlib->catboost) (2.8.1)\n",
            "Requirement already satisfied: cycler>=0.10 in /usr/local/lib/python3.7/dist-packages (from matplotlib->catboost) (0.10.0)\n",
            "Requirement already satisfied: pyparsing!=2.0.4,!=2.1.2,!=2.1.6,>=2.0.1 in /usr/local/lib/python3.7/dist-packages (from matplotlib->catboost) (2.4.7)\n",
            "Requirement already satisfied: pytz>=2017.2 in /usr/local/lib/python3.7/dist-packages (from pandas>=0.24.0->catboost) (2018.9)\n",
            "Installing collected packages: catboost\n",
            "Successfully installed catboost-0.24.4\n"
          ],
          "name": "stdout"
        }
      ]
    },
    {
      "cell_type": "markdown",
      "metadata": {
        "id": "GG2CbQRDSL_a"
      },
      "source": [
        "# Setup\n",
        "\n",
        "Load the data into the notebook."
      ]
    },
    {
      "cell_type": "code",
      "metadata": {
        "id": "PUkXE8bQSL_c"
      },
      "source": [
        "import pandas as pd\n",
        "import numpy as np\n",
        "from matplotlib import pyplot as plt\n",
        "import seaborn as sns\n",
        "\n",
        "##Supress warnings\n",
        "import sys\n",
        "import warnings\n",
        "\n",
        "if not sys.warnoptions:\n",
        "    warnings.simplefilter(\"ignore\")\n",
        "\n",
        "from sklearn.preprocessing import StandardScaler\n",
        "    \n",
        "# Models\n",
        "from sklearn.linear_model import LinearRegression, LogisticRegression\n",
        "from sklearn.metrics import mean_absolute_error\n",
        "from sklearn.neighbors import KNeighborsClassifier\n",
        "from sklearn import preprocessing\n",
        "from sklearn.tree import DecisionTreeClassifier, ExtraTreeClassifier\n",
        "from sklearn.discriminant_analysis import LinearDiscriminantAnalysis\n",
        "from sklearn.naive_bayes import GaussianNB\n",
        "from sklearn.svm import SVC\n",
        "from sklearn.model_selection import train_test_split\n",
        "from sklearn.model_selection import RepeatedStratifiedKFold\n",
        "from sklearn.model_selection import cross_val_score\n",
        "\n",
        "# ensembles\n",
        "from sklearn.ensemble import BaggingClassifier\n",
        "from sklearn.ensemble import StackingClassifier\n",
        "from sklearn.ensemble import RandomForestClassifier\n",
        "\n",
        "# boosting \n",
        "from catboost import CatBoostClassifier\n",
        "\n",
        "# Metrics\n",
        "from sklearn.metrics import mean_absolute_error\n",
        "from sklearn.metrics import accuracy_score\n",
        "from sklearn.metrics import r2_score"
      ],
      "execution_count": 2,
      "outputs": []
    },
    {
      "cell_type": "markdown",
      "metadata": {
        "id": "qEUss2JJSL_d"
      },
      "source": [
        "## Load the client training dataset"
      ]
    },
    {
      "cell_type": "code",
      "metadata": {
        "colab": {
          "base_uri": "https://localhost:8080/",
          "height": 204
        },
        "id": "DzulfHzoSL_e",
        "outputId": "6bdff2c7-6cfe-4257-b565-7bee01b37764"
      },
      "source": [
        "client_train = pd.read_csv('client_train.csv')\n",
        "client_train.head(5)"
      ],
      "execution_count": 3,
      "outputs": [
        {
          "output_type": "execute_result",
          "data": {
            "text/html": [
              "<div>\n",
              "<style scoped>\n",
              "    .dataframe tbody tr th:only-of-type {\n",
              "        vertical-align: middle;\n",
              "    }\n",
              "\n",
              "    .dataframe tbody tr th {\n",
              "        vertical-align: top;\n",
              "    }\n",
              "\n",
              "    .dataframe thead th {\n",
              "        text-align: right;\n",
              "    }\n",
              "</style>\n",
              "<table border=\"1\" class=\"dataframe\">\n",
              "  <thead>\n",
              "    <tr style=\"text-align: right;\">\n",
              "      <th></th>\n",
              "      <th>disrict</th>\n",
              "      <th>client_id</th>\n",
              "      <th>client_catg</th>\n",
              "      <th>region</th>\n",
              "      <th>creation_date</th>\n",
              "      <th>target</th>\n",
              "    </tr>\n",
              "  </thead>\n",
              "  <tbody>\n",
              "    <tr>\n",
              "      <th>0</th>\n",
              "      <td>60</td>\n",
              "      <td>train_Client_0</td>\n",
              "      <td>11</td>\n",
              "      <td>101</td>\n",
              "      <td>31/12/1994</td>\n",
              "      <td>0.0</td>\n",
              "    </tr>\n",
              "    <tr>\n",
              "      <th>1</th>\n",
              "      <td>69</td>\n",
              "      <td>train_Client_1</td>\n",
              "      <td>11</td>\n",
              "      <td>107</td>\n",
              "      <td>29/05/2002</td>\n",
              "      <td>0.0</td>\n",
              "    </tr>\n",
              "    <tr>\n",
              "      <th>2</th>\n",
              "      <td>62</td>\n",
              "      <td>train_Client_10</td>\n",
              "      <td>11</td>\n",
              "      <td>301</td>\n",
              "      <td>13/03/1986</td>\n",
              "      <td>0.0</td>\n",
              "    </tr>\n",
              "    <tr>\n",
              "      <th>3</th>\n",
              "      <td>69</td>\n",
              "      <td>train_Client_100</td>\n",
              "      <td>11</td>\n",
              "      <td>105</td>\n",
              "      <td>11/07/1996</td>\n",
              "      <td>0.0</td>\n",
              "    </tr>\n",
              "    <tr>\n",
              "      <th>4</th>\n",
              "      <td>62</td>\n",
              "      <td>train_Client_1000</td>\n",
              "      <td>11</td>\n",
              "      <td>303</td>\n",
              "      <td>14/10/2014</td>\n",
              "      <td>0.0</td>\n",
              "    </tr>\n",
              "  </tbody>\n",
              "</table>\n",
              "</div>"
            ],
            "text/plain": [
              "   disrict          client_id  client_catg  region creation_date  target\n",
              "0       60     train_Client_0           11     101    31/12/1994     0.0\n",
              "1       69     train_Client_1           11     107    29/05/2002     0.0\n",
              "2       62    train_Client_10           11     301    13/03/1986     0.0\n",
              "3       69   train_Client_100           11     105    11/07/1996     0.0\n",
              "4       62  train_Client_1000           11     303    14/10/2014     0.0"
            ]
          },
          "metadata": {
            "tags": []
          },
          "execution_count": 3
        }
      ]
    },
    {
      "cell_type": "markdown",
      "metadata": {
        "id": "pScAL89HSL_j"
      },
      "source": [
        ".\n",
        ".\n",
        "\n",
        "## Check the shape of the client  training dataset"
      ]
    },
    {
      "cell_type": "code",
      "metadata": {
        "colab": {
          "base_uri": "https://localhost:8080/"
        },
        "id": "CTgR-KILSL_k",
        "outputId": "48412c92-6663-4fe8-ee51-56728d8ad0a0"
      },
      "source": [
        "client_train.shape"
      ],
      "execution_count": 4,
      "outputs": [
        {
          "output_type": "execute_result",
          "data": {
            "text/plain": [
              "(135493, 6)"
            ]
          },
          "metadata": {
            "tags": []
          },
          "execution_count": 4
        }
      ]
    },
    {
      "cell_type": "markdown",
      "metadata": {
        "id": "NOyP9w5jSL_m"
      },
      "source": [
        "## Load the client testing dataset"
      ]
    },
    {
      "cell_type": "code",
      "metadata": {
        "colab": {
          "base_uri": "https://localhost:8080/"
        },
        "id": "7wU-r5DsSL_m",
        "outputId": "eb307f58-3a25-4b25-aeaa-7bad2511b57e"
      },
      "source": [
        "client_test = pd.read_csv('client_test.csv')\n",
        "client_test['client_id']"
      ],
      "execution_count": 5,
      "outputs": [
        {
          "output_type": "execute_result",
          "data": {
            "text/plain": [
              "0           test_Client_0\n",
              "1           test_Client_1\n",
              "2          test_Client_10\n",
              "3         test_Client_100\n",
              "4        test_Client_1000\n",
              "               ...       \n",
              "58064    test_Client_9995\n",
              "58065    test_Client_9996\n",
              "58066    test_Client_9997\n",
              "58067    test_Client_9998\n",
              "58068    test_Client_9999\n",
              "Name: client_id, Length: 58069, dtype: object"
            ]
          },
          "metadata": {
            "tags": []
          },
          "execution_count": 5
        }
      ]
    },
    {
      "cell_type": "markdown",
      "metadata": {
        "id": "YeRdbmoDSL_r"
      },
      "source": [
        ".\n",
        ".\n",
        "\n",
        "## Check the shape of the client  training dataset"
      ]
    },
    {
      "cell_type": "code",
      "metadata": {
        "colab": {
          "base_uri": "https://localhost:8080/"
        },
        "id": "8d3R1_C6SL_s",
        "outputId": "f62fcb1d-14bd-443d-a0ba-345a4cdb402b"
      },
      "source": [
        "client_test.shape"
      ],
      "execution_count": 6,
      "outputs": [
        {
          "output_type": "execute_result",
          "data": {
            "text/plain": [
              "(58069, 5)"
            ]
          },
          "metadata": {
            "tags": []
          },
          "execution_count": 6
        }
      ]
    },
    {
      "cell_type": "markdown",
      "metadata": {
        "id": "uuHuOZzoSL_t"
      },
      "source": [
        ".\n",
        "## Load the invoice training dataset"
      ]
    },
    {
      "cell_type": "code",
      "metadata": {
        "colab": {
          "base_uri": "https://localhost:8080/",
          "height": 224
        },
        "id": "Y9-7-XpTSL_u",
        "outputId": "ea7433d1-56fb-4588-cab8-dfb3e9563af1"
      },
      "source": [
        "invoice_train = pd.read_csv('invoice_train.csv')\n",
        "invoice_train.head(5)"
      ],
      "execution_count": 7,
      "outputs": [
        {
          "output_type": "execute_result",
          "data": {
            "text/html": [
              "<div>\n",
              "<style scoped>\n",
              "    .dataframe tbody tr th:only-of-type {\n",
              "        vertical-align: middle;\n",
              "    }\n",
              "\n",
              "    .dataframe tbody tr th {\n",
              "        vertical-align: top;\n",
              "    }\n",
              "\n",
              "    .dataframe thead th {\n",
              "        text-align: right;\n",
              "    }\n",
              "</style>\n",
              "<table border=\"1\" class=\"dataframe\">\n",
              "  <thead>\n",
              "    <tr style=\"text-align: right;\">\n",
              "      <th></th>\n",
              "      <th>client_id</th>\n",
              "      <th>invoice_date</th>\n",
              "      <th>tarif_type</th>\n",
              "      <th>counter_number</th>\n",
              "      <th>counter_statue</th>\n",
              "      <th>counter_code</th>\n",
              "      <th>reading_remarque</th>\n",
              "      <th>counter_coefficient</th>\n",
              "      <th>consommation_level_1</th>\n",
              "      <th>consommation_level_2</th>\n",
              "      <th>consommation_level_3</th>\n",
              "      <th>consommation_level_4</th>\n",
              "      <th>old_index</th>\n",
              "      <th>new_index</th>\n",
              "      <th>months_number</th>\n",
              "      <th>counter_type</th>\n",
              "    </tr>\n",
              "  </thead>\n",
              "  <tbody>\n",
              "    <tr>\n",
              "      <th>0</th>\n",
              "      <td>train_Client_0</td>\n",
              "      <td>2014-03-24</td>\n",
              "      <td>11.0</td>\n",
              "      <td>1335667.0</td>\n",
              "      <td>0.0</td>\n",
              "      <td>203.0</td>\n",
              "      <td>8.0</td>\n",
              "      <td>1.0</td>\n",
              "      <td>82.0</td>\n",
              "      <td>0.0</td>\n",
              "      <td>0.0</td>\n",
              "      <td>0.0</td>\n",
              "      <td>14302.0</td>\n",
              "      <td>14384.0</td>\n",
              "      <td>4.0</td>\n",
              "      <td>ELEC</td>\n",
              "    </tr>\n",
              "    <tr>\n",
              "      <th>1</th>\n",
              "      <td>train_Client_0</td>\n",
              "      <td>2013-03-29</td>\n",
              "      <td>11.0</td>\n",
              "      <td>1335667.0</td>\n",
              "      <td>0.0</td>\n",
              "      <td>203.0</td>\n",
              "      <td>6.0</td>\n",
              "      <td>1.0</td>\n",
              "      <td>1200.0</td>\n",
              "      <td>184.0</td>\n",
              "      <td>0.0</td>\n",
              "      <td>0.0</td>\n",
              "      <td>12294.0</td>\n",
              "      <td>13678.0</td>\n",
              "      <td>4.0</td>\n",
              "      <td>ELEC</td>\n",
              "    </tr>\n",
              "    <tr>\n",
              "      <th>2</th>\n",
              "      <td>train_Client_0</td>\n",
              "      <td>2015-03-23</td>\n",
              "      <td>11.0</td>\n",
              "      <td>1335667.0</td>\n",
              "      <td>0.0</td>\n",
              "      <td>203.0</td>\n",
              "      <td>8.0</td>\n",
              "      <td>1.0</td>\n",
              "      <td>123.0</td>\n",
              "      <td>0.0</td>\n",
              "      <td>0.0</td>\n",
              "      <td>0.0</td>\n",
              "      <td>14624.0</td>\n",
              "      <td>14747.0</td>\n",
              "      <td>4.0</td>\n",
              "      <td>ELEC</td>\n",
              "    </tr>\n",
              "    <tr>\n",
              "      <th>3</th>\n",
              "      <td>train_Client_0</td>\n",
              "      <td>2015-07-13</td>\n",
              "      <td>11.0</td>\n",
              "      <td>1335667.0</td>\n",
              "      <td>0.0</td>\n",
              "      <td>207.0</td>\n",
              "      <td>8.0</td>\n",
              "      <td>1.0</td>\n",
              "      <td>102.0</td>\n",
              "      <td>0.0</td>\n",
              "      <td>0.0</td>\n",
              "      <td>0.0</td>\n",
              "      <td>14747.0</td>\n",
              "      <td>14849.0</td>\n",
              "      <td>4.0</td>\n",
              "      <td>ELEC</td>\n",
              "    </tr>\n",
              "    <tr>\n",
              "      <th>4</th>\n",
              "      <td>train_Client_0</td>\n",
              "      <td>2016-11-17</td>\n",
              "      <td>11.0</td>\n",
              "      <td>1335667.0</td>\n",
              "      <td>0.0</td>\n",
              "      <td>207.0</td>\n",
              "      <td>9.0</td>\n",
              "      <td>1.0</td>\n",
              "      <td>572.0</td>\n",
              "      <td>0.0</td>\n",
              "      <td>0.0</td>\n",
              "      <td>0.0</td>\n",
              "      <td>15066.0</td>\n",
              "      <td>15638.0</td>\n",
              "      <td>12.0</td>\n",
              "      <td>ELEC</td>\n",
              "    </tr>\n",
              "  </tbody>\n",
              "</table>\n",
              "</div>"
            ],
            "text/plain": [
              "        client_id invoice_date  ...  months_number  counter_type\n",
              "0  train_Client_0   2014-03-24  ...            4.0          ELEC\n",
              "1  train_Client_0   2013-03-29  ...            4.0          ELEC\n",
              "2  train_Client_0   2015-03-23  ...            4.0          ELEC\n",
              "3  train_Client_0   2015-07-13  ...            4.0          ELEC\n",
              "4  train_Client_0   2016-11-17  ...           12.0          ELEC\n",
              "\n",
              "[5 rows x 16 columns]"
            ]
          },
          "metadata": {
            "tags": []
          },
          "execution_count": 7
        }
      ]
    },
    {
      "cell_type": "markdown",
      "metadata": {
        "id": "ZFIOtvcMSL_w"
      },
      "source": [
        ".\n",
        ".\n",
        "## Check the shape of the invoice training dataset"
      ]
    },
    {
      "cell_type": "code",
      "metadata": {
        "colab": {
          "base_uri": "https://localhost:8080/"
        },
        "id": "syrjnWLOSL_x",
        "outputId": "537d58eb-4109-4a25-a483-e83b1a0e8e74"
      },
      "source": [
        "invoice_train.shape"
      ],
      "execution_count": 8,
      "outputs": [
        {
          "output_type": "execute_result",
          "data": {
            "text/plain": [
              "(94664, 16)"
            ]
          },
          "metadata": {
            "tags": []
          },
          "execution_count": 8
        }
      ]
    },
    {
      "cell_type": "markdown",
      "metadata": {
        "id": "wOfR9ZKtSL_z"
      },
      "source": [
        ".\n",
        ".\n",
        "## Load the invoice testing dataset"
      ]
    },
    {
      "cell_type": "code",
      "metadata": {
        "colab": {
          "base_uri": "https://localhost:8080/",
          "height": 224
        },
        "id": "AIe42irWSL_0",
        "outputId": "cdb7e557-04e0-4223-fcd6-7034148130c5"
      },
      "source": [
        "invoice_test = pd.read_csv('invoice_test.csv')\n",
        "invoice_test.head(5)"
      ],
      "execution_count": 9,
      "outputs": [
        {
          "output_type": "execute_result",
          "data": {
            "text/html": [
              "<div>\n",
              "<style scoped>\n",
              "    .dataframe tbody tr th:only-of-type {\n",
              "        vertical-align: middle;\n",
              "    }\n",
              "\n",
              "    .dataframe tbody tr th {\n",
              "        vertical-align: top;\n",
              "    }\n",
              "\n",
              "    .dataframe thead th {\n",
              "        text-align: right;\n",
              "    }\n",
              "</style>\n",
              "<table border=\"1\" class=\"dataframe\">\n",
              "  <thead>\n",
              "    <tr style=\"text-align: right;\">\n",
              "      <th></th>\n",
              "      <th>client_id</th>\n",
              "      <th>invoice_date</th>\n",
              "      <th>tarif_type</th>\n",
              "      <th>counter_number</th>\n",
              "      <th>counter_statue</th>\n",
              "      <th>counter_code</th>\n",
              "      <th>reading_remarque</th>\n",
              "      <th>counter_coefficient</th>\n",
              "      <th>consommation_level_1</th>\n",
              "      <th>consommation_level_2</th>\n",
              "      <th>consommation_level_3</th>\n",
              "      <th>consommation_level_4</th>\n",
              "      <th>old_index</th>\n",
              "      <th>new_index</th>\n",
              "      <th>months_number</th>\n",
              "      <th>counter_type</th>\n",
              "    </tr>\n",
              "  </thead>\n",
              "  <tbody>\n",
              "    <tr>\n",
              "      <th>0</th>\n",
              "      <td>test_Client_0</td>\n",
              "      <td>2018-03-16</td>\n",
              "      <td>11</td>\n",
              "      <td>651208</td>\n",
              "      <td>0</td>\n",
              "      <td>203</td>\n",
              "      <td>8</td>\n",
              "      <td>1</td>\n",
              "      <td>755</td>\n",
              "      <td>0</td>\n",
              "      <td>0</td>\n",
              "      <td>0</td>\n",
              "      <td>19145</td>\n",
              "      <td>19900</td>\n",
              "      <td>8</td>\n",
              "      <td>ELEC</td>\n",
              "    </tr>\n",
              "    <tr>\n",
              "      <th>1</th>\n",
              "      <td>test_Client_0</td>\n",
              "      <td>2014-03-21</td>\n",
              "      <td>11</td>\n",
              "      <td>651208</td>\n",
              "      <td>0</td>\n",
              "      <td>203</td>\n",
              "      <td>8</td>\n",
              "      <td>1</td>\n",
              "      <td>1067</td>\n",
              "      <td>0</td>\n",
              "      <td>0</td>\n",
              "      <td>0</td>\n",
              "      <td>13725</td>\n",
              "      <td>14792</td>\n",
              "      <td>8</td>\n",
              "      <td>ELEC</td>\n",
              "    </tr>\n",
              "    <tr>\n",
              "      <th>2</th>\n",
              "      <td>test_Client_0</td>\n",
              "      <td>2014-07-17</td>\n",
              "      <td>11</td>\n",
              "      <td>651208</td>\n",
              "      <td>0</td>\n",
              "      <td>203</td>\n",
              "      <td>8</td>\n",
              "      <td>1</td>\n",
              "      <td>0</td>\n",
              "      <td>0</td>\n",
              "      <td>0</td>\n",
              "      <td>0</td>\n",
              "      <td>14792</td>\n",
              "      <td>14792</td>\n",
              "      <td>4</td>\n",
              "      <td>ELEC</td>\n",
              "    </tr>\n",
              "    <tr>\n",
              "      <th>3</th>\n",
              "      <td>test_Client_0</td>\n",
              "      <td>2015-07-13</td>\n",
              "      <td>11</td>\n",
              "      <td>651208</td>\n",
              "      <td>0</td>\n",
              "      <td>203</td>\n",
              "      <td>9</td>\n",
              "      <td>1</td>\n",
              "      <td>410</td>\n",
              "      <td>0</td>\n",
              "      <td>0</td>\n",
              "      <td>0</td>\n",
              "      <td>16122</td>\n",
              "      <td>16532</td>\n",
              "      <td>4</td>\n",
              "      <td>ELEC</td>\n",
              "    </tr>\n",
              "    <tr>\n",
              "      <th>4</th>\n",
              "      <td>test_Client_0</td>\n",
              "      <td>2016-07-19</td>\n",
              "      <td>11</td>\n",
              "      <td>651208</td>\n",
              "      <td>0</td>\n",
              "      <td>203</td>\n",
              "      <td>9</td>\n",
              "      <td>1</td>\n",
              "      <td>412</td>\n",
              "      <td>0</td>\n",
              "      <td>0</td>\n",
              "      <td>0</td>\n",
              "      <td>17471</td>\n",
              "      <td>17883</td>\n",
              "      <td>4</td>\n",
              "      <td>ELEC</td>\n",
              "    </tr>\n",
              "  </tbody>\n",
              "</table>\n",
              "</div>"
            ],
            "text/plain": [
              "       client_id invoice_date  ...  months_number  counter_type\n",
              "0  test_Client_0   2018-03-16  ...              8          ELEC\n",
              "1  test_Client_0   2014-03-21  ...              8          ELEC\n",
              "2  test_Client_0   2014-07-17  ...              4          ELEC\n",
              "3  test_Client_0   2015-07-13  ...              4          ELEC\n",
              "4  test_Client_0   2016-07-19  ...              4          ELEC\n",
              "\n",
              "[5 rows x 16 columns]"
            ]
          },
          "metadata": {
            "tags": []
          },
          "execution_count": 9
        }
      ]
    },
    {
      "cell_type": "markdown",
      "metadata": {
        "id": "1H4c_BzBSL_3"
      },
      "source": [
        ".\n",
        ".\n",
        "## Check the shape of the invoice testing dataset"
      ]
    },
    {
      "cell_type": "code",
      "metadata": {
        "colab": {
          "base_uri": "https://localhost:8080/"
        },
        "id": "BewhNo9HSL_4",
        "outputId": "9ba0ce6c-0744-41d1-c1b5-dbcca2d264d4"
      },
      "source": [
        "invoice_test.shape"
      ],
      "execution_count": 10,
      "outputs": [
        {
          "output_type": "execute_result",
          "data": {
            "text/plain": [
              "(97031, 16)"
            ]
          },
          "metadata": {
            "tags": []
          },
          "execution_count": 10
        }
      ]
    },
    {
      "cell_type": "markdown",
      "metadata": {
        "id": "bXeXCVd4SL_5"
      },
      "source": [
        "## Take a look at the sample submission"
      ]
    },
    {
      "cell_type": "code",
      "metadata": {
        "colab": {
          "base_uri": "https://localhost:8080/",
          "height": 0
        },
        "id": "l2p2UYx0SL_6",
        "outputId": "ea644a07-cf70-46ca-a050-9317a2f393ad"
      },
      "source": [
        "SampleSubmission = pd.read_csv('SampleSubmission.csv')\n",
        "SampleSubmission.head(5)"
      ],
      "execution_count": 11,
      "outputs": [
        {
          "output_type": "execute_result",
          "data": {
            "text/html": [
              "<div>\n",
              "<style scoped>\n",
              "    .dataframe tbody tr th:only-of-type {\n",
              "        vertical-align: middle;\n",
              "    }\n",
              "\n",
              "    .dataframe tbody tr th {\n",
              "        vertical-align: top;\n",
              "    }\n",
              "\n",
              "    .dataframe thead th {\n",
              "        text-align: right;\n",
              "    }\n",
              "</style>\n",
              "<table border=\"1\" class=\"dataframe\">\n",
              "  <thead>\n",
              "    <tr style=\"text-align: right;\">\n",
              "      <th></th>\n",
              "      <th>client_id</th>\n",
              "      <th>target</th>\n",
              "    </tr>\n",
              "  </thead>\n",
              "  <tbody>\n",
              "    <tr>\n",
              "      <th>0</th>\n",
              "      <td>test_Client_0</td>\n",
              "      <td>0.957281</td>\n",
              "    </tr>\n",
              "    <tr>\n",
              "      <th>1</th>\n",
              "      <td>test_Client_1</td>\n",
              "      <td>0.996425</td>\n",
              "    </tr>\n",
              "    <tr>\n",
              "      <th>2</th>\n",
              "      <td>test_Client_10</td>\n",
              "      <td>0.612359</td>\n",
              "    </tr>\n",
              "    <tr>\n",
              "      <th>3</th>\n",
              "      <td>test_Client_100</td>\n",
              "      <td>0.776933</td>\n",
              "    </tr>\n",
              "    <tr>\n",
              "      <th>4</th>\n",
              "      <td>test_Client_1000</td>\n",
              "      <td>0.571046</td>\n",
              "    </tr>\n",
              "  </tbody>\n",
              "</table>\n",
              "</div>"
            ],
            "text/plain": [
              "          client_id    target\n",
              "0     test_Client_0  0.957281\n",
              "1     test_Client_1  0.996425\n",
              "2    test_Client_10  0.612359\n",
              "3   test_Client_100  0.776933\n",
              "4  test_Client_1000  0.571046"
            ]
          },
          "metadata": {
            "tags": []
          },
          "execution_count": 11
        }
      ]
    },
    {
      "cell_type": "markdown",
      "metadata": {
        "id": "9uTred2wSL_7"
      },
      "source": [
        "\n",
        "# . \n",
        "\n",
        "# Missing values\n",
        "Let's check if there's any missing values in our data."
      ]
    },
    {
      "cell_type": "code",
      "metadata": {
        "colab": {
          "base_uri": "https://localhost:8080/"
        },
        "id": "sNznG_S8SL_7",
        "outputId": "043f1c9d-e11c-4292-86f5-55d9159b8556"
      },
      "source": [
        "client_train.isnull().sum() "
      ],
      "execution_count": 16,
      "outputs": [
        {
          "output_type": "execute_result",
          "data": {
            "text/plain": [
              "disrict          0\n",
              "client_id        0\n",
              "client_catg      0\n",
              "region           0\n",
              "creation_date    0\n",
              "target           0\n",
              "dtype: int64"
            ]
          },
          "metadata": {
            "tags": []
          },
          "execution_count": 16
        }
      ]
    },
    {
      "cell_type": "code",
      "metadata": {
        "colab": {
          "base_uri": "https://localhost:8080/"
        },
        "id": "8PEEX6BkSL_8",
        "outputId": "27155a16-6137-4a0a-c97d-8c9615f9c88d"
      },
      "source": [
        "client_test.isnull().sum() "
      ],
      "execution_count": 17,
      "outputs": [
        {
          "output_type": "execute_result",
          "data": {
            "text/plain": [
              "disrict          0\n",
              "client_id        0\n",
              "client_catg      0\n",
              "region           0\n",
              "creation_date    0\n",
              "dtype: int64"
            ]
          },
          "metadata": {
            "tags": []
          },
          "execution_count": 17
        }
      ]
    },
    {
      "cell_type": "code",
      "metadata": {
        "colab": {
          "base_uri": "https://localhost:8080/"
        },
        "id": "dqopErf1SL_9",
        "outputId": "b2745454-0990-452d-cb02-cf7ae4a1eaba"
      },
      "source": [
        "invoice_train.isnull().sum() "
      ],
      "execution_count": 18,
      "outputs": [
        {
          "output_type": "execute_result",
          "data": {
            "text/plain": [
              "client_id               0\n",
              "invoice_date            0\n",
              "tarif_type              1\n",
              "counter_number          1\n",
              "counter_statue          1\n",
              "counter_code            1\n",
              "reading_remarque        1\n",
              "counter_coefficient     1\n",
              "consommation_level_1    1\n",
              "consommation_level_2    1\n",
              "consommation_level_3    1\n",
              "consommation_level_4    1\n",
              "old_index               1\n",
              "new_index               1\n",
              "months_number           1\n",
              "counter_type            1\n",
              "dtype: int64"
            ]
          },
          "metadata": {
            "tags": []
          },
          "execution_count": 18
        }
      ]
    },
    {
      "cell_type": "code",
      "metadata": {
        "colab": {
          "base_uri": "https://localhost:8080/"
        },
        "id": "zI5gXbIeSL__",
        "outputId": "211237a0-eedf-428e-bcea-0879f21c9621"
      },
      "source": [
        "invoice_test.isnull().sum() "
      ],
      "execution_count": 19,
      "outputs": [
        {
          "output_type": "execute_result",
          "data": {
            "text/plain": [
              "client_id               0\n",
              "invoice_date            0\n",
              "tarif_type              0\n",
              "counter_number          0\n",
              "counter_statue          0\n",
              "counter_code            0\n",
              "reading_remarque        0\n",
              "counter_coefficient     0\n",
              "consommation_level_1    0\n",
              "consommation_level_2    0\n",
              "consommation_level_3    0\n",
              "consommation_level_4    0\n",
              "old_index               0\n",
              "new_index               0\n",
              "months_number           0\n",
              "counter_type            1\n",
              "dtype: int64"
            ]
          },
          "metadata": {
            "tags": []
          },
          "execution_count": 19
        }
      ]
    },
    {
      "cell_type": "markdown",
      "metadata": {
        "id": "VoaOaM23SMAA"
      },
      "source": [
        "# Combining the data sets"
      ]
    },
    {
      "cell_type": "code",
      "metadata": {
        "colab": {
          "base_uri": "https://localhost:8080/"
        },
        "id": "OMw0VxcsSMAB",
        "outputId": "884c77a0-c1c8-4347-80cb-0f3ff9d56ae0"
      },
      "source": [
        "new_df = invoice_train.merge(client_train, left_on='client_id', right_on='client_id',\n",
        "          suffixes=('', None))\n",
        "new_df_test = invoice_test.merge(client_test, left_on='client_id', right_on='client_id',\n",
        "          suffixes=('', None))\n",
        "\n",
        "# Drop duplicates\n",
        "new_df = new_df.drop_duplicates(subset=[\"client_id\"])\n",
        "new_df_test = new_df_test.drop_duplicates(subset=[\"client_id\"])\n",
        "new_df['client_id']"
      ],
      "execution_count": 20,
      "outputs": [
        {
          "output_type": "execute_result",
          "data": {
            "text/plain": [
              "0             train_Client_0\n",
              "35            train_Client_1\n",
              "72           train_Client_10\n",
              "90          train_Client_100\n",
              "110        train_Client_1000\n",
              "                ...         \n",
              "94425    train_Client_102543\n",
              "94459    train_Client_102544\n",
              "94495    train_Client_102545\n",
              "94567    train_Client_102546\n",
              "94636    train_Client_102547\n",
              "Name: client_id, Length: 2835, dtype: object"
            ]
          },
          "metadata": {
            "tags": []
          },
          "execution_count": 20
        }
      ]
    },
    {
      "cell_type": "code",
      "metadata": {
        "colab": {
          "base_uri": "https://localhost:8080/"
        },
        "id": "NCCNtbg4SMAB",
        "outputId": "47630233-793d-4682-ff78-502dd134ff88"
      },
      "source": [
        "new_df_test.columns"
      ],
      "execution_count": 21,
      "outputs": [
        {
          "output_type": "execute_result",
          "data": {
            "text/plain": [
              "Index(['client_id', 'invoice_date', 'tarif_type', 'counter_number',\n",
              "       'counter_statue', 'counter_code', 'reading_remarque',\n",
              "       'counter_coefficient', 'consommation_level_1', 'consommation_level_2',\n",
              "       'consommation_level_3', 'consommation_level_4', 'old_index',\n",
              "       'new_index', 'months_number', 'counter_type', 'disrict', 'client_catg',\n",
              "       'region', 'creation_date'],\n",
              "      dtype='object')"
            ]
          },
          "metadata": {
            "tags": []
          },
          "execution_count": 21
        }
      ]
    },
    {
      "cell_type": "code",
      "metadata": {
        "colab": {
          "base_uri": "https://localhost:8080/"
        },
        "id": "wjelhOMHSMAj",
        "outputId": "aa331664-ca4a-4d5b-9902-837a65f69f12"
      },
      "source": [
        "new_df.columns"
      ],
      "execution_count": 22,
      "outputs": [
        {
          "output_type": "execute_result",
          "data": {
            "text/plain": [
              "Index(['client_id', 'invoice_date', 'tarif_type', 'counter_number',\n",
              "       'counter_statue', 'counter_code', 'reading_remarque',\n",
              "       'counter_coefficient', 'consommation_level_1', 'consommation_level_2',\n",
              "       'consommation_level_3', 'consommation_level_4', 'old_index',\n",
              "       'new_index', 'months_number', 'counter_type', 'disrict', 'client_catg',\n",
              "       'region', 'creation_date', 'target'],\n",
              "      dtype='object')"
            ]
          },
          "metadata": {
            "tags": []
          },
          "execution_count": 22
        }
      ]
    },
    {
      "cell_type": "markdown",
      "metadata": {
        "id": "3TugnFB_SMAj"
      },
      "source": [
        "## Check for NaN values to make sure everything went well"
      ]
    },
    {
      "cell_type": "code",
      "metadata": {
        "colab": {
          "base_uri": "https://localhost:8080/"
        },
        "id": "J5uaj4w4SMAj",
        "outputId": "bcd5f8f5-e628-4aa6-87d3-1498da9a431d"
      },
      "source": [
        "new_df.isna().sum()"
      ],
      "execution_count": 23,
      "outputs": [
        {
          "output_type": "execute_result",
          "data": {
            "text/plain": [
              "client_id               0\n",
              "invoice_date            0\n",
              "tarif_type              0\n",
              "counter_number          0\n",
              "counter_statue          0\n",
              "counter_code            0\n",
              "reading_remarque        0\n",
              "counter_coefficient     0\n",
              "consommation_level_1    0\n",
              "consommation_level_2    0\n",
              "consommation_level_3    0\n",
              "consommation_level_4    0\n",
              "old_index               0\n",
              "new_index               0\n",
              "months_number           0\n",
              "counter_type            0\n",
              "disrict                 0\n",
              "client_catg             0\n",
              "region                  0\n",
              "creation_date           0\n",
              "target                  0\n",
              "dtype: int64"
            ]
          },
          "metadata": {
            "tags": []
          },
          "execution_count": 23
        }
      ]
    },
    {
      "cell_type": "markdown",
      "metadata": {
        "id": "qMAtE6bDSMAl"
      },
      "source": [
        "# .\n",
        "# EDA + Feature Engineering"
      ]
    },
    {
      "cell_type": "code",
      "metadata": {
        "colab": {
          "base_uri": "https://localhost:8080/",
          "height": 402
        },
        "id": "oVysvSx3SMAl",
        "outputId": "f5f8a712-e5ca-46d7-b0e0-68adec950fcf"
      },
      "source": [
        "# Look at correlation with target\n",
        "new_df.corr()['target'].sort_values().plot(kind='bar', color ='g', figsize=(18, 6))"
      ],
      "execution_count": 24,
      "outputs": [
        {
          "output_type": "execute_result",
          "data": {
            "text/plain": [
              "<matplotlib.axes._subplots.AxesSubplot at 0x7f87e6b04fd0>"
            ]
          },
          "metadata": {
            "tags": []
          },
          "execution_count": 24
        },
        {
          "output_type": "display_data",
          "data": {
            "image/png": "[encoded data removed]",
            "text/plain": [
              "<Figure size 1296x432 with 1 Axes>"
            ]
          },
          "metadata": {
            "tags": [],
            "needs_background": "light"
          }
        }
      ]
    },
    {
      "cell_type": "markdown",
      "metadata": {
        "id": "X8mrtwlGSMAm"
      },
      "source": [
        "\n",
        ".\n",
        "\n",
        "\n",
        "## Take a look at the correlation between the variables"
      ]
    },
    {
      "cell_type": "code",
      "metadata": {
        "colab": {
          "base_uri": "https://localhost:8080/",
          "height": 553
        },
        "id": "t4mYxWlXSMAm",
        "outputId": "0eaa803c-e30a-4730-cd8e-d38071376ebb"
      },
      "source": [
        "Correlation  = new_df.corr(method = 'pearson')\n",
        "\n",
        "plt.figure(figsize=(25,12))\n",
        "sns.heatmap(Correlation, annot=True)\n",
        "plt.tick_params(axis='y', labelsize=15)\n",
        "plt.tick_params(axis='x', labelsize=15)\n",
        "plt.suptitle(\"CORRELATION BETWEEN THE VARIABLES\", fontsize = 30)\n",
        "plt.show()"
      ],
      "execution_count": 25,
      "outputs": [
        {
          "output_type": "display_data",
          "data": {
            "image/png": "[encoded data removed]",
            "text/plain": [
              "<Figure size 1800x864 with 2 Axes>"
            ]
          },
          "metadata": {
            "tags": [],
            "needs_background": "light"
          }
        }
      ]
    },
    {
      "cell_type": "markdown",
      "metadata": {
        "id": "CLkewF-QSMAn"
      },
      "source": [
        "From the correlation heatmap, we observe that the avariables (old index and new index) are strongly correlated.Putting features that are highly correlated to a model brings the problem of collinearity and could lower the performance of a model. You can decide to train one model with all the features, and then another with only the poorly correlated features and compare their accuracy."
      ]
    },
    {
      "cell_type": "code",
      "metadata": {
        "colab": {
          "base_uri": "https://localhost:8080/"
        },
        "id": "uG2g5emsSMAp",
        "outputId": "7adb7585-be33-4db1-e392-b3d8b902b62e"
      },
      "source": [
        "new_df.info()"
      ],
      "execution_count": 26,
      "outputs": [
        {
          "output_type": "stream",
          "text": [
            "<class 'pandas.core.frame.DataFrame'>\n",
            "Int64Index: 2835 entries, 0 to 94636\n",
            "Data columns (total 21 columns):\n",
            " #   Column                Non-Null Count  Dtype  \n",
            "---  ------                --------------  -----  \n",
            " 0   client_id             2835 non-null   object \n",
            " 1   invoice_date          2835 non-null   object \n",
            " 2   tarif_type            2835 non-null   float64\n",
            " 3   counter_number        2835 non-null   float64\n",
            " 4   counter_statue        2835 non-null   float64\n",
            " 5   counter_code          2835 non-null   float64\n",
            " 6   reading_remarque      2835 non-null   float64\n",
            " 7   counter_coefficient   2835 non-null   float64\n",
            " 8   consommation_level_1  2835 non-null   float64\n",
            " 9   consommation_level_2  2835 non-null   float64\n",
            " 10  consommation_level_3  2835 non-null   float64\n",
            " 11  consommation_level_4  2835 non-null   float64\n",
            " 12  old_index             2835 non-null   float64\n",
            " 13  new_index             2835 non-null   float64\n",
            " 14  months_number         2835 non-null   float64\n",
            " 15  counter_type          2835 non-null   object \n",
            " 16  disrict               2835 non-null   int64  \n",
            " 17  client_catg           2835 non-null   int64  \n",
            " 18  region                2835 non-null   int64  \n",
            " 19  creation_date         2835 non-null   object \n",
            " 20  target                2835 non-null   float64\n",
            "dtypes: float64(14), int64(3), object(4)\n",
            "memory usage: 487.3+ KB\n"
          ],
          "name": "stdout"
        }
      ]
    },
    {
      "cell_type": "markdown",
      "metadata": {
        "id": "0vl8W0yJSMAp"
      },
      "source": [
        "## Simple Feature engineering"
      ]
    },
    {
      "cell_type": "markdown",
      "metadata": {
        "id": "8sNdPlB1SMAq"
      },
      "source": [
        "#### Trend of of electricty fraud, based off of the month of joining "
      ]
    },
    {
      "cell_type": "code",
      "metadata": {
        "colab": {
          "base_uri": "https://localhost:8080/",
          "height": 0
        },
        "id": "ek4VtbdnSMAr",
        "outputId": "f269b6fc-8deb-45da-9272-1d07cec80ffe"
      },
      "source": [
        "\n",
        "new_df['creation_date'] = pd.to_datetime(new_df['creation_date'])\n",
        "new_df_test['creation_date'] = pd.to_datetime(new_df_test['creation_date'])\n",
        "\n",
        "# Date variables\n",
        "new_df_test['joining_month'] = new_df_test['creation_date'].dt.month\n",
        "new_df_test['joining_year'] = new_df_test['creation_date'].dt.year\n",
        "\n",
        "new_df['joining_month'] = new_df['creation_date'].dt.month\n",
        "new_df['joining_year'] = new_df['creation_date'].dt.year\n",
        "\n",
        "\n",
        "plt.figure(figsize = (20, 15))\n",
        "new_df.groupby('joining_month').mean().reset_index().plot(y='target', x='joining_month', kind='bar', figsize = (20,6))"
      ],
      "execution_count": 27,
      "outputs": [
        {
          "output_type": "execute_result",
          "data": {
            "text/plain": [
              "<matplotlib.axes._subplots.AxesSubplot at 0x7f87de2f5890>"
            ]
          },
          "metadata": {
            "tags": []
          },
          "execution_count": 27
        },
        {
          "output_type": "display_data",
          "data": {
            "text/plain": [
              "<Figure size 1440x1080 with 0 Axes>"
            ]
          },
          "metadata": {
            "tags": []
          }
        },
        {
          "output_type": "display_data",
          "data": {
            "image/png": "[encoded data removed]",
            "text/plain": [
              "<Figure size 1440x432 with 1 Axes>"
            ]
          },
          "metadata": {
            "tags": [],
            "needs_background": "light"
          }
        }
      ]
    },
    {
      "cell_type": "code",
      "metadata": {
        "colab": {
          "base_uri": "https://localhost:8080/",
          "height": 0
        },
        "id": "NNXg1lhoSMAs",
        "outputId": "bf0a1b62-c745-46c2-970d-6127982bd1b8"
      },
      "source": [
        "new_df"
      ],
      "execution_count": 28,
      "outputs": [
        {
          "output_type": "execute_result",
          "data": {
            "text/html": [
              "<div>\n",
              "<style scoped>\n",
              "    .dataframe tbody tr th:only-of-type {\n",
              "        vertical-align: middle;\n",
              "    }\n",
              "\n",
              "    .dataframe tbody tr th {\n",
              "        vertical-align: top;\n",
              "    }\n",
              "\n",
              "    .dataframe thead th {\n",
              "        text-align: right;\n",
              "    }\n",
              "</style>\n",
              "<table border=\"1\" class=\"dataframe\">\n",
              "  <thead>\n",
              "    <tr style=\"text-align: right;\">\n",
              "      <th></th>\n",
              "      <th>client_id</th>\n",
              "      <th>invoice_date</th>\n",
              "      <th>tarif_type</th>\n",
              "      <th>counter_number</th>\n",
              "      <th>counter_statue</th>\n",
              "      <th>counter_code</th>\n",
              "      <th>reading_remarque</th>\n",
              "      <th>counter_coefficient</th>\n",
              "      <th>consommation_level_1</th>\n",
              "      <th>consommation_level_2</th>\n",
              "      <th>consommation_level_3</th>\n",
              "      <th>consommation_level_4</th>\n",
              "      <th>old_index</th>\n",
              "      <th>new_index</th>\n",
              "      <th>months_number</th>\n",
              "      <th>counter_type</th>\n",
              "      <th>disrict</th>\n",
              "      <th>client_catg</th>\n",
              "      <th>region</th>\n",
              "      <th>creation_date</th>\n",
              "      <th>target</th>\n",
              "      <th>joining_month</th>\n",
              "      <th>joining_year</th>\n",
              "    </tr>\n",
              "  </thead>\n",
              "  <tbody>\n",
              "    <tr>\n",
              "      <th>0</th>\n",
              "      <td>train_Client_0</td>\n",
              "      <td>2014-03-24</td>\n",
              "      <td>11.0</td>\n",
              "      <td>1335667.0</td>\n",
              "      <td>0.0</td>\n",
              "      <td>203.0</td>\n",
              "      <td>8.0</td>\n",
              "      <td>1.0</td>\n",
              "      <td>82.0</td>\n",
              "      <td>0.0</td>\n",
              "      <td>0.0</td>\n",
              "      <td>0.0</td>\n",
              "      <td>14302.0</td>\n",
              "      <td>14384.0</td>\n",
              "      <td>4.0</td>\n",
              "      <td>ELEC</td>\n",
              "      <td>60</td>\n",
              "      <td>11</td>\n",
              "      <td>101</td>\n",
              "      <td>1994-12-31</td>\n",
              "      <td>0.0</td>\n",
              "      <td>12</td>\n",
              "      <td>1994</td>\n",
              "    </tr>\n",
              "    <tr>\n",
              "      <th>35</th>\n",
              "      <td>train_Client_1</td>\n",
              "      <td>2010-09-02</td>\n",
              "      <td>11.0</td>\n",
              "      <td>678902.0</td>\n",
              "      <td>0.0</td>\n",
              "      <td>203.0</td>\n",
              "      <td>8.0</td>\n",
              "      <td>1.0</td>\n",
              "      <td>388.0</td>\n",
              "      <td>0.0</td>\n",
              "      <td>0.0</td>\n",
              "      <td>0.0</td>\n",
              "      <td>11429.0</td>\n",
              "      <td>11817.0</td>\n",
              "      <td>2.0</td>\n",
              "      <td>ELEC</td>\n",
              "      <td>69</td>\n",
              "      <td>11</td>\n",
              "      <td>107</td>\n",
              "      <td>2002-05-29</td>\n",
              "      <td>0.0</td>\n",
              "      <td>5</td>\n",
              "      <td>2002</td>\n",
              "    </tr>\n",
              "    <tr>\n",
              "      <th>72</th>\n",
              "      <td>train_Client_10</td>\n",
              "      <td>2010-02-15</td>\n",
              "      <td>11.0</td>\n",
              "      <td>572765.0</td>\n",
              "      <td>0.0</td>\n",
              "      <td>203.0</td>\n",
              "      <td>8.0</td>\n",
              "      <td>1.0</td>\n",
              "      <td>407.0</td>\n",
              "      <td>0.0</td>\n",
              "      <td>0.0</td>\n",
              "      <td>0.0</td>\n",
              "      <td>31955.0</td>\n",
              "      <td>32362.0</td>\n",
              "      <td>4.0</td>\n",
              "      <td>ELEC</td>\n",
              "      <td>62</td>\n",
              "      <td>11</td>\n",
              "      <td>301</td>\n",
              "      <td>1986-03-13</td>\n",
              "      <td>0.0</td>\n",
              "      <td>3</td>\n",
              "      <td>1986</td>\n",
              "    </tr>\n",
              "    <tr>\n",
              "      <th>90</th>\n",
              "      <td>train_Client_100</td>\n",
              "      <td>2009-10-22</td>\n",
              "      <td>11.0</td>\n",
              "      <td>2078.0</td>\n",
              "      <td>0.0</td>\n",
              "      <td>413.0</td>\n",
              "      <td>6.0</td>\n",
              "      <td>1.0</td>\n",
              "      <td>0.0</td>\n",
              "      <td>0.0</td>\n",
              "      <td>0.0</td>\n",
              "      <td>0.0</td>\n",
              "      <td>98.0</td>\n",
              "      <td>98.0</td>\n",
              "      <td>4.0</td>\n",
              "      <td>ELEC</td>\n",
              "      <td>69</td>\n",
              "      <td>11</td>\n",
              "      <td>105</td>\n",
              "      <td>1996-11-07</td>\n",
              "      <td>0.0</td>\n",
              "      <td>11</td>\n",
              "      <td>1996</td>\n",
              "    </tr>\n",
              "    <tr>\n",
              "      <th>110</th>\n",
              "      <td>train_Client_1000</td>\n",
              "      <td>2015-02-13</td>\n",
              "      <td>11.0</td>\n",
              "      <td>19575.0</td>\n",
              "      <td>0.0</td>\n",
              "      <td>207.0</td>\n",
              "      <td>9.0</td>\n",
              "      <td>1.0</td>\n",
              "      <td>800.0</td>\n",
              "      <td>159.0</td>\n",
              "      <td>0.0</td>\n",
              "      <td>0.0</td>\n",
              "      <td>0.0</td>\n",
              "      <td>959.0</td>\n",
              "      <td>4.0</td>\n",
              "      <td>ELEC</td>\n",
              "      <td>62</td>\n",
              "      <td>11</td>\n",
              "      <td>303</td>\n",
              "      <td>2014-10-14</td>\n",
              "      <td>0.0</td>\n",
              "      <td>10</td>\n",
              "      <td>2014</td>\n",
              "    </tr>\n",
              "    <tr>\n",
              "      <th>...</th>\n",
              "      <td>...</td>\n",
              "      <td>...</td>\n",
              "      <td>...</td>\n",
              "      <td>...</td>\n",
              "      <td>...</td>\n",
              "      <td>...</td>\n",
              "      <td>...</td>\n",
              "      <td>...</td>\n",
              "      <td>...</td>\n",
              "      <td>...</td>\n",
              "      <td>...</td>\n",
              "      <td>...</td>\n",
              "      <td>...</td>\n",
              "      <td>...</td>\n",
              "      <td>...</td>\n",
              "      <td>...</td>\n",
              "      <td>...</td>\n",
              "      <td>...</td>\n",
              "      <td>...</td>\n",
              "      <td>...</td>\n",
              "      <td>...</td>\n",
              "      <td>...</td>\n",
              "      <td>...</td>\n",
              "    </tr>\n",
              "    <tr>\n",
              "      <th>94425</th>\n",
              "      <td>train_Client_102543</td>\n",
              "      <td>2012-11-06</td>\n",
              "      <td>11.0</td>\n",
              "      <td>161271.0</td>\n",
              "      <td>0.0</td>\n",
              "      <td>413.0</td>\n",
              "      <td>8.0</td>\n",
              "      <td>1.0</td>\n",
              "      <td>248.0</td>\n",
              "      <td>0.0</td>\n",
              "      <td>0.0</td>\n",
              "      <td>0.0</td>\n",
              "      <td>7377.0</td>\n",
              "      <td>7625.0</td>\n",
              "      <td>4.0</td>\n",
              "      <td>ELEC</td>\n",
              "      <td>60</td>\n",
              "      <td>11</td>\n",
              "      <td>101</td>\n",
              "      <td>2007-05-30</td>\n",
              "      <td>0.0</td>\n",
              "      <td>5</td>\n",
              "      <td>2007</td>\n",
              "    </tr>\n",
              "    <tr>\n",
              "      <th>94459</th>\n",
              "      <td>train_Client_102544</td>\n",
              "      <td>2017-09-06</td>\n",
              "      <td>11.0</td>\n",
              "      <td>599677.0</td>\n",
              "      <td>0.0</td>\n",
              "      <td>413.0</td>\n",
              "      <td>9.0</td>\n",
              "      <td>1.0</td>\n",
              "      <td>273.0</td>\n",
              "      <td>0.0</td>\n",
              "      <td>0.0</td>\n",
              "      <td>0.0</td>\n",
              "      <td>3682.0</td>\n",
              "      <td>3955.0</td>\n",
              "      <td>4.0</td>\n",
              "      <td>ELEC</td>\n",
              "      <td>60</td>\n",
              "      <td>11</td>\n",
              "      <td>101</td>\n",
              "      <td>1990-10-29</td>\n",
              "      <td>0.0</td>\n",
              "      <td>10</td>\n",
              "      <td>1990</td>\n",
              "    </tr>\n",
              "    <tr>\n",
              "      <th>94495</th>\n",
              "      <td>train_Client_102545</td>\n",
              "      <td>2007-04-09</td>\n",
              "      <td>40.0</td>\n",
              "      <td>103851.0</td>\n",
              "      <td>0.0</td>\n",
              "      <td>5.0</td>\n",
              "      <td>6.0</td>\n",
              "      <td>1.0</td>\n",
              "      <td>0.0</td>\n",
              "      <td>0.0</td>\n",
              "      <td>0.0</td>\n",
              "      <td>0.0</td>\n",
              "      <td>0.0</td>\n",
              "      <td>0.0</td>\n",
              "      <td>4.0</td>\n",
              "      <td>GAZ</td>\n",
              "      <td>62</td>\n",
              "      <td>11</td>\n",
              "      <td>305</td>\n",
              "      <td>1989-07-11</td>\n",
              "      <td>0.0</td>\n",
              "      <td>7</td>\n",
              "      <td>1989</td>\n",
              "    </tr>\n",
              "    <tr>\n",
              "      <th>94567</th>\n",
              "      <td>train_Client_102546</td>\n",
              "      <td>2017-11-22</td>\n",
              "      <td>11.0</td>\n",
              "      <td>139993.0</td>\n",
              "      <td>0.0</td>\n",
              "      <td>413.0</td>\n",
              "      <td>9.0</td>\n",
              "      <td>1.0</td>\n",
              "      <td>748.0</td>\n",
              "      <td>0.0</td>\n",
              "      <td>0.0</td>\n",
              "      <td>0.0</td>\n",
              "      <td>23508.0</td>\n",
              "      <td>24256.0</td>\n",
              "      <td>4.0</td>\n",
              "      <td>ELEC</td>\n",
              "      <td>69</td>\n",
              "      <td>11</td>\n",
              "      <td>104</td>\n",
              "      <td>2006-06-13</td>\n",
              "      <td>0.0</td>\n",
              "      <td>6</td>\n",
              "      <td>2006</td>\n",
              "    </tr>\n",
              "    <tr>\n",
              "      <th>94636</th>\n",
              "      <td>train_Client_102547</td>\n",
              "      <td>2007-12-12</td>\n",
              "      <td>10.0</td>\n",
              "      <td>9525254.0</td>\n",
              "      <td>0.0</td>\n",
              "      <td>202.0</td>\n",
              "      <td>6.0</td>\n",
              "      <td>1.0</td>\n",
              "      <td>200.0</td>\n",
              "      <td>350.0</td>\n",
              "      <td>0.0</td>\n",
              "      <td>0.0</td>\n",
              "      <td>23489.0</td>\n",
              "      <td>24039.0</td>\n",
              "      <td>4.0</td>\n",
              "      <td>ELEC</td>\n",
              "      <td>60</td>\n",
              "      <td>11</td>\n",
              "      <td>101</td>\n",
              "      <td>1977-08-11</td>\n",
              "      <td>0.0</td>\n",
              "      <td>8</td>\n",
              "      <td>1977</td>\n",
              "    </tr>\n",
              "  </tbody>\n",
              "</table>\n",
              "<p>2835 rows × 23 columns</p>\n",
              "</div>"
            ],
            "text/plain": [
              "                 client_id invoice_date  ...  joining_month  joining_year\n",
              "0           train_Client_0   2014-03-24  ...             12          1994\n",
              "35          train_Client_1   2010-09-02  ...              5          2002\n",
              "72         train_Client_10   2010-02-15  ...              3          1986\n",
              "90        train_Client_100   2009-10-22  ...             11          1996\n",
              "110      train_Client_1000   2015-02-13  ...             10          2014\n",
              "...                    ...          ...  ...            ...           ...\n",
              "94425  train_Client_102543   2012-11-06  ...              5          2007\n",
              "94459  train_Client_102544   2017-09-06  ...             10          1990\n",
              "94495  train_Client_102545   2007-04-09  ...              7          1989\n",
              "94567  train_Client_102546   2017-11-22  ...              6          2006\n",
              "94636  train_Client_102547   2007-12-12  ...              8          1977\n",
              "\n",
              "[2835 rows x 23 columns]"
            ]
          },
          "metadata": {
            "tags": []
          },
          "execution_count": 28
        }
      ]
    },
    {
      "cell_type": "markdown",
      "metadata": {
        "id": "Ru0VpqkGSMAs"
      },
      "source": [
        "## Trend of of electricty fraud, based off of the year of joining "
      ]
    },
    {
      "cell_type": "code",
      "metadata": {
        "colab": {
          "base_uri": "https://localhost:8080/",
          "height": 0
        },
        "id": "0LngEH6mSMAt",
        "outputId": "b94aab1b-5b25-43e9-f8f1-09eab3d8cff4"
      },
      "source": [
        "new_df.groupby('joining_year').mean().reset_index().plot(y='target', x='joining_year',figsize = (20,6))"
      ],
      "execution_count": 29,
      "outputs": [
        {
          "output_type": "execute_result",
          "data": {
            "text/plain": [
              "<matplotlib.axes._subplots.AxesSubplot at 0x7f87e6a5c590>"
            ]
          },
          "metadata": {
            "tags": []
          },
          "execution_count": 29
        },
        {
          "output_type": "display_data",
          "data": {
            "image/png": "[encoded data removed]",
            "text/plain": [
              "<Figure size 1440x432 with 1 Axes>"
            ]
          },
          "metadata": {
            "tags": [],
            "needs_background": "light"
          }
        }
      ]
    },
    {
      "cell_type": "markdown",
      "metadata": {
        "id": "1uD2eHMcSMAu"
      },
      "source": [
        "## You can do more!!!"
      ]
    },
    {
      "cell_type": "markdown",
      "metadata": {
        "id": "HJaU77fySMAu"
      },
      "source": [
        "You can continue to look at different features and make visualizations that would allow yoiu to better understand the data"
      ]
    },
    {
      "cell_type": "markdown",
      "metadata": {
        "id": "mzIAjEq0SMAv"
      },
      "source": [
        "# Model Evaluation"
      ]
    },
    {
      "cell_type": "markdown",
      "metadata": {
        "id": "FB_lOgmkSMAv"
      },
      "source": [
        "We already have split datasets, so no need of splitting them more.\n",
        "\n",
        "And since the target has a high correlation with each independent variable, we shall incorporate all."
      ]
    },
    {
      "cell_type": "code",
      "metadata": {
        "colab": {
          "base_uri": "https://localhost:8080/"
        },
        "id": "E3ux_GBZSMAv",
        "outputId": "fb61d893-51af-442b-edd0-dd9cf8b3a95a"
      },
      "source": [
        "new_df.info()"
      ],
      "execution_count": 30,
      "outputs": [
        {
          "output_type": "stream",
          "text": [
            "<class 'pandas.core.frame.DataFrame'>\n",
            "Int64Index: 2835 entries, 0 to 94636\n",
            "Data columns (total 23 columns):\n",
            " #   Column                Non-Null Count  Dtype         \n",
            "---  ------                --------------  -----         \n",
            " 0   client_id             2835 non-null   object        \n",
            " 1   invoice_date          2835 non-null   object        \n",
            " 2   tarif_type            2835 non-null   float64       \n",
            " 3   counter_number        2835 non-null   float64       \n",
            " 4   counter_statue        2835 non-null   float64       \n",
            " 5   counter_code          2835 non-null   float64       \n",
            " 6   reading_remarque      2835 non-null   float64       \n",
            " 7   counter_coefficient   2835 non-null   float64       \n",
            " 8   consommation_level_1  2835 non-null   float64       \n",
            " 9   consommation_level_2  2835 non-null   float64       \n",
            " 10  consommation_level_3  2835 non-null   float64       \n",
            " 11  consommation_level_4  2835 non-null   float64       \n",
            " 12  old_index             2835 non-null   float64       \n",
            " 13  new_index             2835 non-null   float64       \n",
            " 14  months_number         2835 non-null   float64       \n",
            " 15  counter_type          2835 non-null   object        \n",
            " 16  disrict               2835 non-null   int64         \n",
            " 17  client_catg           2835 non-null   int64         \n",
            " 18  region                2835 non-null   int64         \n",
            " 19  creation_date         2835 non-null   datetime64[ns]\n",
            " 20  target                2835 non-null   float64       \n",
            " 21  joining_month         2835 non-null   int64         \n",
            " 22  joining_year          2835 non-null   int64         \n",
            "dtypes: datetime64[ns](1), float64(14), int64(5), object(3)\n",
            "memory usage: 531.6+ KB\n"
          ],
          "name": "stdout"
        }
      ]
    },
    {
      "cell_type": "markdown",
      "metadata": {
        "id": "-LXeYo4-SMAw"
      },
      "source": [
        ""
      ]
    },
    {
      "cell_type": "code",
      "metadata": {
        "id": "DQnuqZOhSMAw"
      },
      "source": [
        "\n",
        "y_train = new_df['target']\n",
        "X_train = new_df[['tarif_type', 'counter_number',\n",
        "        'counter_code', 'reading_remarque',\n",
        "       'counter_coefficient', 'consommation_level_1', 'consommation_level_2',\n",
        "       'consommation_level_3', 'consommation_level_4', 'old_index',\n",
        "       'new_index', 'months_number',  'disrict', 'client_catg',\n",
        "       'region', 'joining_month', 'joining_year']]\n",
        "\n",
        "\n",
        "\n",
        "X_test = new_df_test[['tarif_type', 'counter_number',\n",
        "        'counter_code', 'reading_remarque',\n",
        "       'counter_coefficient', 'consommation_level_1', 'consommation_level_2',\n",
        "       'consommation_level_3', 'consommation_level_4', 'old_index',\n",
        "       'new_index', 'months_number',  'disrict', 'client_catg',\n",
        "       'region', 'joining_month', 'joining_year']]\n"
      ],
      "execution_count": 31,
      "outputs": []
    },
    {
      "cell_type": "markdown",
      "metadata": {
        "id": "VbgTu_qhSMAx"
      },
      "source": [
        "Lets test model on our model"
      ]
    },
    {
      "cell_type": "markdown",
      "metadata": {
        "id": "Y5M0PRqaSMAy"
      },
      "source": [
        "Define our Evaluation model"
      ]
    },
    {
      "cell_type": "code",
      "metadata": {
        "id": "2Nnxv9OJSMAy"
      },
      "source": [
        "def evaluate_model(model,X,y):\n",
        "    cv = RepeatedStratifiedKFold(n_splits = 10,n_repeats = 3, random_state =1)\n",
        "    scores = cross_val_score(model,X,y,scoring='accuracy',cv=cv,n_jobs=-1,error_score='raise')\n",
        "    return scores"
      ],
      "execution_count": 32,
      "outputs": []
    },
    {
      "cell_type": "code",
      "metadata": {
        "colab": {
          "base_uri": "https://localhost:8080/"
        },
        "id": "_lLpm-utSMAz",
        "outputId": "71756021-9d7a-4f27-d730-1fa68386698d"
      },
      "source": [
        "\n",
        "# create array of models to evaluate\n",
        "models = []\n",
        "models.append(('LoR',LogisticRegression()))\n",
        "models.append(('Dec_Tree',DecisionTreeClassifier(max_depth=5, random_state=0)))\n",
        "models.append(('KNN',KNeighborsClassifier(n_neighbors = 10)))\n",
        "models.append(('LDA',LinearDiscriminantAnalysis()))\n",
        "models.append(('GaussianNB',GaussianNB()))\n",
        "# models.append(('SVM',SVC()))\n",
        "# models.append(('R_Forest',RandomForestClassifier(n_estimators = 190, random_state=0)))\n",
        "\n",
        "\n",
        "files = []\n",
        "names = []\n",
        "list_of_lists = []\n",
        "predictions =[]\n",
        "scores = []\n",
        "\n",
        "for name,model in models:\n",
        "    model.fit(X_train,y_train)\n",
        "    \n",
        "    pred_name = \"y\" + name\n",
        "    \n",
        "    pred_name = model.predict(X_test)\n",
        "    \n",
        "    print(name, \" Accuracy: \" ,np.mean(evaluate_model(model,X_train,y_train)))\n",
        "    ss = pd.DataFrame()\n",
        "    ss['client_id'] = new_df_test['client_id']\n",
        "    ss['target'] = pred_name \n",
        "    ss.to_csv(name + \".csv\",index=False)\n",
        "        \n",
        "    names.append(name)\n",
        "    predictions.append(pred_name)\n",
        "\n",
        "list_of_lists.append(predictions)\n",
        "list_of_lists.append(names)"
      ],
      "execution_count": 33,
      "outputs": [
        {
          "output_type": "stream",
          "text": [
            "/usr/local/lib/python3.7/dist-packages/sklearn/linear_model/_logistic.py:940: ConvergenceWarning: lbfgs failed to converge (status=2):\n",
            "ABNORMAL_TERMINATION_IN_LNSRCH.\n",
            "\n",
            "Increase the number of iterations (max_iter) or scale the data as shown in:\n",
            "    https://scikit-learn.org/stable/modules/preprocessing.html\n",
            "Please also refer to the documentation for alternative solver options:\n",
            "    https://scikit-learn.org/stable/modules/linear_model.html#logistic-regression\n",
            "  extra_warning_msg=_LOGISTIC_SOLVER_CONVERGENCE_MSG)\n"
          ],
          "name": "stderr"
        },
        {
          "output_type": "stream",
          "text": [
            "LoR  Accuracy:  0.940741800627084\n",
            "Dec_Tree  Accuracy:  0.9365089832279897\n",
            "KNN  Accuracy:  0.940741800627084\n",
            "LDA  Accuracy:  0.9355662834486306\n",
            "GaussianNB  Accuracy:  0.940741800627084\n"
          ],
          "name": "stdout"
        }
      ]
    },
    {
      "cell_type": "markdown",
      "metadata": {
        "id": "1uaXfdWYSMA0"
      },
      "source": [
        "##  After submitting to Zindi, the scores:"
      ]
    },
    {
      "cell_type": "markdown",
      "metadata": {
        "id": "UUaKyEenSMA1"
      },
      "source": [
        "\n"
      ]
    },
    {
      "cell_type": "markdown",
      "metadata": {
        "id": "Y2KdMZM1SMA1"
      },
      "source": [
        "Logistic Regression : 0.5"
      ]
    },
    {
      "cell_type": "markdown",
      "metadata": {
        "id": "6-aSZUwhSMA2"
      },
      "source": [
        "Decision Tree: 0.50580499496815"
      ]
    },
    {
      "cell_type": "markdown",
      "metadata": {
        "id": "aiHWO0dOSMA2"
      },
      "source": [
        "KNN: 0.50214540863999\n"
      ]
    },
    {
      "cell_type": "markdown",
      "metadata": {
        "id": "iVDNfqhNSMA2"
      },
      "source": [
        "Linear Discriminant Analysis: 0.500871236158714\n"
      ]
    },
    {
      "cell_type": "markdown",
      "metadata": {
        "id": "79LcUkHeSMA2"
      },
      "source": [
        "Gaussian : 0.5"
      ]
    },
    {
      "cell_type": "markdown",
      "metadata": {
        "id": "-PIldwL9SMA3"
      },
      "source": [
        "Random Forest : 0.503808680471835"
      ]
    },
    {
      "cell_type": "markdown",
      "metadata": {
        "id": "DqBon3f5SMA3"
      },
      "source": [
        "SVM : 0.5"
      ]
    },
    {
      "cell_type": "markdown",
      "metadata": {
        "id": "v7fGBTphSMA3"
      },
      "source": [
        "Bagging Decision Tree: 0.510623312135955"
      ]
    },
    {
      "cell_type": "markdown",
      "metadata": {
        "id": "7VM3GfwDSMA6"
      },
      "source": [
        "# Let's split our dataset into train and test our models with test and train splits"
      ]
    },
    {
      "cell_type": "code",
      "metadata": {
        "id": "obh4i956SMA6"
      },
      "source": [
        "X_train_split, X_test_split, y_train_split, y_test_split = train_test_split(X_train, y_train, test_size=0.33,random_state=42)"
      ],
      "execution_count": 35,
      "outputs": []
    },
    {
      "cell_type": "code",
      "metadata": {
        "colab": {
          "base_uri": "https://localhost:8080/"
        },
        "id": "pYUixv62SMA7",
        "outputId": "83dc86db-3850-4a5e-a429-86edf33d899e"
      },
      "source": [
        "scaler = StandardScaler()\n",
        "scaler.fit(X_train_split)\n",
        "scaler.transform(X_train_split)\n",
        "# Repeat same thing now evaluating our models\n",
        "models = []\n",
        "models.append(('LoR_split',LogisticRegression(random_state=0,max_iter = 1000)))\n",
        "models.append(('Dec_Tree_split',DecisionTreeClassifier(max_depth=5, random_state=0)))\n",
        "models.append(('KNN_split',KNeighborsClassifier(n_neighbors = 10)))\n",
        "models.append(('LDA_split',LinearDiscriminantAnalysis()))\n",
        "models.append(('GaussianNB_split',GaussianNB()))\n",
        "# models.append(('SVM_split',SVC()))\n",
        "# \n",
        "files = []\n",
        "names = []\n",
        "list_of_lists = []\n",
        "predictions =[]\n",
        "scores = []\n",
        "\n",
        "for name,model in models:\n",
        "    model.fit(X_train_split,y_train_split)\n",
        "    \n",
        "    pred_name = \"y\" + name\n",
        "    \n",
        "    pred_name = model.predict(X_test_split)\n",
        "    \n",
        "    # evaluate model\n",
        "    print(name,\" MAE :\", mean_absolute_error(y_test_split,pred_name))\n",
        "    print(name,\" Model Accuracy : \", np.mean(evaluate_model(model,X_test_split,y_test_split)))\n",
        "\n",
        "    \n",
        "        \n",
        "    names.append(name)\n",
        "    predictions.append(pred_name)\n",
        "\n",
        "list_of_lists.append(predictions)\n",
        "list_of_lists.append(names)"
      ],
      "execution_count": 36,
      "outputs": [
        {
          "output_type": "stream",
          "text": [
            "/usr/local/lib/python3.7/dist-packages/sklearn/linear_model/_logistic.py:940: ConvergenceWarning: lbfgs failed to converge (status=2):\n",
            "ABNORMAL_TERMINATION_IN_LNSRCH.\n",
            "\n",
            "Increase the number of iterations (max_iter) or scale the data as shown in:\n",
            "    https://scikit-learn.org/stable/modules/preprocessing.html\n",
            "Please also refer to the documentation for alternative solver options:\n",
            "    https://scikit-learn.org/stable/modules/linear_model.html#logistic-regression\n",
            "  extra_warning_msg=_LOGISTIC_SOLVER_CONVERGENCE_MSG)\n"
          ],
          "name": "stderr"
        },
        {
          "output_type": "stream",
          "text": [
            "LoR_split  MAE : 0.057692307692307696\n",
            "LoR_split  Model Accuracy :  0.9423244108899564\n",
            "Dec_Tree_split  MAE : 0.05876068376068376\n",
            "Dec_Tree_split  Model Accuracy :  0.9284336154960726\n",
            "KNN_split  MAE : 0.057692307692307696\n",
            "KNN_split  Model Accuracy :  0.9423244108899564\n",
            "LDA_split  MAE : 0.05876068376068376\n",
            "LDA_split  Model Accuracy :  0.9355601311675437\n",
            "GaussianNB_split  MAE : 0.057692307692307696\n",
            "GaussianNB_split  Model Accuracy :  0.9423244108899564\n"
          ],
          "name": "stdout"
        }
      ]
    },
    {
      "cell_type": "markdown",
      "metadata": {
        "id": "H8Fk9J5PSMA8"
      },
      "source": [
        "## Let's use to boosting ensemble our models with Catboost"
      ]
    },
    {
      "cell_type": "code",
      "metadata": {
        "colab": {
          "base_uri": "https://localhost:8080/"
        },
        "id": "AamlznaTSMA9",
        "outputId": "7f1826a1-f586-42e4-aa30-20e4f12b8e70"
      },
      "source": [
        "model = CatBoostClassifier(iterations = 1000,learning_rate = 1, depth = 2,metric_period=100)\n",
        "model = model.fit(X_train,y_train)\n",
        "pred_y = model.predict(X_test)\n",
        "\n",
        "# create submission_csv\n",
        "ss_boost = pd.DataFrame()\n",
        "ss_boost['client_id'] = new_df_test['client_id']\n",
        "ss_boost['target'] = pred_y\n",
        "ss_boost.to_csv(\"Catboost\" + \".csv\",index=False)\n",
        "\n",
        "print(\"Catboost\",\" Model Accuracy : \", np.mean(evaluate_model(model,X_test_split,y_test_split)))\n"
      ],
      "execution_count": 37,
      "outputs": [
        {
          "output_type": "stream",
          "text": [
            "0:\tlearn: 0.2237226\ttotal: 49.6ms\tremaining: 49.6s\n",
            "100:\tlearn: 0.1237373\ttotal: 183ms\tremaining: 1.63s\n",
            "200:\tlearn: 0.0749233\ttotal: 318ms\tremaining: 1.26s\n",
            "300:\tlearn: 0.0493269\ttotal: 452ms\tremaining: 1.05s\n",
            "400:\tlearn: 0.0317684\ttotal: 587ms\tremaining: 876ms\n",
            "500:\tlearn: 0.0219376\ttotal: 726ms\tremaining: 723ms\n",
            "600:\tlearn: 0.0155817\ttotal: 867ms\tremaining: 576ms\n",
            "700:\tlearn: 0.0114647\ttotal: 1s\tremaining: 429ms\n",
            "800:\tlearn: 0.0090245\ttotal: 1.14s\tremaining: 284ms\n",
            "900:\tlearn: 0.0074499\ttotal: 1.27s\tremaining: 140ms\n",
            "999:\tlearn: 0.0069395\ttotal: 1.4s\tremaining: 0us\n",
            "Catboost  Model Accuracy :  0.9181308625028597\n"
          ],
          "name": "stdout"
        }
      ]
    },
    {
      "cell_type": "markdown",
      "metadata": {
        "id": "sCP7hRWESMA9"
      },
      "source": [
        "##  Let's try a stacking ensemble model with a few models"
      ]
    },
    {
      "cell_type": "code",
      "metadata": {
        "colab": {
          "base_uri": "https://localhost:8080/"
        },
        "id": "YDs3R2TLSMA-",
        "outputId": "2aa57314-fdc7-4364-d13c-8dcc33f69c79"
      },
      "source": [
        "scaler = StandardScaler()\n",
        "scaler.fit(X_train)\n",
        "# scaler.transform(X_train)\n",
        "\n",
        "def stack_models():\n",
        "    # base models\n",
        "    models = []\n",
        "    # models.append(('LoR_split',LogisticRegression(random_state=0,max_iter=1000)))\n",
        "    models.append(('Dec_Tree_split',DecisionTreeClassifier(max_depth=5, random_state=0)))\n",
        "    models.append(('KNN_split',KNeighborsClassifier(n_neighbors = 10)))\n",
        "    models.append(('LDA_split',LinearDiscriminantAnalysis()))\n",
        "    models.append(('GaussianNB_split',GaussianNB()))\n",
        "    models.append(('SVM_split',SVC()))\n",
        "    # estimator model\n",
        "    fin_estimator = LogisticRegression()\n",
        "    # stacking ensemble\n",
        "    model = StackingClassifier(estimators = models, final_estimator = fin_estimator, cv =5)\n",
        "    return model\n",
        "\n",
        "# Evaluate our stacked model\n",
        "model_stack = stack_models()\n",
        "pred_y = model_stack.fit(X_train,y_train)\n",
        "print(\"Stacked model Accuracy : \", np.mean(evaluate_model(model_stack,X_train,y_train)))\n",
        "\n",
        "ss_boost = pd.DataFrame()\n",
        "ss_boost['client_id'] = new_df_test['client_id']\n",
        "ss_boost['target'] = pred_y \n",
        "ss_boost.to_csv(\"Stacked\" + \".csv\",index=False)"
      ],
      "execution_count": 38,
      "outputs": [
        {
          "output_type": "stream",
          "text": [
            "Stacked model Accuracy :  0.9401528724763184\n"
          ],
          "name": "stdout"
        }
      ]
    },
    {
      "cell_type": "markdown",
      "metadata": {
        "id": "RhegGUeNSMBN"
      },
      "source": [
        "##  Let's try an bagging ensemble model with a few models"
      ]
    },
    {
      "cell_type": "code",
      "metadata": {
        "colab": {
          "base_uri": "https://localhost:8080/"
        },
        "id": "kwemdiR7SMBN",
        "outputId": "41057615-82c2-4a4f-f5f4-c51236695bd4"
      },
      "source": [
        "models = []\n",
        "models.append(('Bg_C_ExtraTree', BaggingClassifier(base_estimator = ExtraTreeClassifier(random_state = 0),random_state=0)))\n",
        "models.append(('Bg_C_SVM', BaggingClassifier(base_estimator = SVC(), n_estimators = 10,random_state=0)))\n",
        "models.append(('Bg_C_DTree', BaggingClassifier(base_estimator = DecisionTreeClassifier(max_depth=5, random_state=0), n_estimators = 10,random_state=0)))\n",
        "models.append(('R_Forest_split',RandomForestClassifier(n_estimators = 190, random_state=0)))\n",
        "\n",
        "for name,model in models:\n",
        "    model.fit(X_train,y_train)\n",
        "    \n",
        "    pred_name = \"y\" + name\n",
        "    \n",
        "    pred_name = model.predict(X_test)\n",
        "    \n",
        "    print(name, \" Accuracy: \" ,np.mean(evaluate_model(model,X_train,y_train)))\n",
        "    \n",
        "    # create csv\n",
        "    ss_bagging = pd.DataFrame()\n",
        "    ss_bagging['client_id'] = new_df_test['client_id']\n",
        "    ss_bagging['target'] = pred_name \n",
        "    ss_bagging.to_csv(name + \".csv\",index=False)"
      ],
      "execution_count": 39,
      "outputs": [
        {
          "output_type": "stream",
          "text": [
            "Bg_C_ExtraTree  Accuracy:  0.9382728645133461\n",
            "Bg_C_SVM  Accuracy:  0.940741800627084\n",
            "Bg_C_DTree  Accuracy:  0.9401532872144528\n",
            "R_Forest_split  Accuracy:  0.9400363310605684\n"
          ],
          "name": "stdout"
        }
      ]
    },
    {
      "cell_type": "code",
      "metadata": {
        "id": "m9TKvF54SMBP"
      },
      "source": [
        ""
      ],
      "execution_count": 39,
      "outputs": []
    },
    {
      "cell_type": "markdown",
      "metadata": {
        "id": "BhZEVNmaSMBQ"
      },
      "source": [
        "## You can do more to improve the model!\n",
        "#### More Boosting Algorithms e.g XgBoost, AdaBoost\n",
        "#### More Ensembles i.e Bagging, Voting, Gradient Boosting"
      ]
    }
  ]
}