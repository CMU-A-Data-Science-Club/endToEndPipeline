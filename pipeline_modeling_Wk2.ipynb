{
  "nbformat": 4,
  "nbformat_minor": 0,
  "metadata": {
    "colab": {
      "name": "pipeline_modeling_Wk2.ipynb",
      "provenance": [],
      "collapsed_sections": [
        "qEUss2JJSL_d",
        "pScAL89HSL_j",
        "NOyP9w5jSL_m",
        "YeRdbmoDSL_r",
        "uuHuOZzoSL_t",
        "ZFIOtvcMSL_w",
        "wOfR9ZKtSL_z",
        "1H4c_BzBSL_3",
        "bXeXCVd4SL_5",
        "9uTred2wSL_7",
        "VoaOaM23SMAA",
        "3TugnFB_SMAj",
        "qMAtE6bDSMAl",
        "0vl8W0yJSMAp",
        "8sNdPlB1SMAq",
        "Ru0VpqkGSMAs",
        "1uD2eHMcSMAu",
        "7VM3GfwDSMA6",
        "H8Fk9J5PSMA8",
        "3EdRkGQrHUMB",
        "t62_vJILOIyW",
        "sCP7hRWESMA9",
        "RhegGUeNSMBN",
        "4dDN3EAs8Of-",
        "3KSUvrPnn9bA"
      ]
    },
    "kernelspec": {
      "display_name": "Python 3",
      "language": "python",
      "name": "python3"
    },
    "language_info": {
      "codemirror_mode": {
        "name": "ipython",
        "version": 3
      },
      "file_extension": ".py",
      "mimetype": "text/x-python",
      "name": "python",
      "nbconvert_exporter": "python",
      "pygments_lexer": "ipython3",
      "version": "3.8.3"
    }
  },
  "cells": [
    {
      "cell_type": "markdown",
      "metadata": {
        "id": "bcIPwpD8-nvN"
      },
      "source": [
        "# Load data from google drive"
      ]
    },
    {
      "cell_type": "code",
      "metadata": {
        "colab": {
          "base_uri": "https://localhost:8080/"
        },
        "id": "iG1K9MSEx9hL",
        "outputId": "b036f8f5-3125-4e47-d8fc-72cdf481d10f"
      },
      "source": [
        "from google.colab import drive\n",
        "drive.mount('/content/drive')"
      ],
      "execution_count": 1,
      "outputs": [
        {
          "output_type": "stream",
          "text": [
            "Drive already mounted at /content/drive; to attempt to forcibly remount, call drive.mount(\"/content/drive\", force_remount=True).\n"
          ],
          "name": "stdout"
        }
      ]
    },
    {
      "cell_type": "code",
      "metadata": {
        "colab": {
          "base_uri": "https://localhost:8080/"
        },
        "id": "cdqIHKBTyHgd",
        "outputId": "0071517e-6f38-4b21-a553-9391f9e71a5d"
      },
      "source": [
        "!ls \"/content/drive/My Drive/Zindi_dataset\""
      ],
      "execution_count": 2,
      "outputs": [
        {
          "output_type": "stream",
          "text": [
            "client_test.csv   invoice_test.csv   SampleSubmission.csv\n",
            "client_train.csv  invoice_train.csv\n"
          ],
          "name": "stdout"
        }
      ]
    },
    {
      "cell_type": "markdown",
      "metadata": {
        "id": "oS_MygQsSL_V"
      },
      "source": [
        "# FRAUD DETECTION\n",
        "\n",
        "This notebook should help you get started with any competition on Zindi. In it we cover:\n",
        "- Loading the data\n",
        "- Simple EDA and an example of feature enginnering"
      ]
    },
    {
      "cell_type": "code",
      "metadata": {
        "colab": {
          "base_uri": "https://localhost:8080/"
        },
        "id": "EY9sg8RLTYvS",
        "outputId": "165faef1-e97b-40cd-90a4-2254e3856e38"
      },
      "source": [
        "!pip install catboost"
      ],
      "execution_count": 3,
      "outputs": [
        {
          "output_type": "stream",
          "text": [
            "Requirement already satisfied: catboost in /usr/local/lib/python3.7/dist-packages (0.24.4)\n",
            "Requirement already satisfied: matplotlib in /usr/local/lib/python3.7/dist-packages (from catboost) (3.2.2)\n",
            "Requirement already satisfied: pandas>=0.24.0 in /usr/local/lib/python3.7/dist-packages (from catboost) (1.1.5)\n",
            "Requirement already satisfied: graphviz in /usr/local/lib/python3.7/dist-packages (from catboost) (0.10.1)\n",
            "Requirement already satisfied: plotly in /usr/local/lib/python3.7/dist-packages (from catboost) (4.4.1)\n",
            "Requirement already satisfied: scipy in /usr/local/lib/python3.7/dist-packages (from catboost) (1.4.1)\n",
            "Requirement already satisfied: six in /usr/local/lib/python3.7/dist-packages (from catboost) (1.15.0)\n",
            "Requirement already satisfied: numpy>=1.16.0 in /usr/local/lib/python3.7/dist-packages (from catboost) (1.19.5)\n",
            "Requirement already satisfied: python-dateutil>=2.1 in /usr/local/lib/python3.7/dist-packages (from matplotlib->catboost) (2.8.1)\n",
            "Requirement already satisfied: cycler>=0.10 in /usr/local/lib/python3.7/dist-packages (from matplotlib->catboost) (0.10.0)\n",
            "Requirement already satisfied: pyparsing!=2.0.4,!=2.1.2,!=2.1.6,>=2.0.1 in /usr/local/lib/python3.7/dist-packages (from matplotlib->catboost) (2.4.7)\n",
            "Requirement already satisfied: kiwisolver>=1.0.1 in /usr/local/lib/python3.7/dist-packages (from matplotlib->catboost) (1.3.1)\n",
            "Requirement already satisfied: pytz>=2017.2 in /usr/local/lib/python3.7/dist-packages (from pandas>=0.24.0->catboost) (2018.9)\n",
            "Requirement already satisfied: retrying>=1.3.3 in /usr/local/lib/python3.7/dist-packages (from plotly->catboost) (1.3.3)\n"
          ],
          "name": "stdout"
        }
      ]
    },
    {
      "cell_type": "markdown",
      "metadata": {
        "id": "GG2CbQRDSL_a"
      },
      "source": [
        "# Setup\n",
        "\n",
        "Load the data into the notebook."
      ]
    },
    {
      "cell_type": "code",
      "metadata": {
        "id": "PUkXE8bQSL_c",
        "colab": {
          "base_uri": "https://localhost:8080/"
        },
        "outputId": "7af9db65-780f-4147-d46b-c8b369714c9d"
      },
      "source": [
        "import pandas as pd\n",
        "import numpy as np\n",
        "from matplotlib import pyplot as plt\n",
        "import seaborn as sns\n",
        "import statsmodels.api as sm\n",
        "\n",
        "##Supress warnings\n",
        "import sys\n",
        "import warnings\n",
        "\n",
        "if not sys.warnoptions:\n",
        "    warnings.simplefilter(\"ignore\")\n",
        " \n",
        "warnings.filterwarnings('ignore')\n",
        "\n",
        "from sklearn.preprocessing import StandardScaler\n",
        "    \n",
        "# Models\n",
        "from sklearn.linear_model import LinearRegression, LogisticRegression\n",
        "from sklearn.metrics import mean_absolute_error\n",
        "from sklearn.neighbors import KNeighborsClassifier\n",
        "from sklearn import preprocessing\n",
        "from sklearn.tree import DecisionTreeClassifier, ExtraTreeClassifier\n",
        "from sklearn.discriminant_analysis import LinearDiscriminantAnalysis\n",
        "from sklearn.naive_bayes import GaussianNB\n",
        "from sklearn.svm import SVC\n",
        "from sklearn.model_selection import train_test_split\n",
        "from sklearn.model_selection import RepeatedStratifiedKFold\n",
        "from sklearn.model_selection import cross_val_score\n",
        "\n",
        "# ensembles\n",
        "from sklearn.ensemble import BaggingClassifier\n",
        "from sklearn.ensemble import StackingClassifier\n",
        "from sklearn.ensemble import RandomForestClassifier\n",
        "\n",
        "# boosting \n",
        "from catboost import CatBoostClassifier\n",
        "\n",
        "# Metrics\n",
        "from sklearn.metrics import mean_absolute_error\n",
        "from sklearn.metrics import accuracy_score\n",
        "from sklearn.metrics import r2_score, confusion_matrix, recall_score,precision_score"
      ],
      "execution_count": 4,
      "outputs": [
        {
          "output_type": "stream",
          "text": [
            "/usr/local/lib/python3.7/dist-packages/statsmodels/tools/_testing.py:19: FutureWarning: pandas.util.testing is deprecated. Use the functions in the public API at pandas.testing instead.\n",
            "  import pandas.util.testing as tm\n"
          ],
          "name": "stderr"
        }
      ]
    },
    {
      "cell_type": "markdown",
      "metadata": {
        "id": "qEUss2JJSL_d"
      },
      "source": [
        "## Load the client training dataset"
      ]
    },
    {
      "cell_type": "code",
      "metadata": {
        "colab": {
          "base_uri": "https://localhost:8080/",
          "height": 0
        },
        "id": "DzulfHzoSL_e",
        "outputId": "e2a9ef7c-a105-4cf0-ee12-0dd2f2ab6879"
      },
      "source": [
        "client_train = pd.read_csv('/content/drive/My Drive/Zindi_dataset/client_train.csv')\n",
        "client_train.head(5)"
      ],
      "execution_count": 5,
      "outputs": [
        {
          "output_type": "execute_result",
          "data": {
            "text/html": [
              "<div>\n",
              "<style scoped>\n",
              "    .dataframe tbody tr th:only-of-type {\n",
              "        vertical-align: middle;\n",
              "    }\n",
              "\n",
              "    .dataframe tbody tr th {\n",
              "        vertical-align: top;\n",
              "    }\n",
              "\n",
              "    .dataframe thead th {\n",
              "        text-align: right;\n",
              "    }\n",
              "</style>\n",
              "<table border=\"1\" class=\"dataframe\">\n",
              "  <thead>\n",
              "    <tr style=\"text-align: right;\">\n",
              "      <th></th>\n",
              "      <th>disrict</th>\n",
              "      <th>client_id</th>\n",
              "      <th>client_catg</th>\n",
              "      <th>region</th>\n",
              "      <th>creation_date</th>\n",
              "      <th>target</th>\n",
              "    </tr>\n",
              "  </thead>\n",
              "  <tbody>\n",
              "    <tr>\n",
              "      <th>0</th>\n",
              "      <td>60</td>\n",
              "      <td>train_Client_0</td>\n",
              "      <td>11</td>\n",
              "      <td>101</td>\n",
              "      <td>31/12/1994</td>\n",
              "      <td>0.0</td>\n",
              "    </tr>\n",
              "    <tr>\n",
              "      <th>1</th>\n",
              "      <td>69</td>\n",
              "      <td>train_Client_1</td>\n",
              "      <td>11</td>\n",
              "      <td>107</td>\n",
              "      <td>29/05/2002</td>\n",
              "      <td>0.0</td>\n",
              "    </tr>\n",
              "    <tr>\n",
              "      <th>2</th>\n",
              "      <td>62</td>\n",
              "      <td>train_Client_10</td>\n",
              "      <td>11</td>\n",
              "      <td>301</td>\n",
              "      <td>13/03/1986</td>\n",
              "      <td>0.0</td>\n",
              "    </tr>\n",
              "    <tr>\n",
              "      <th>3</th>\n",
              "      <td>69</td>\n",
              "      <td>train_Client_100</td>\n",
              "      <td>11</td>\n",
              "      <td>105</td>\n",
              "      <td>11/07/1996</td>\n",
              "      <td>0.0</td>\n",
              "    </tr>\n",
              "    <tr>\n",
              "      <th>4</th>\n",
              "      <td>62</td>\n",
              "      <td>train_Client_1000</td>\n",
              "      <td>11</td>\n",
              "      <td>303</td>\n",
              "      <td>14/10/2014</td>\n",
              "      <td>0.0</td>\n",
              "    </tr>\n",
              "  </tbody>\n",
              "</table>\n",
              "</div>"
            ],
            "text/plain": [
              "   disrict          client_id  client_catg  region creation_date  target\n",
              "0       60     train_Client_0           11     101    31/12/1994     0.0\n",
              "1       69     train_Client_1           11     107    29/05/2002     0.0\n",
              "2       62    train_Client_10           11     301    13/03/1986     0.0\n",
              "3       69   train_Client_100           11     105    11/07/1996     0.0\n",
              "4       62  train_Client_1000           11     303    14/10/2014     0.0"
            ]
          },
          "metadata": {
            "tags": []
          },
          "execution_count": 5
        }
      ]
    },
    {
      "cell_type": "markdown",
      "metadata": {
        "id": "pScAL89HSL_j"
      },
      "source": [
        ".\n",
        ".\n",
        "\n",
        "## Check the shape of the client  training dataset"
      ]
    },
    {
      "cell_type": "code",
      "metadata": {
        "colab": {
          "base_uri": "https://localhost:8080/"
        },
        "id": "CTgR-KILSL_k",
        "outputId": "d908c460-a0ab-4a66-d4e5-3afa24079485"
      },
      "source": [
        "client_train.shape"
      ],
      "execution_count": 6,
      "outputs": [
        {
          "output_type": "execute_result",
          "data": {
            "text/plain": [
              "(135493, 6)"
            ]
          },
          "metadata": {
            "tags": []
          },
          "execution_count": 6
        }
      ]
    },
    {
      "cell_type": "markdown",
      "metadata": {
        "id": "NOyP9w5jSL_m"
      },
      "source": [
        "## Load the client testing dataset"
      ]
    },
    {
      "cell_type": "code",
      "metadata": {
        "colab": {
          "base_uri": "https://localhost:8080/"
        },
        "id": "7wU-r5DsSL_m",
        "outputId": "d3366d93-7ed7-4909-efc1-b05fe2197277"
      },
      "source": [
        "client_test = pd.read_csv('/content/drive/My Drive/Zindi_dataset/client_test.csv')\n",
        "client_test['client_id']"
      ],
      "execution_count": 7,
      "outputs": [
        {
          "output_type": "execute_result",
          "data": {
            "text/plain": [
              "0           test_Client_0\n",
              "1           test_Client_1\n",
              "2          test_Client_10\n",
              "3         test_Client_100\n",
              "4        test_Client_1000\n",
              "               ...       \n",
              "58064    test_Client_9995\n",
              "58065    test_Client_9996\n",
              "58066    test_Client_9997\n",
              "58067    test_Client_9998\n",
              "58068    test_Client_9999\n",
              "Name: client_id, Length: 58069, dtype: object"
            ]
          },
          "metadata": {
            "tags": []
          },
          "execution_count": 7
        }
      ]
    },
    {
      "cell_type": "markdown",
      "metadata": {
        "id": "YeRdbmoDSL_r"
      },
      "source": [
        ".\n",
        ".\n",
        "\n",
        "## Check the shape of the client  training dataset"
      ]
    },
    {
      "cell_type": "code",
      "metadata": {
        "colab": {
          "base_uri": "https://localhost:8080/"
        },
        "id": "8d3R1_C6SL_s",
        "outputId": "8df3696b-48e0-4ebf-b5a9-63f7e9182120"
      },
      "source": [
        "client_test.shape"
      ],
      "execution_count": 8,
      "outputs": [
        {
          "output_type": "execute_result",
          "data": {
            "text/plain": [
              "(58069, 5)"
            ]
          },
          "metadata": {
            "tags": []
          },
          "execution_count": 8
        }
      ]
    },
    {
      "cell_type": "markdown",
      "metadata": {
        "id": "uuHuOZzoSL_t"
      },
      "source": [
        ".\n",
        "## Load the invoice training dataset"
      ]
    },
    {
      "cell_type": "code",
      "metadata": {
        "colab": {
          "base_uri": "https://localhost:8080/",
          "height": 0
        },
        "id": "Y9-7-XpTSL_u",
        "outputId": "de898af1-c60d-4f6e-d860-06ac0d58ce85"
      },
      "source": [
        "invoice_train = pd.read_csv('/content/drive/My Drive/Zindi_dataset/invoice_train.csv')\n",
        "invoice_train.head(5)"
      ],
      "execution_count": 9,
      "outputs": [
        {
          "output_type": "execute_result",
          "data": {
            "text/html": [
              "<div>\n",
              "<style scoped>\n",
              "    .dataframe tbody tr th:only-of-type {\n",
              "        vertical-align: middle;\n",
              "    }\n",
              "\n",
              "    .dataframe tbody tr th {\n",
              "        vertical-align: top;\n",
              "    }\n",
              "\n",
              "    .dataframe thead th {\n",
              "        text-align: right;\n",
              "    }\n",
              "</style>\n",
              "<table border=\"1\" class=\"dataframe\">\n",
              "  <thead>\n",
              "    <tr style=\"text-align: right;\">\n",
              "      <th></th>\n",
              "      <th>client_id</th>\n",
              "      <th>invoice_date</th>\n",
              "      <th>tarif_type</th>\n",
              "      <th>counter_number</th>\n",
              "      <th>counter_statue</th>\n",
              "      <th>counter_code</th>\n",
              "      <th>reading_remarque</th>\n",
              "      <th>counter_coefficient</th>\n",
              "      <th>consommation_level_1</th>\n",
              "      <th>consommation_level_2</th>\n",
              "      <th>consommation_level_3</th>\n",
              "      <th>consommation_level_4</th>\n",
              "      <th>old_index</th>\n",
              "      <th>new_index</th>\n",
              "      <th>months_number</th>\n",
              "      <th>counter_type</th>\n",
              "    </tr>\n",
              "  </thead>\n",
              "  <tbody>\n",
              "    <tr>\n",
              "      <th>0</th>\n",
              "      <td>train_Client_0</td>\n",
              "      <td>2014-03-24</td>\n",
              "      <td>11</td>\n",
              "      <td>1335667</td>\n",
              "      <td>0</td>\n",
              "      <td>203</td>\n",
              "      <td>8</td>\n",
              "      <td>1</td>\n",
              "      <td>82</td>\n",
              "      <td>0</td>\n",
              "      <td>0</td>\n",
              "      <td>0</td>\n",
              "      <td>14302</td>\n",
              "      <td>14384</td>\n",
              "      <td>4</td>\n",
              "      <td>ELEC</td>\n",
              "    </tr>\n",
              "    <tr>\n",
              "      <th>1</th>\n",
              "      <td>train_Client_0</td>\n",
              "      <td>2013-03-29</td>\n",
              "      <td>11</td>\n",
              "      <td>1335667</td>\n",
              "      <td>0</td>\n",
              "      <td>203</td>\n",
              "      <td>6</td>\n",
              "      <td>1</td>\n",
              "      <td>1200</td>\n",
              "      <td>184</td>\n",
              "      <td>0</td>\n",
              "      <td>0</td>\n",
              "      <td>12294</td>\n",
              "      <td>13678</td>\n",
              "      <td>4</td>\n",
              "      <td>ELEC</td>\n",
              "    </tr>\n",
              "    <tr>\n",
              "      <th>2</th>\n",
              "      <td>train_Client_0</td>\n",
              "      <td>2015-03-23</td>\n",
              "      <td>11</td>\n",
              "      <td>1335667</td>\n",
              "      <td>0</td>\n",
              "      <td>203</td>\n",
              "      <td>8</td>\n",
              "      <td>1</td>\n",
              "      <td>123</td>\n",
              "      <td>0</td>\n",
              "      <td>0</td>\n",
              "      <td>0</td>\n",
              "      <td>14624</td>\n",
              "      <td>14747</td>\n",
              "      <td>4</td>\n",
              "      <td>ELEC</td>\n",
              "    </tr>\n",
              "    <tr>\n",
              "      <th>3</th>\n",
              "      <td>train_Client_0</td>\n",
              "      <td>2015-07-13</td>\n",
              "      <td>11</td>\n",
              "      <td>1335667</td>\n",
              "      <td>0</td>\n",
              "      <td>207</td>\n",
              "      <td>8</td>\n",
              "      <td>1</td>\n",
              "      <td>102</td>\n",
              "      <td>0</td>\n",
              "      <td>0</td>\n",
              "      <td>0</td>\n",
              "      <td>14747</td>\n",
              "      <td>14849</td>\n",
              "      <td>4</td>\n",
              "      <td>ELEC</td>\n",
              "    </tr>\n",
              "    <tr>\n",
              "      <th>4</th>\n",
              "      <td>train_Client_0</td>\n",
              "      <td>2016-11-17</td>\n",
              "      <td>11</td>\n",
              "      <td>1335667</td>\n",
              "      <td>0</td>\n",
              "      <td>207</td>\n",
              "      <td>9</td>\n",
              "      <td>1</td>\n",
              "      <td>572</td>\n",
              "      <td>0</td>\n",
              "      <td>0</td>\n",
              "      <td>0</td>\n",
              "      <td>15066</td>\n",
              "      <td>15638</td>\n",
              "      <td>12</td>\n",
              "      <td>ELEC</td>\n",
              "    </tr>\n",
              "  </tbody>\n",
              "</table>\n",
              "</div>"
            ],
            "text/plain": [
              "        client_id invoice_date  ...  months_number  counter_type\n",
              "0  train_Client_0   2014-03-24  ...              4          ELEC\n",
              "1  train_Client_0   2013-03-29  ...              4          ELEC\n",
              "2  train_Client_0   2015-03-23  ...              4          ELEC\n",
              "3  train_Client_0   2015-07-13  ...              4          ELEC\n",
              "4  train_Client_0   2016-11-17  ...             12          ELEC\n",
              "\n",
              "[5 rows x 16 columns]"
            ]
          },
          "metadata": {
            "tags": []
          },
          "execution_count": 9
        }
      ]
    },
    {
      "cell_type": "markdown",
      "metadata": {
        "id": "ZFIOtvcMSL_w"
      },
      "source": [
        ".\n",
        ".\n",
        "## Check the shape of the invoice training dataset"
      ]
    },
    {
      "cell_type": "code",
      "metadata": {
        "colab": {
          "base_uri": "https://localhost:8080/"
        },
        "id": "syrjnWLOSL_x",
        "outputId": "76e34498-c3ec-4b98-ffac-74ce89b8fbe6"
      },
      "source": [
        "invoice_train.shape"
      ],
      "execution_count": 10,
      "outputs": [
        {
          "output_type": "execute_result",
          "data": {
            "text/plain": [
              "(4476749, 16)"
            ]
          },
          "metadata": {
            "tags": []
          },
          "execution_count": 10
        }
      ]
    },
    {
      "cell_type": "markdown",
      "metadata": {
        "id": "wOfR9ZKtSL_z"
      },
      "source": [
        ".\n",
        ".\n",
        "## Load the invoice testing dataset"
      ]
    },
    {
      "cell_type": "code",
      "metadata": {
        "colab": {
          "base_uri": "https://localhost:8080/",
          "height": 0
        },
        "id": "AIe42irWSL_0",
        "outputId": "1591641f-0899-4eb4-da2e-b0ebc4737aa5"
      },
      "source": [
        "invoice_test = pd.read_csv('/content/drive/My Drive/Zindi_dataset/invoice_test.csv')\n",
        "invoice_test.head(5)"
      ],
      "execution_count": 11,
      "outputs": [
        {
          "output_type": "execute_result",
          "data": {
            "text/html": [
              "<div>\n",
              "<style scoped>\n",
              "    .dataframe tbody tr th:only-of-type {\n",
              "        vertical-align: middle;\n",
              "    }\n",
              "\n",
              "    .dataframe tbody tr th {\n",
              "        vertical-align: top;\n",
              "    }\n",
              "\n",
              "    .dataframe thead th {\n",
              "        text-align: right;\n",
              "    }\n",
              "</style>\n",
              "<table border=\"1\" class=\"dataframe\">\n",
              "  <thead>\n",
              "    <tr style=\"text-align: right;\">\n",
              "      <th></th>\n",
              "      <th>client_id</th>\n",
              "      <th>invoice_date</th>\n",
              "      <th>tarif_type</th>\n",
              "      <th>counter_number</th>\n",
              "      <th>counter_statue</th>\n",
              "      <th>counter_code</th>\n",
              "      <th>reading_remarque</th>\n",
              "      <th>counter_coefficient</th>\n",
              "      <th>consommation_level_1</th>\n",
              "      <th>consommation_level_2</th>\n",
              "      <th>consommation_level_3</th>\n",
              "      <th>consommation_level_4</th>\n",
              "      <th>old_index</th>\n",
              "      <th>new_index</th>\n",
              "      <th>months_number</th>\n",
              "      <th>counter_type</th>\n",
              "    </tr>\n",
              "  </thead>\n",
              "  <tbody>\n",
              "    <tr>\n",
              "      <th>0</th>\n",
              "      <td>test_Client_0</td>\n",
              "      <td>2018-03-16</td>\n",
              "      <td>11</td>\n",
              "      <td>651208</td>\n",
              "      <td>0</td>\n",
              "      <td>203</td>\n",
              "      <td>8</td>\n",
              "      <td>1</td>\n",
              "      <td>755</td>\n",
              "      <td>0</td>\n",
              "      <td>0</td>\n",
              "      <td>0</td>\n",
              "      <td>19145</td>\n",
              "      <td>19900</td>\n",
              "      <td>8</td>\n",
              "      <td>ELEC</td>\n",
              "    </tr>\n",
              "    <tr>\n",
              "      <th>1</th>\n",
              "      <td>test_Client_0</td>\n",
              "      <td>2014-03-21</td>\n",
              "      <td>11</td>\n",
              "      <td>651208</td>\n",
              "      <td>0</td>\n",
              "      <td>203</td>\n",
              "      <td>8</td>\n",
              "      <td>1</td>\n",
              "      <td>1067</td>\n",
              "      <td>0</td>\n",
              "      <td>0</td>\n",
              "      <td>0</td>\n",
              "      <td>13725</td>\n",
              "      <td>14792</td>\n",
              "      <td>8</td>\n",
              "      <td>ELEC</td>\n",
              "    </tr>\n",
              "    <tr>\n",
              "      <th>2</th>\n",
              "      <td>test_Client_0</td>\n",
              "      <td>2014-07-17</td>\n",
              "      <td>11</td>\n",
              "      <td>651208</td>\n",
              "      <td>0</td>\n",
              "      <td>203</td>\n",
              "      <td>8</td>\n",
              "      <td>1</td>\n",
              "      <td>0</td>\n",
              "      <td>0</td>\n",
              "      <td>0</td>\n",
              "      <td>0</td>\n",
              "      <td>14792</td>\n",
              "      <td>14792</td>\n",
              "      <td>4</td>\n",
              "      <td>ELEC</td>\n",
              "    </tr>\n",
              "    <tr>\n",
              "      <th>3</th>\n",
              "      <td>test_Client_0</td>\n",
              "      <td>2015-07-13</td>\n",
              "      <td>11</td>\n",
              "      <td>651208</td>\n",
              "      <td>0</td>\n",
              "      <td>203</td>\n",
              "      <td>9</td>\n",
              "      <td>1</td>\n",
              "      <td>410</td>\n",
              "      <td>0</td>\n",
              "      <td>0</td>\n",
              "      <td>0</td>\n",
              "      <td>16122</td>\n",
              "      <td>16532</td>\n",
              "      <td>4</td>\n",
              "      <td>ELEC</td>\n",
              "    </tr>\n",
              "    <tr>\n",
              "      <th>4</th>\n",
              "      <td>test_Client_0</td>\n",
              "      <td>2016-07-19</td>\n",
              "      <td>11</td>\n",
              "      <td>651208</td>\n",
              "      <td>0</td>\n",
              "      <td>203</td>\n",
              "      <td>9</td>\n",
              "      <td>1</td>\n",
              "      <td>412</td>\n",
              "      <td>0</td>\n",
              "      <td>0</td>\n",
              "      <td>0</td>\n",
              "      <td>17471</td>\n",
              "      <td>17883</td>\n",
              "      <td>4</td>\n",
              "      <td>ELEC</td>\n",
              "    </tr>\n",
              "  </tbody>\n",
              "</table>\n",
              "</div>"
            ],
            "text/plain": [
              "       client_id invoice_date  ...  months_number  counter_type\n",
              "0  test_Client_0   2018-03-16  ...              8          ELEC\n",
              "1  test_Client_0   2014-03-21  ...              8          ELEC\n",
              "2  test_Client_0   2014-07-17  ...              4          ELEC\n",
              "3  test_Client_0   2015-07-13  ...              4          ELEC\n",
              "4  test_Client_0   2016-07-19  ...              4          ELEC\n",
              "\n",
              "[5 rows x 16 columns]"
            ]
          },
          "metadata": {
            "tags": []
          },
          "execution_count": 11
        }
      ]
    },
    {
      "cell_type": "markdown",
      "metadata": {
        "id": "1H4c_BzBSL_3"
      },
      "source": [
        ".\n",
        ".\n",
        "## Check the shape of the invoice testing dataset"
      ]
    },
    {
      "cell_type": "code",
      "metadata": {
        "colab": {
          "base_uri": "https://localhost:8080/"
        },
        "id": "BewhNo9HSL_4",
        "outputId": "a6d52b5e-5547-4613-d105-c79154c4c674"
      },
      "source": [
        "invoice_test.shape"
      ],
      "execution_count": 12,
      "outputs": [
        {
          "output_type": "execute_result",
          "data": {
            "text/plain": [
              "(1939730, 16)"
            ]
          },
          "metadata": {
            "tags": []
          },
          "execution_count": 12
        }
      ]
    },
    {
      "cell_type": "markdown",
      "metadata": {
        "id": "bXeXCVd4SL_5"
      },
      "source": [
        "## Take a look at the sample submission"
      ]
    },
    {
      "cell_type": "code",
      "metadata": {
        "colab": {
          "base_uri": "https://localhost:8080/",
          "height": 0
        },
        "id": "l2p2UYx0SL_6",
        "outputId": "ae9ef19a-9112-43b1-e958-b9b9176ada93"
      },
      "source": [
        "SampleSubmission = pd.read_csv('/content/drive/My Drive/Zindi_dataset/SampleSubmission.csv')\n",
        "SampleSubmission.head(5)"
      ],
      "execution_count": 13,
      "outputs": [
        {
          "output_type": "execute_result",
          "data": {
            "text/html": [
              "<div>\n",
              "<style scoped>\n",
              "    .dataframe tbody tr th:only-of-type {\n",
              "        vertical-align: middle;\n",
              "    }\n",
              "\n",
              "    .dataframe tbody tr th {\n",
              "        vertical-align: top;\n",
              "    }\n",
              "\n",
              "    .dataframe thead th {\n",
              "        text-align: right;\n",
              "    }\n",
              "</style>\n",
              "<table border=\"1\" class=\"dataframe\">\n",
              "  <thead>\n",
              "    <tr style=\"text-align: right;\">\n",
              "      <th></th>\n",
              "      <th>client_id</th>\n",
              "      <th>target</th>\n",
              "    </tr>\n",
              "  </thead>\n",
              "  <tbody>\n",
              "    <tr>\n",
              "      <th>0</th>\n",
              "      <td>test_Client_0</td>\n",
              "      <td>0.957281</td>\n",
              "    </tr>\n",
              "    <tr>\n",
              "      <th>1</th>\n",
              "      <td>test_Client_1</td>\n",
              "      <td>0.996425</td>\n",
              "    </tr>\n",
              "    <tr>\n",
              "      <th>2</th>\n",
              "      <td>test_Client_10</td>\n",
              "      <td>0.612359</td>\n",
              "    </tr>\n",
              "    <tr>\n",
              "      <th>3</th>\n",
              "      <td>test_Client_100</td>\n",
              "      <td>0.776933</td>\n",
              "    </tr>\n",
              "    <tr>\n",
              "      <th>4</th>\n",
              "      <td>test_Client_1000</td>\n",
              "      <td>0.571046</td>\n",
              "    </tr>\n",
              "  </tbody>\n",
              "</table>\n",
              "</div>"
            ],
            "text/plain": [
              "          client_id    target\n",
              "0     test_Client_0  0.957281\n",
              "1     test_Client_1  0.996425\n",
              "2    test_Client_10  0.612359\n",
              "3   test_Client_100  0.776933\n",
              "4  test_Client_1000  0.571046"
            ]
          },
          "metadata": {
            "tags": []
          },
          "execution_count": 13
        }
      ]
    },
    {
      "cell_type": "markdown",
      "metadata": {
        "id": "9uTred2wSL_7"
      },
      "source": [
        "\n",
        "\n",
        "# Missing values\n",
        "Let's check if there's any missing values in our data."
      ]
    },
    {
      "cell_type": "code",
      "metadata": {
        "colab": {
          "base_uri": "https://localhost:8080/"
        },
        "id": "sNznG_S8SL_7",
        "outputId": "49a295de-ee4b-4232-e392-b18849dc8a67"
      },
      "source": [
        "client_train.isnull().sum() "
      ],
      "execution_count": 14,
      "outputs": [
        {
          "output_type": "execute_result",
          "data": {
            "text/plain": [
              "disrict          0\n",
              "client_id        0\n",
              "client_catg      0\n",
              "region           0\n",
              "creation_date    0\n",
              "target           0\n",
              "dtype: int64"
            ]
          },
          "metadata": {
            "tags": []
          },
          "execution_count": 14
        }
      ]
    },
    {
      "cell_type": "code",
      "metadata": {
        "colab": {
          "base_uri": "https://localhost:8080/"
        },
        "id": "8PEEX6BkSL_8",
        "outputId": "66600273-5cd8-455a-cb2d-33a5a323b990"
      },
      "source": [
        "client_test.isnull().sum() "
      ],
      "execution_count": 15,
      "outputs": [
        {
          "output_type": "execute_result",
          "data": {
            "text/plain": [
              "disrict          0\n",
              "client_id        0\n",
              "client_catg      0\n",
              "region           0\n",
              "creation_date    0\n",
              "dtype: int64"
            ]
          },
          "metadata": {
            "tags": []
          },
          "execution_count": 15
        }
      ]
    },
    {
      "cell_type": "code",
      "metadata": {
        "colab": {
          "base_uri": "https://localhost:8080/"
        },
        "id": "dqopErf1SL_9",
        "outputId": "4c9370f7-0611-4cc9-a0b4-0329beeae852"
      },
      "source": [
        "invoice_train.isnull().sum() "
      ],
      "execution_count": 16,
      "outputs": [
        {
          "output_type": "execute_result",
          "data": {
            "text/plain": [
              "client_id               0\n",
              "invoice_date            0\n",
              "tarif_type              0\n",
              "counter_number          0\n",
              "counter_statue          0\n",
              "counter_code            0\n",
              "reading_remarque        0\n",
              "counter_coefficient     0\n",
              "consommation_level_1    0\n",
              "consommation_level_2    0\n",
              "consommation_level_3    0\n",
              "consommation_level_4    0\n",
              "old_index               0\n",
              "new_index               0\n",
              "months_number           0\n",
              "counter_type            0\n",
              "dtype: int64"
            ]
          },
          "metadata": {
            "tags": []
          },
          "execution_count": 16
        }
      ]
    },
    {
      "cell_type": "code",
      "metadata": {
        "colab": {
          "base_uri": "https://localhost:8080/"
        },
        "id": "zI5gXbIeSL__",
        "outputId": "8de8e578-600b-49e6-eeea-8525ad2b3621"
      },
      "source": [
        "invoice_test.isnull().sum() "
      ],
      "execution_count": 17,
      "outputs": [
        {
          "output_type": "execute_result",
          "data": {
            "text/plain": [
              "client_id               0\n",
              "invoice_date            0\n",
              "tarif_type              0\n",
              "counter_number          0\n",
              "counter_statue          0\n",
              "counter_code            0\n",
              "reading_remarque        0\n",
              "counter_coefficient     0\n",
              "consommation_level_1    0\n",
              "consommation_level_2    0\n",
              "consommation_level_3    0\n",
              "consommation_level_4    0\n",
              "old_index               0\n",
              "new_index               0\n",
              "months_number           0\n",
              "counter_type            0\n",
              "dtype: int64"
            ]
          },
          "metadata": {
            "tags": []
          },
          "execution_count": 17
        }
      ]
    },
    {
      "cell_type": "markdown",
      "metadata": {
        "id": "VoaOaM23SMAA"
      },
      "source": [
        "# Combining the data sets"
      ]
    },
    {
      "cell_type": "code",
      "metadata": {
        "colab": {
          "base_uri": "https://localhost:8080/"
        },
        "id": "OMw0VxcsSMAB",
        "outputId": "598ce600-b8b1-48d5-e3b9-2a4afb4f1997"
      },
      "source": [
        "new_df = invoice_train.merge(client_train, left_on='client_id', right_on='client_id',\n",
        "          suffixes=('', None))\n",
        "new_df_test = invoice_test.merge(client_test, left_on='client_id', right_on='client_id',\n",
        "          suffixes=('', None))\n",
        "\n",
        "# Drop duplicates\n",
        "new_df = new_df.drop_duplicates(subset=[\"client_id\"])\n",
        "new_df_test = new_df_test.drop_duplicates(subset=[\"client_id\"])\n",
        "new_df['client_id']"
      ],
      "execution_count": 18,
      "outputs": [
        {
          "output_type": "execute_result",
          "data": {
            "text/plain": [
              "0              train_Client_0\n",
              "35             train_Client_1\n",
              "72            train_Client_10\n",
              "90           train_Client_100\n",
              "110         train_Client_1000\n",
              "                  ...        \n",
              "4476596    train_Client_99995\n",
              "4476667    train_Client_99996\n",
              "4476708    train_Client_99997\n",
              "4476744    train_Client_99998\n",
              "4476746    train_Client_99999\n",
              "Name: client_id, Length: 135493, dtype: object"
            ]
          },
          "metadata": {
            "tags": []
          },
          "execution_count": 18
        }
      ]
    },
    {
      "cell_type": "code",
      "metadata": {
        "colab": {
          "base_uri": "https://localhost:8080/"
        },
        "id": "NCCNtbg4SMAB",
        "outputId": "dca939f6-57b6-4417-8ec0-b488bd563c8a"
      },
      "source": [
        "new_df_test.info()"
      ],
      "execution_count": 19,
      "outputs": [
        {
          "output_type": "stream",
          "text": [
            "<class 'pandas.core.frame.DataFrame'>\n",
            "Int64Index: 58069 entries, 0 to 1939697\n",
            "Data columns (total 20 columns):\n",
            " #   Column                Non-Null Count  Dtype \n",
            "---  ------                --------------  ----- \n",
            " 0   client_id             58069 non-null  object\n",
            " 1   invoice_date          58069 non-null  object\n",
            " 2   tarif_type            58069 non-null  int64 \n",
            " 3   counter_number        58069 non-null  int64 \n",
            " 4   counter_statue        58069 non-null  int64 \n",
            " 5   counter_code          58069 non-null  int64 \n",
            " 6   reading_remarque      58069 non-null  int64 \n",
            " 7   counter_coefficient   58069 non-null  int64 \n",
            " 8   consommation_level_1  58069 non-null  int64 \n",
            " 9   consommation_level_2  58069 non-null  int64 \n",
            " 10  consommation_level_3  58069 non-null  int64 \n",
            " 11  consommation_level_4  58069 non-null  int64 \n",
            " 12  old_index             58069 non-null  int64 \n",
            " 13  new_index             58069 non-null  int64 \n",
            " 14  months_number         58069 non-null  int64 \n",
            " 15  counter_type          58069 non-null  object\n",
            " 16  disrict               58069 non-null  int64 \n",
            " 17  client_catg           58069 non-null  int64 \n",
            " 18  region                58069 non-null  int64 \n",
            " 19  creation_date         58069 non-null  object\n",
            "dtypes: int64(16), object(4)\n",
            "memory usage: 9.3+ MB\n"
          ],
          "name": "stdout"
        }
      ]
    },
    {
      "cell_type": "code",
      "metadata": {
        "colab": {
          "base_uri": "https://localhost:8080/"
        },
        "id": "wjelhOMHSMAj",
        "outputId": "7dca2d9c-d34b-4355-c44a-0006ae02add8"
      },
      "source": [
        "new_df.columns"
      ],
      "execution_count": 20,
      "outputs": [
        {
          "output_type": "execute_result",
          "data": {
            "text/plain": [
              "Index(['client_id', 'invoice_date', 'tarif_type', 'counter_number',\n",
              "       'counter_statue', 'counter_code', 'reading_remarque',\n",
              "       'counter_coefficient', 'consommation_level_1', 'consommation_level_2',\n",
              "       'consommation_level_3', 'consommation_level_4', 'old_index',\n",
              "       'new_index', 'months_number', 'counter_type', 'disrict', 'client_catg',\n",
              "       'region', 'creation_date', 'target'],\n",
              "      dtype='object')"
            ]
          },
          "metadata": {
            "tags": []
          },
          "execution_count": 20
        }
      ]
    },
    {
      "cell_type": "markdown",
      "metadata": {
        "id": "3TugnFB_SMAj"
      },
      "source": [
        "## Check for NaN values to make sure everything went well"
      ]
    },
    {
      "cell_type": "code",
      "metadata": {
        "colab": {
          "base_uri": "https://localhost:8080/"
        },
        "id": "J5uaj4w4SMAj",
        "outputId": "eb1e8929-ce31-424c-b48f-93ffd0fa3180"
      },
      "source": [
        "new_df.isna().sum()"
      ],
      "execution_count": 21,
      "outputs": [
        {
          "output_type": "execute_result",
          "data": {
            "text/plain": [
              "client_id               0\n",
              "invoice_date            0\n",
              "tarif_type              0\n",
              "counter_number          0\n",
              "counter_statue          0\n",
              "counter_code            0\n",
              "reading_remarque        0\n",
              "counter_coefficient     0\n",
              "consommation_level_1    0\n",
              "consommation_level_2    0\n",
              "consommation_level_3    0\n",
              "consommation_level_4    0\n",
              "old_index               0\n",
              "new_index               0\n",
              "months_number           0\n",
              "counter_type            0\n",
              "disrict                 0\n",
              "client_catg             0\n",
              "region                  0\n",
              "creation_date           0\n",
              "target                  0\n",
              "dtype: int64"
            ]
          },
          "metadata": {
            "tags": []
          },
          "execution_count": 21
        }
      ]
    },
    {
      "cell_type": "markdown",
      "metadata": {
        "id": "qMAtE6bDSMAl"
      },
      "source": [
        "# .\n",
        "# EDA + Feature Engineering"
      ]
    },
    {
      "cell_type": "code",
      "metadata": {
        "colab": {
          "base_uri": "https://localhost:8080/",
          "height": 402
        },
        "id": "oVysvSx3SMAl",
        "outputId": "e9a12092-38c7-4ff3-8358-efcf2af7a5c8"
      },
      "source": [
        "# Look at correlation with target\n",
        "new_df.corr()['target'].sort_values().plot(kind='bar', color ='g', figsize=(18, 6))"
      ],
      "execution_count": 22,
      "outputs": [
        {
          "output_type": "execute_result",
          "data": {
            "text/plain": [
              "<matplotlib.axes._subplots.AxesSubplot at 0x7f62667c41d0>"
            ]
          },
          "metadata": {
            "tags": []
          },
          "execution_count": 22
        },
        {
          "output_type": "display_data",
          "data": {
            "image/png": "[encoded data removed]",
            "text/plain": [
              "<Figure size 1296x432 with 1 Axes>"
            ]
          },
          "metadata": {
            "tags": [],
            "needs_background": "light"
          }
        }
      ]
    },
    {
      "cell_type": "markdown",
      "metadata": {
        "id": "X8mrtwlGSMAm"
      },
      "source": [
        "\n",
        ".\n",
        "\n",
        "\n",
        "## Take a look at the correlation between the variables"
      ]
    },
    {
      "cell_type": "code",
      "metadata": {
        "colab": {
          "base_uri": "https://localhost:8080/",
          "height": 553
        },
        "id": "t4mYxWlXSMAm",
        "outputId": "63f7e8fa-b7dc-4a2d-8d75-26895eb10133"
      },
      "source": [
        "Correlation  = new_df.corr(method = 'pearson')\n",
        "\n",
        "plt.figure(figsize=(25,12))\n",
        "sns.heatmap(Correlation, annot=True)\n",
        "plt.tick_params(axis='y', labelsize=15)\n",
        "plt.tick_params(axis='x', labelsize=15)\n",
        "plt.suptitle(\"CORRELATION BETWEEN THE VARIABLES\", fontsize = 30)\n",
        "plt.show()"
      ],
      "execution_count": 23,
      "outputs": [
        {
          "output_type": "display_data",
          "data": {
            "image/png": "[encoded data removed]",
            "text/plain": [
              "<Figure size 1800x864 with 2 Axes>"
            ]
          },
          "metadata": {
            "tags": [],
            "needs_background": "light"
          }
        }
      ]
    },
    {
      "cell_type": "markdown",
      "metadata": {
        "id": "CLkewF-QSMAn"
      },
      "source": [
        "From the correlation heatmap, we observe that the avariables (old index and new index) are strongly correlated.Putting features that are highly correlated to a model brings the problem of collinearity and could lower the performance of a model. You can decide to train one model with all the features, and then another with only the poorly correlated features and compare their accuracy."
      ]
    },
    {
      "cell_type": "code",
      "metadata": {
        "colab": {
          "base_uri": "https://localhost:8080/"
        },
        "id": "uG2g5emsSMAp",
        "outputId": "ed1868c2-b3c9-4e55-e137-d95947f025e0"
      },
      "source": [
        "new_df.info()"
      ],
      "execution_count": 24,
      "outputs": [
        {
          "output_type": "stream",
          "text": [
            "<class 'pandas.core.frame.DataFrame'>\n",
            "Int64Index: 135493 entries, 0 to 4476746\n",
            "Data columns (total 21 columns):\n",
            " #   Column                Non-Null Count   Dtype  \n",
            "---  ------                --------------   -----  \n",
            " 0   client_id             135493 non-null  object \n",
            " 1   invoice_date          135493 non-null  object \n",
            " 2   tarif_type            135493 non-null  int64  \n",
            " 3   counter_number        135493 non-null  int64  \n",
            " 4   counter_statue        135493 non-null  object \n",
            " 5   counter_code          135493 non-null  int64  \n",
            " 6   reading_remarque      135493 non-null  int64  \n",
            " 7   counter_coefficient   135493 non-null  int64  \n",
            " 8   consommation_level_1  135493 non-null  int64  \n",
            " 9   consommation_level_2  135493 non-null  int64  \n",
            " 10  consommation_level_3  135493 non-null  int64  \n",
            " 11  consommation_level_4  135493 non-null  int64  \n",
            " 12  old_index             135493 non-null  int64  \n",
            " 13  new_index             135493 non-null  int64  \n",
            " 14  months_number         135493 non-null  int64  \n",
            " 15  counter_type          135493 non-null  object \n",
            " 16  disrict               135493 non-null  int64  \n",
            " 17  client_catg           135493 non-null  int64  \n",
            " 18  region                135493 non-null  int64  \n",
            " 19  creation_date         135493 non-null  object \n",
            " 20  target                135493 non-null  float64\n",
            "dtypes: float64(1), int64(15), object(5)\n",
            "memory usage: 22.7+ MB\n"
          ],
          "name": "stdout"
        }
      ]
    },
    {
      "cell_type": "markdown",
      "metadata": {
        "id": "0vl8W0yJSMAp"
      },
      "source": [
        "## Simple Feature engineering"
      ]
    },
    {
      "cell_type": "markdown",
      "metadata": {
        "id": "8sNdPlB1SMAq"
      },
      "source": [
        "#### Trend of of electricty fraud, based off of the month of joining "
      ]
    },
    {
      "cell_type": "code",
      "metadata": {
        "colab": {
          "base_uri": "https://localhost:8080/",
          "height": 0
        },
        "id": "ek4VtbdnSMAr",
        "outputId": "419c5ffb-046b-40df-f588-7131e4458054"
      },
      "source": [
        "\n",
        "new_df['creation_date'] = pd.to_datetime(new_df['creation_date'])\n",
        "new_df_test['creation_date'] = pd.to_datetime(new_df_test['creation_date'])\n",
        "\n",
        "# Date variables\n",
        "new_df_test['joining_month'] = new_df_test['creation_date'].dt.month\n",
        "new_df_test['joining_year'] = new_df_test['creation_date'].dt.year\n",
        "\n",
        "new_df['joining_month'] = new_df['creation_date'].dt.month\n",
        "new_df['joining_year'] = new_df['creation_date'].dt.year\n",
        "\n",
        "\n",
        "plt.figure(figsize = (20, 15))\n",
        "new_df.groupby('joining_month').mean().reset_index().plot(y='target', x='joining_month', kind='bar', figsize = (20,6))"
      ],
      "execution_count": 25,
      "outputs": [
        {
          "output_type": "execute_result",
          "data": {
            "text/plain": [
              "<matplotlib.axes._subplots.AxesSubplot at 0x7f625de8b250>"
            ]
          },
          "metadata": {
            "tags": []
          },
          "execution_count": 25
        },
        {
          "output_type": "display_data",
          "data": {
            "text/plain": [
              "<Figure size 1440x1080 with 0 Axes>"
            ]
          },
          "metadata": {
            "tags": []
          }
        },
        {
          "output_type": "display_data",
          "data": {
            "image/png": "[encoded data removed]",
            "text/plain": [
              "<Figure size 1440x432 with 1 Axes>"
            ]
          },
          "metadata": {
            "tags": [],
            "needs_background": "light"
          }
        }
      ]
    },
    {
      "cell_type": "code",
      "metadata": {
        "colab": {
          "base_uri": "https://localhost:8080/",
          "height": 0
        },
        "id": "NNXg1lhoSMAs",
        "outputId": "55fcd92c-1286-4378-893a-b6ace3566385"
      },
      "source": [
        "new_df"
      ],
      "execution_count": 26,
      "outputs": [
        {
          "output_type": "execute_result",
          "data": {
            "text/html": [
              "<div>\n",
              "<style scoped>\n",
              "    .dataframe tbody tr th:only-of-type {\n",
              "        vertical-align: middle;\n",
              "    }\n",
              "\n",
              "    .dataframe tbody tr th {\n",
              "        vertical-align: top;\n",
              "    }\n",
              "\n",
              "    .dataframe thead th {\n",
              "        text-align: right;\n",
              "    }\n",
              "</style>\n",
              "<table border=\"1\" class=\"dataframe\">\n",
              "  <thead>\n",
              "    <tr style=\"text-align: right;\">\n",
              "      <th></th>\n",
              "      <th>client_id</th>\n",
              "      <th>invoice_date</th>\n",
              "      <th>tarif_type</th>\n",
              "      <th>counter_number</th>\n",
              "      <th>counter_statue</th>\n",
              "      <th>counter_code</th>\n",
              "      <th>reading_remarque</th>\n",
              "      <th>counter_coefficient</th>\n",
              "      <th>consommation_level_1</th>\n",
              "      <th>consommation_level_2</th>\n",
              "      <th>consommation_level_3</th>\n",
              "      <th>consommation_level_4</th>\n",
              "      <th>old_index</th>\n",
              "      <th>new_index</th>\n",
              "      <th>months_number</th>\n",
              "      <th>counter_type</th>\n",
              "      <th>disrict</th>\n",
              "      <th>client_catg</th>\n",
              "      <th>region</th>\n",
              "      <th>creation_date</th>\n",
              "      <th>target</th>\n",
              "      <th>joining_month</th>\n",
              "      <th>joining_year</th>\n",
              "    </tr>\n",
              "  </thead>\n",
              "  <tbody>\n",
              "    <tr>\n",
              "      <th>0</th>\n",
              "      <td>train_Client_0</td>\n",
              "      <td>2014-03-24</td>\n",
              "      <td>11</td>\n",
              "      <td>1335667</td>\n",
              "      <td>0</td>\n",
              "      <td>203</td>\n",
              "      <td>8</td>\n",
              "      <td>1</td>\n",
              "      <td>82</td>\n",
              "      <td>0</td>\n",
              "      <td>0</td>\n",
              "      <td>0</td>\n",
              "      <td>14302</td>\n",
              "      <td>14384</td>\n",
              "      <td>4</td>\n",
              "      <td>ELEC</td>\n",
              "      <td>60</td>\n",
              "      <td>11</td>\n",
              "      <td>101</td>\n",
              "      <td>1994-12-31</td>\n",
              "      <td>0.0</td>\n",
              "      <td>12</td>\n",
              "      <td>1994</td>\n",
              "    </tr>\n",
              "    <tr>\n",
              "      <th>35</th>\n",
              "      <td>train_Client_1</td>\n",
              "      <td>2010-09-02</td>\n",
              "      <td>11</td>\n",
              "      <td>678902</td>\n",
              "      <td>0</td>\n",
              "      <td>203</td>\n",
              "      <td>8</td>\n",
              "      <td>1</td>\n",
              "      <td>388</td>\n",
              "      <td>0</td>\n",
              "      <td>0</td>\n",
              "      <td>0</td>\n",
              "      <td>11429</td>\n",
              "      <td>11817</td>\n",
              "      <td>2</td>\n",
              "      <td>ELEC</td>\n",
              "      <td>69</td>\n",
              "      <td>11</td>\n",
              "      <td>107</td>\n",
              "      <td>2002-05-29</td>\n",
              "      <td>0.0</td>\n",
              "      <td>5</td>\n",
              "      <td>2002</td>\n",
              "    </tr>\n",
              "    <tr>\n",
              "      <th>72</th>\n",
              "      <td>train_Client_10</td>\n",
              "      <td>2010-02-15</td>\n",
              "      <td>11</td>\n",
              "      <td>572765</td>\n",
              "      <td>0</td>\n",
              "      <td>203</td>\n",
              "      <td>8</td>\n",
              "      <td>1</td>\n",
              "      <td>407</td>\n",
              "      <td>0</td>\n",
              "      <td>0</td>\n",
              "      <td>0</td>\n",
              "      <td>31955</td>\n",
              "      <td>32362</td>\n",
              "      <td>4</td>\n",
              "      <td>ELEC</td>\n",
              "      <td>62</td>\n",
              "      <td>11</td>\n",
              "      <td>301</td>\n",
              "      <td>1986-03-13</td>\n",
              "      <td>0.0</td>\n",
              "      <td>3</td>\n",
              "      <td>1986</td>\n",
              "    </tr>\n",
              "    <tr>\n",
              "      <th>90</th>\n",
              "      <td>train_Client_100</td>\n",
              "      <td>2009-10-22</td>\n",
              "      <td>11</td>\n",
              "      <td>2078</td>\n",
              "      <td>0</td>\n",
              "      <td>413</td>\n",
              "      <td>6</td>\n",
              "      <td>1</td>\n",
              "      <td>0</td>\n",
              "      <td>0</td>\n",
              "      <td>0</td>\n",
              "      <td>0</td>\n",
              "      <td>98</td>\n",
              "      <td>98</td>\n",
              "      <td>4</td>\n",
              "      <td>ELEC</td>\n",
              "      <td>69</td>\n",
              "      <td>11</td>\n",
              "      <td>105</td>\n",
              "      <td>1996-11-07</td>\n",
              "      <td>0.0</td>\n",
              "      <td>11</td>\n",
              "      <td>1996</td>\n",
              "    </tr>\n",
              "    <tr>\n",
              "      <th>110</th>\n",
              "      <td>train_Client_1000</td>\n",
              "      <td>2015-02-13</td>\n",
              "      <td>11</td>\n",
              "      <td>19575</td>\n",
              "      <td>0</td>\n",
              "      <td>207</td>\n",
              "      <td>9</td>\n",
              "      <td>1</td>\n",
              "      <td>800</td>\n",
              "      <td>159</td>\n",
              "      <td>0</td>\n",
              "      <td>0</td>\n",
              "      <td>0</td>\n",
              "      <td>959</td>\n",
              "      <td>4</td>\n",
              "      <td>ELEC</td>\n",
              "      <td>62</td>\n",
              "      <td>11</td>\n",
              "      <td>303</td>\n",
              "      <td>2014-10-14</td>\n",
              "      <td>0.0</td>\n",
              "      <td>10</td>\n",
              "      <td>2014</td>\n",
              "    </tr>\n",
              "    <tr>\n",
              "      <th>...</th>\n",
              "      <td>...</td>\n",
              "      <td>...</td>\n",
              "      <td>...</td>\n",
              "      <td>...</td>\n",
              "      <td>...</td>\n",
              "      <td>...</td>\n",
              "      <td>...</td>\n",
              "      <td>...</td>\n",
              "      <td>...</td>\n",
              "      <td>...</td>\n",
              "      <td>...</td>\n",
              "      <td>...</td>\n",
              "      <td>...</td>\n",
              "      <td>...</td>\n",
              "      <td>...</td>\n",
              "      <td>...</td>\n",
              "      <td>...</td>\n",
              "      <td>...</td>\n",
              "      <td>...</td>\n",
              "      <td>...</td>\n",
              "      <td>...</td>\n",
              "      <td>...</td>\n",
              "      <td>...</td>\n",
              "    </tr>\n",
              "    <tr>\n",
              "      <th>4476596</th>\n",
              "      <td>train_Client_99995</td>\n",
              "      <td>2005-07-10</td>\n",
              "      <td>11</td>\n",
              "      <td>897286</td>\n",
              "      <td>0</td>\n",
              "      <td>207</td>\n",
              "      <td>6</td>\n",
              "      <td>1</td>\n",
              "      <td>0</td>\n",
              "      <td>0</td>\n",
              "      <td>0</td>\n",
              "      <td>0</td>\n",
              "      <td>14</td>\n",
              "      <td>14</td>\n",
              "      <td>4</td>\n",
              "      <td>ELEC</td>\n",
              "      <td>62</td>\n",
              "      <td>11</td>\n",
              "      <td>304</td>\n",
              "      <td>2004-07-26</td>\n",
              "      <td>0.0</td>\n",
              "      <td>7</td>\n",
              "      <td>2004</td>\n",
              "    </tr>\n",
              "    <tr>\n",
              "      <th>4476667</th>\n",
              "      <td>train_Client_99996</td>\n",
              "      <td>2015-10-20</td>\n",
              "      <td>11</td>\n",
              "      <td>398783</td>\n",
              "      <td>0</td>\n",
              "      <td>207</td>\n",
              "      <td>9</td>\n",
              "      <td>1</td>\n",
              "      <td>605</td>\n",
              "      <td>0</td>\n",
              "      <td>0</td>\n",
              "      <td>0</td>\n",
              "      <td>895</td>\n",
              "      <td>1500</td>\n",
              "      <td>4</td>\n",
              "      <td>ELEC</td>\n",
              "      <td>63</td>\n",
              "      <td>11</td>\n",
              "      <td>311</td>\n",
              "      <td>2012-10-25</td>\n",
              "      <td>0.0</td>\n",
              "      <td>10</td>\n",
              "      <td>2012</td>\n",
              "    </tr>\n",
              "    <tr>\n",
              "      <th>4476708</th>\n",
              "      <td>train_Client_99997</td>\n",
              "      <td>2015-08-06</td>\n",
              "      <td>11</td>\n",
              "      <td>262195</td>\n",
              "      <td>0</td>\n",
              "      <td>207</td>\n",
              "      <td>9</td>\n",
              "      <td>1</td>\n",
              "      <td>280</td>\n",
              "      <td>0</td>\n",
              "      <td>0</td>\n",
              "      <td>0</td>\n",
              "      <td>3573</td>\n",
              "      <td>3853</td>\n",
              "      <td>4</td>\n",
              "      <td>ELEC</td>\n",
              "      <td>63</td>\n",
              "      <td>11</td>\n",
              "      <td>311</td>\n",
              "      <td>2011-11-22</td>\n",
              "      <td>0.0</td>\n",
              "      <td>11</td>\n",
              "      <td>2011</td>\n",
              "    </tr>\n",
              "    <tr>\n",
              "      <th>4476744</th>\n",
              "      <td>train_Client_99998</td>\n",
              "      <td>2005-08-19</td>\n",
              "      <td>10</td>\n",
              "      <td>1253571</td>\n",
              "      <td>0</td>\n",
              "      <td>202</td>\n",
              "      <td>9</td>\n",
              "      <td>1</td>\n",
              "      <td>400</td>\n",
              "      <td>135</td>\n",
              "      <td>0</td>\n",
              "      <td>0</td>\n",
              "      <td>3197</td>\n",
              "      <td>3732</td>\n",
              "      <td>8</td>\n",
              "      <td>ELEC</td>\n",
              "      <td>60</td>\n",
              "      <td>11</td>\n",
              "      <td>101</td>\n",
              "      <td>1993-12-22</td>\n",
              "      <td>0.0</td>\n",
              "      <td>12</td>\n",
              "      <td>1993</td>\n",
              "    </tr>\n",
              "    <tr>\n",
              "      <th>4476746</th>\n",
              "      <td>train_Client_99999</td>\n",
              "      <td>1996-09-25</td>\n",
              "      <td>11</td>\n",
              "      <td>560948</td>\n",
              "      <td>0</td>\n",
              "      <td>203</td>\n",
              "      <td>6</td>\n",
              "      <td>1</td>\n",
              "      <td>259</td>\n",
              "      <td>0</td>\n",
              "      <td>0</td>\n",
              "      <td>0</td>\n",
              "      <td>13884</td>\n",
              "      <td>14143</td>\n",
              "      <td>4</td>\n",
              "      <td>ELEC</td>\n",
              "      <td>60</td>\n",
              "      <td>11</td>\n",
              "      <td>101</td>\n",
              "      <td>1986-02-18</td>\n",
              "      <td>0.0</td>\n",
              "      <td>2</td>\n",
              "      <td>1986</td>\n",
              "    </tr>\n",
              "  </tbody>\n",
              "</table>\n",
              "<p>135493 rows × 23 columns</p>\n",
              "</div>"
            ],
            "text/plain": [
              "                  client_id invoice_date  ...  joining_month  joining_year\n",
              "0            train_Client_0   2014-03-24  ...             12          1994\n",
              "35           train_Client_1   2010-09-02  ...              5          2002\n",
              "72          train_Client_10   2010-02-15  ...              3          1986\n",
              "90         train_Client_100   2009-10-22  ...             11          1996\n",
              "110       train_Client_1000   2015-02-13  ...             10          2014\n",
              "...                     ...          ...  ...            ...           ...\n",
              "4476596  train_Client_99995   2005-07-10  ...              7          2004\n",
              "4476667  train_Client_99996   2015-10-20  ...             10          2012\n",
              "4476708  train_Client_99997   2015-08-06  ...             11          2011\n",
              "4476744  train_Client_99998   2005-08-19  ...             12          1993\n",
              "4476746  train_Client_99999   1996-09-25  ...              2          1986\n",
              "\n",
              "[135493 rows x 23 columns]"
            ]
          },
          "metadata": {
            "tags": []
          },
          "execution_count": 26
        }
      ]
    },
    {
      "cell_type": "markdown",
      "metadata": {
        "id": "Ru0VpqkGSMAs"
      },
      "source": [
        "## Trend of of electricty fraud, based off of the year of joining "
      ]
    },
    {
      "cell_type": "code",
      "metadata": {
        "colab": {
          "base_uri": "https://localhost:8080/",
          "height": 0
        },
        "id": "0LngEH6mSMAt",
        "outputId": "e6df2b0d-192a-4dfb-fb51-6edb1a123c3c"
      },
      "source": [
        "new_df.groupby('joining_year').mean().reset_index().plot(y='target', x='joining_year',figsize = (20,6))"
      ],
      "execution_count": 27,
      "outputs": [
        {
          "output_type": "execute_result",
          "data": {
            "text/plain": [
              "<matplotlib.axes._subplots.AxesSubplot at 0x7f625dee2450>"
            ]
          },
          "metadata": {
            "tags": []
          },
          "execution_count": 27
        },
        {
          "output_type": "display_data",
          "data": {
            "image/png": "[encoded data removed]",
            "text/plain": [
              "<Figure size 1440x432 with 1 Axes>"
            ]
          },
          "metadata": {
            "tags": [],
            "needs_background": "light"
          }
        }
      ]
    },
    {
      "cell_type": "markdown",
      "metadata": {
        "id": "1uD2eHMcSMAu"
      },
      "source": [
        "## You can do more!!!"
      ]
    },
    {
      "cell_type": "markdown",
      "metadata": {
        "id": "HJaU77fySMAu"
      },
      "source": [
        "You can continue to look at different features and make visualizations that would allow yoiu to better understand the data"
      ]
    },
    {
      "cell_type": "markdown",
      "metadata": {
        "id": "mzIAjEq0SMAv"
      },
      "source": [
        "# Model Evaluation"
      ]
    },
    {
      "cell_type": "markdown",
      "metadata": {
        "id": "FB_lOgmkSMAv"
      },
      "source": [
        "Let us summarize our data\n",
        "\n"
      ]
    },
    {
      "cell_type": "code",
      "metadata": {
        "colab": {
          "base_uri": "https://localhost:8080/",
          "height": 627
        },
        "id": "XhwEGwWnZf89",
        "outputId": "60fff040-fbdc-4603-ba17-f9f833735acb"
      },
      "source": [
        "new_df.describe().T"
      ],
      "execution_count": 28,
      "outputs": [
        {
          "output_type": "execute_result",
          "data": {
            "text/html": [
              "<div>\n",
              "<style scoped>\n",
              "    .dataframe tbody tr th:only-of-type {\n",
              "        vertical-align: middle;\n",
              "    }\n",
              "\n",
              "    .dataframe tbody tr th {\n",
              "        vertical-align: top;\n",
              "    }\n",
              "\n",
              "    .dataframe thead th {\n",
              "        text-align: right;\n",
              "    }\n",
              "</style>\n",
              "<table border=\"1\" class=\"dataframe\">\n",
              "  <thead>\n",
              "    <tr style=\"text-align: right;\">\n",
              "      <th></th>\n",
              "      <th>count</th>\n",
              "      <th>mean</th>\n",
              "      <th>std</th>\n",
              "      <th>min</th>\n",
              "      <th>25%</th>\n",
              "      <th>50%</th>\n",
              "      <th>75%</th>\n",
              "      <th>max</th>\n",
              "    </tr>\n",
              "  </thead>\n",
              "  <tbody>\n",
              "    <tr>\n",
              "      <th>tarif_type</th>\n",
              "      <td>135493.0</td>\n",
              "      <td>1.717926e+01</td>\n",
              "      <td>1.191659e+01</td>\n",
              "      <td>8.0</td>\n",
              "      <td>11.0</td>\n",
              "      <td>11.0</td>\n",
              "      <td>11.0</td>\n",
              "      <td>4.500000e+01</td>\n",
              "    </tr>\n",
              "    <tr>\n",
              "      <th>counter_number</th>\n",
              "      <td>135493.0</td>\n",
              "      <td>6.935480e+11</td>\n",
              "      <td>3.928191e+12</td>\n",
              "      <td>0.0</td>\n",
              "      <td>139751.0</td>\n",
              "      <td>526861.0</td>\n",
              "      <td>1201665.0</td>\n",
              "      <td>2.739110e+13</td>\n",
              "    </tr>\n",
              "    <tr>\n",
              "      <th>counter_code</th>\n",
              "      <td>135493.0</td>\n",
              "      <td>1.994262e+02</td>\n",
              "      <td>1.284661e+02</td>\n",
              "      <td>0.0</td>\n",
              "      <td>202.0</td>\n",
              "      <td>203.0</td>\n",
              "      <td>207.0</td>\n",
              "      <td>6.000000e+02</td>\n",
              "    </tr>\n",
              "    <tr>\n",
              "      <th>reading_remarque</th>\n",
              "      <td>135493.0</td>\n",
              "      <td>7.393201e+00</td>\n",
              "      <td>1.845631e+00</td>\n",
              "      <td>6.0</td>\n",
              "      <td>6.0</td>\n",
              "      <td>8.0</td>\n",
              "      <td>9.0</td>\n",
              "      <td>4.130000e+02</td>\n",
              "    </tr>\n",
              "    <tr>\n",
              "      <th>counter_coefficient</th>\n",
              "      <td>135493.0</td>\n",
              "      <td>1.001638e+00</td>\n",
              "      <td>2.232275e-01</td>\n",
              "      <td>0.0</td>\n",
              "      <td>1.0</td>\n",
              "      <td>1.0</td>\n",
              "      <td>1.0</td>\n",
              "      <td>5.000000e+01</td>\n",
              "    </tr>\n",
              "    <tr>\n",
              "      <th>consommation_level_1</th>\n",
              "      <td>135493.0</td>\n",
              "      <td>4.311685e+02</td>\n",
              "      <td>8.717099e+02</td>\n",
              "      <td>0.0</td>\n",
              "      <td>65.0</td>\n",
              "      <td>275.0</td>\n",
              "      <td>608.0</td>\n",
              "      <td>9.992000e+04</td>\n",
              "    </tr>\n",
              "    <tr>\n",
              "      <th>consommation_level_2</th>\n",
              "      <td>135493.0</td>\n",
              "      <td>1.201788e+02</td>\n",
              "      <td>2.417318e+03</td>\n",
              "      <td>0.0</td>\n",
              "      <td>0.0</td>\n",
              "      <td>0.0</td>\n",
              "      <td>0.0</td>\n",
              "      <td>7.857570e+05</td>\n",
              "    </tr>\n",
              "    <tr>\n",
              "      <th>consommation_level_3</th>\n",
              "      <td>135493.0</td>\n",
              "      <td>2.781331e+01</td>\n",
              "      <td>2.084783e+02</td>\n",
              "      <td>0.0</td>\n",
              "      <td>0.0</td>\n",
              "      <td>0.0</td>\n",
              "      <td>0.0</td>\n",
              "      <td>4.079800e+04</td>\n",
              "    </tr>\n",
              "    <tr>\n",
              "      <th>consommation_level_4</th>\n",
              "      <td>135493.0</td>\n",
              "      <td>7.468753e+01</td>\n",
              "      <td>1.169659e+03</td>\n",
              "      <td>0.0</td>\n",
              "      <td>0.0</td>\n",
              "      <td>0.0</td>\n",
              "      <td>0.0</td>\n",
              "      <td>1.235320e+05</td>\n",
              "    </tr>\n",
              "    <tr>\n",
              "      <th>old_index</th>\n",
              "      <td>135493.0</td>\n",
              "      <td>1.435281e+04</td>\n",
              "      <td>3.108792e+04</td>\n",
              "      <td>0.0</td>\n",
              "      <td>993.0</td>\n",
              "      <td>5644.0</td>\n",
              "      <td>18153.0</td>\n",
              "      <td>1.551151e+06</td>\n",
              "    </tr>\n",
              "    <tr>\n",
              "      <th>new_index</th>\n",
              "      <td>135493.0</td>\n",
              "      <td>1.497002e+04</td>\n",
              "      <td>3.167400e+04</td>\n",
              "      <td>0.0</td>\n",
              "      <td>1353.0</td>\n",
              "      <td>6201.0</td>\n",
              "      <td>18897.0</td>\n",
              "      <td>1.555001e+06</td>\n",
              "    </tr>\n",
              "    <tr>\n",
              "      <th>months_number</th>\n",
              "      <td>135493.0</td>\n",
              "      <td>3.365911e+01</td>\n",
              "      <td>2.901666e+03</td>\n",
              "      <td>1.0</td>\n",
              "      <td>4.0</td>\n",
              "      <td>4.0</td>\n",
              "      <td>4.0</td>\n",
              "      <td>6.076070e+05</td>\n",
              "    </tr>\n",
              "    <tr>\n",
              "      <th>disrict</th>\n",
              "      <td>135493.0</td>\n",
              "      <td>6.351122e+01</td>\n",
              "      <td>3.354400e+00</td>\n",
              "      <td>60.0</td>\n",
              "      <td>62.0</td>\n",
              "      <td>62.0</td>\n",
              "      <td>69.0</td>\n",
              "      <td>6.900000e+01</td>\n",
              "    </tr>\n",
              "    <tr>\n",
              "      <th>client_catg</th>\n",
              "      <td>135493.0</td>\n",
              "      <td>1.151251e+01</td>\n",
              "      <td>4.423761e+00</td>\n",
              "      <td>11.0</td>\n",
              "      <td>11.0</td>\n",
              "      <td>11.0</td>\n",
              "      <td>11.0</td>\n",
              "      <td>5.100000e+01</td>\n",
              "    </tr>\n",
              "    <tr>\n",
              "      <th>region</th>\n",
              "      <td>135493.0</td>\n",
              "      <td>2.061598e+02</td>\n",
              "      <td>1.042070e+02</td>\n",
              "      <td>101.0</td>\n",
              "      <td>103.0</td>\n",
              "      <td>107.0</td>\n",
              "      <td>307.0</td>\n",
              "      <td>3.990000e+02</td>\n",
              "    </tr>\n",
              "    <tr>\n",
              "      <th>target</th>\n",
              "      <td>135493.0</td>\n",
              "      <td>5.584052e-02</td>\n",
              "      <td>2.296143e-01</td>\n",
              "      <td>0.0</td>\n",
              "      <td>0.0</td>\n",
              "      <td>0.0</td>\n",
              "      <td>0.0</td>\n",
              "      <td>1.000000e+00</td>\n",
              "    </tr>\n",
              "    <tr>\n",
              "      <th>joining_month</th>\n",
              "      <td>135493.0</td>\n",
              "      <td>7.271741e+00</td>\n",
              "      <td>3.459070e+00</td>\n",
              "      <td>1.0</td>\n",
              "      <td>4.0</td>\n",
              "      <td>8.0</td>\n",
              "      <td>10.0</td>\n",
              "      <td>1.200000e+01</td>\n",
              "    </tr>\n",
              "    <tr>\n",
              "      <th>joining_year</th>\n",
              "      <td>135493.0</td>\n",
              "      <td>2.002184e+03</td>\n",
              "      <td>1.156596e+01</td>\n",
              "      <td>1977.0</td>\n",
              "      <td>1994.0</td>\n",
              "      <td>2005.0</td>\n",
              "      <td>2012.0</td>\n",
              "      <td>2.019000e+03</td>\n",
              "    </tr>\n",
              "  </tbody>\n",
              "</table>\n",
              "</div>"
            ],
            "text/plain": [
              "                         count          mean  ...        75%           max\n",
              "tarif_type            135493.0  1.717926e+01  ...       11.0  4.500000e+01\n",
              "counter_number        135493.0  6.935480e+11  ...  1201665.0  2.739110e+13\n",
              "counter_code          135493.0  1.994262e+02  ...      207.0  6.000000e+02\n",
              "reading_remarque      135493.0  7.393201e+00  ...        9.0  4.130000e+02\n",
              "counter_coefficient   135493.0  1.001638e+00  ...        1.0  5.000000e+01\n",
              "consommation_level_1  135493.0  4.311685e+02  ...      608.0  9.992000e+04\n",
              "consommation_level_2  135493.0  1.201788e+02  ...        0.0  7.857570e+05\n",
              "consommation_level_3  135493.0  2.781331e+01  ...        0.0  4.079800e+04\n",
              "consommation_level_4  135493.0  7.468753e+01  ...        0.0  1.235320e+05\n",
              "old_index             135493.0  1.435281e+04  ...    18153.0  1.551151e+06\n",
              "new_index             135493.0  1.497002e+04  ...    18897.0  1.555001e+06\n",
              "months_number         135493.0  3.365911e+01  ...        4.0  6.076070e+05\n",
              "disrict               135493.0  6.351122e+01  ...       69.0  6.900000e+01\n",
              "client_catg           135493.0  1.151251e+01  ...       11.0  5.100000e+01\n",
              "region                135493.0  2.061598e+02  ...      307.0  3.990000e+02\n",
              "target                135493.0  5.584052e-02  ...        0.0  1.000000e+00\n",
              "joining_month         135493.0  7.271741e+00  ...       10.0  1.200000e+01\n",
              "joining_year          135493.0  2.002184e+03  ...     2012.0  2.019000e+03\n",
              "\n",
              "[18 rows x 8 columns]"
            ]
          },
          "metadata": {
            "tags": []
          },
          "execution_count": 28
        }
      ]
    },
    {
      "cell_type": "markdown",
      "metadata": {
        "id": "_s56wTeOahJ-"
      },
      "source": [
        "From this, we can see that index, counter_number, new_index and joining year have more outliers"
      ]
    },
    {
      "cell_type": "code",
      "metadata": {
        "colab": {
          "base_uri": "https://localhost:8080/"
        },
        "id": "Fy6B0tSFaAbi",
        "outputId": "6bfd1b22-2338-49be-a352-4cae851c05f7"
      },
      "source": [
        "new_df['target'].value_counts() *100/len(new_df)"
      ],
      "execution_count": 29,
      "outputs": [
        {
          "output_type": "execute_result",
          "data": {
            "text/plain": [
              "0.0    94.415948\n",
              "1.0     5.584052\n",
              "Name: target, dtype: float64"
            ]
          },
          "metadata": {
            "tags": []
          },
          "execution_count": 29
        }
      ]
    },
    {
      "cell_type": "markdown",
      "metadata": {
        "id": "y1V84CkCaUjO"
      },
      "source": [
        "We can see from the dataset that the 0s are more thus our data will be more biased when modelling"
      ]
    },
    {
      "cell_type": "code",
      "metadata": {
        "id": "DQnuqZOhSMAw"
      },
      "source": [
        "new_df = new_df.reset_index()\n",
        "\n",
        "y_train = new_df['target']\n",
        "X_train = new_df[['tarif_type', 'counter_number',\n",
        "        'counter_code', 'reading_remarque',\n",
        "       'counter_coefficient', 'consommation_level_1', 'consommation_level_2',\n",
        "       'consommation_level_3', 'consommation_level_4', 'old_index',\n",
        "       'new_index',  'disrict', 'client_catg',\n",
        "       'region', 'joining_month', 'joining_year']]\n",
        "\n",
        "\n",
        "\n",
        "X_test = new_df_test[['tarif_type', 'counter_number',\n",
        "        'counter_code', 'reading_remarque',\n",
        "       'counter_coefficient', 'consommation_level_1', 'consommation_level_2',\n",
        "       'consommation_level_3', 'consommation_level_4', 'old_index',\n",
        "       'new_index', 'disrict', 'client_catg',\n",
        "       'region', 'joining_month', 'joining_year']]\n"
      ],
      "execution_count": 30,
      "outputs": []
    },
    {
      "cell_type": "markdown",
      "metadata": {
        "id": "Y5M0PRqaSMAy"
      },
      "source": [
        "Define our Evaluation model"
      ]
    },
    {
      "cell_type": "code",
      "metadata": {
        "id": "2Nnxv9OJSMAy"
      },
      "source": [
        "def evaluate_model(model,X,y):\n",
        "    cv = RepeatedStratifiedKFold(n_splits = 10,n_repeats = 3, random_state =1)\n",
        "    scores = cross_val_score(model,X,y,scoring='accuracy',cv=cv,n_jobs=-1,error_score='raise')\n",
        "    return scores"
      ],
      "execution_count": 31,
      "outputs": []
    },
    {
      "cell_type": "code",
      "metadata": {
        "colab": {
          "base_uri": "https://localhost:8080/"
        },
        "id": "XffTY7MMXMfI",
        "outputId": "0569728d-a0f9-4b30-9dc6-b3780fdb19ac"
      },
      "source": [
        "def forward_regression(X, y,\n",
        "                       threshold_in,\n",
        "                       verbose=False):\n",
        "    initial_list = []\n",
        "    included = list(initial_list)\n",
        "    while True:\n",
        "        changed=False\n",
        "        excluded = list(set(X.columns)-set(included))\n",
        "        new_pval = pd.Series(index=excluded)\n",
        "        for new_column in excluded:\n",
        "            model = sm.OLS(y, sm.add_constant(pd.DataFrame(X[included+[new_column]]))).fit()\n",
        "            new_pval[new_column] = model.pvalues[new_column]\n",
        "        best_pval = new_pval.min()\n",
        "        if best_pval < threshold_in:\n",
        "            best_feature = new_pval.idxmin()\n",
        "            included.append(best_feature)\n",
        "            changed=True\n",
        "            if verbose:\n",
        "                print('Add  {:30} with p-value {:.6}'.format(best_feature, best_pval))\n",
        "\n",
        "        if not changed:\n",
        "            break\n",
        "\n",
        "    return included\n",
        "\n",
        "forward_regression(X_train,y_train,0.05)"
      ],
      "execution_count": 32,
      "outputs": [
        {
          "output_type": "execute_result",
          "data": {
            "text/plain": [
              "['client_catg',\n",
              " 'joining_year',\n",
              " 'disrict',\n",
              " 'region',\n",
              " 'tarif_type',\n",
              " 'consommation_level_3',\n",
              " 'reading_remarque',\n",
              " 'old_index',\n",
              " 'joining_month',\n",
              " 'counter_code']"
            ]
          },
          "metadata": {
            "tags": []
          },
          "execution_count": 32
        }
      ]
    },
    {
      "cell_type": "markdown",
      "metadata": {
        "id": "xERSwUGFaweH"
      },
      "source": [
        "The variables chosen can be seen to exclude the ones noted earlier to have outliers"
      ]
    },
    {
      "cell_type": "markdown",
      "metadata": {
        "id": "UyF2V-OZZIFu"
      },
      "source": [
        "## Let's use the chosen variables by the forward regression model"
      ]
    },
    {
      "cell_type": "code",
      "metadata": {
        "id": "0SDqa7A-Y9Qo"
      },
      "source": [
        "X_train = new_df[['client_catg',\n",
        " 'joining_year',\n",
        " 'disrict',\n",
        " 'region',\n",
        " 'tarif_type',\n",
        " 'consommation_level_3',\n",
        " 'reading_remarque',\n",
        " 'old_index',\n",
        " 'joining_month',\n",
        " 'counter_code']\n",
        "]\n",
        "X_test = new_df_test[['client_catg',\n",
        " 'joining_year',\n",
        " 'disrict',\n",
        " 'region',\n",
        " 'tarif_type',\n",
        " 'consommation_level_3',\n",
        " 'reading_remarque',\n",
        " 'old_index',\n",
        " 'joining_month',\n",
        " 'counter_code']\n",
        "]"
      ],
      "execution_count": 33,
      "outputs": []
    },
    {
      "cell_type": "markdown",
      "metadata": {
        "id": "kV9U1RHm9jOx"
      },
      "source": [
        "Fill all Nans"
      ]
    },
    {
      "cell_type": "code",
      "metadata": {
        "id": "PEAXnEMh0vHR"
      },
      "source": [
        "X_train.isnull().any()\n",
        "X_train = X_train.fillna(method='ffill')\n",
        "\n",
        "y_train.isnull().any()\n",
        "y_train = y_train.fillna(method='ffill')"
      ],
      "execution_count": 34,
      "outputs": []
    },
    {
      "cell_type": "code",
      "metadata": {
        "colab": {
          "base_uri": "https://localhost:8080/"
        },
        "id": "FKv_XHt6rirg",
        "outputId": "a9624b30-961c-448a-acf9-78e7c2ae71e6"
      },
      "source": [
        "# Logistic Regression \n",
        "X_train_split, X_test_split, y_train_split, y_test_split = train_test_split(X_train, y_train, test_size=0.33,random_state=42)\n",
        "\n",
        "logisticRegr = LogisticRegression(max_iter = 100000,solver = 'lbfgs',class_weight = 'balanced')\n",
        "logisticRegr.fit(X_train_split,y_train_split)\n",
        "\n",
        "y_preds = logisticRegr.predict_proba(X_test)[:,0]\n",
        "\n",
        "print(\"Accuracy using crossval \" , np.mean(evaluate_model(logisticRegr, X_train,y_train)))\n",
        "score = logisticRegr.score(X_train,y_train)\n",
        "\n",
        "\n",
        "logisticRegr_split = LogisticRegression().fit(X_train_split,y_train_split)\n",
        "y_pred_split = logisticRegr.predict(X_test_split)\n",
        "\n",
        "score_split = logisticRegr.score(X_test_split,y_test_split)\n",
        "print(\"Accuracy using splitted datasets : \", score_split)\n",
        "\n",
        "# conf_matrix\n",
        "cf_matrix = confusion_matrix(y_test_split,y_pred_split)\n",
        "print(\"Confusion Matrix\\n : \", cf_matrix)\n",
        "\n",
        "# recall --> TP / (TP + FN) \n",
        "recall = recall_score(y_test_split,y_pred_split)\n",
        "print(\"Recall \\n : \", recall)\n",
        "\n",
        "# precision --> TP / (TP + FP) \n",
        "precision = precision_score(y_test_split,y_pred_split)\n",
        "print(\"Precision \\n : \", precision)"
      ],
      "execution_count": 35,
      "outputs": [
        {
          "output_type": "stream",
          "text": [
            "Accuracy using crossval  0.5966162683901545\n",
            "Accuracy using splitted datasets :  0.6088609576633194\n",
            "Confusion Matrix\n",
            " :  [[25731 16431]\n",
            " [ 1058  1493]]\n",
            "Recall \n",
            " :  0.5852606820854567\n",
            "Precision \n",
            " :  0.08329613925463067\n"
          ],
          "name": "stdout"
        }
      ]
    },
    {
      "cell_type": "code",
      "metadata": {
        "id": "4nPHGPvKL6wB"
      },
      "source": [
        "y_pred_s plit"
      ],
      "execution_count": null,
      "outputs": []
    },
    {
      "cell_type": "markdown",
      "metadata": {
        "id": "BAb3-7vKhZ5N"
      },
      "source": [
        "The recall is intuitively the ability of the classifier to find all the positive samples.\n",
        "\n",
        "The precision is intuitively the ability of the classifier not to label as positive a sample that is negative.\n"
      ]
    },
    {
      "cell_type": "markdown",
      "metadata": {
        "id": "gjNNEWB_sMl_"
      },
      "source": [
        "### create our csv submission"
      ]
    },
    {
      "cell_type": "code",
      "metadata": {
        "colab": {
          "base_uri": "https://localhost:8080/",
          "height": 204
        },
        "id": "IfZT5Fym91C7",
        "outputId": "ed390925-5d70-4681-a142-780da670dc3e"
      },
      "source": [
        "\n",
        "si = pd.DataFrame()\n",
        "si['client_id'] = new_df_test['client_id']\n",
        "si['target'] = y_preds\n",
        "si.to_csv('logt.csv',index=False)\n",
        "si.tail(5)"
      ],
      "execution_count": 36,
      "outputs": [
        {
          "output_type": "execute_result",
          "data": {
            "text/html": [
              "<div>\n",
              "<style scoped>\n",
              "    .dataframe tbody tr th:only-of-type {\n",
              "        vertical-align: middle;\n",
              "    }\n",
              "\n",
              "    .dataframe tbody tr th {\n",
              "        vertical-align: top;\n",
              "    }\n",
              "\n",
              "    .dataframe thead th {\n",
              "        text-align: right;\n",
              "    }\n",
              "</style>\n",
              "<table border=\"1\" class=\"dataframe\">\n",
              "  <thead>\n",
              "    <tr style=\"text-align: right;\">\n",
              "      <th></th>\n",
              "      <th>client_id</th>\n",
              "      <th>target</th>\n",
              "    </tr>\n",
              "  </thead>\n",
              "  <tbody>\n",
              "    <tr>\n",
              "      <th>1939587</th>\n",
              "      <td>test_Client_9995</td>\n",
              "      <td>0.446697</td>\n",
              "    </tr>\n",
              "    <tr>\n",
              "      <th>1939591</th>\n",
              "      <td>test_Client_9996</td>\n",
              "      <td>0.435258</td>\n",
              "    </tr>\n",
              "    <tr>\n",
              "      <th>1939637</th>\n",
              "      <td>test_Client_9997</td>\n",
              "      <td>0.610374</td>\n",
              "    </tr>\n",
              "    <tr>\n",
              "      <th>1939696</th>\n",
              "      <td>test_Client_9998</td>\n",
              "      <td>0.602958</td>\n",
              "    </tr>\n",
              "    <tr>\n",
              "      <th>1939697</th>\n",
              "      <td>test_Client_9999</td>\n",
              "      <td>0.441461</td>\n",
              "    </tr>\n",
              "  </tbody>\n",
              "</table>\n",
              "</div>"
            ],
            "text/plain": [
              "                client_id    target\n",
              "1939587  test_Client_9995  0.446697\n",
              "1939591  test_Client_9996  0.435258\n",
              "1939637  test_Client_9997  0.610374\n",
              "1939696  test_Client_9998  0.602958\n",
              "1939697  test_Client_9999  0.441461"
            ]
          },
          "metadata": {
            "tags": []
          },
          "execution_count": 36
        }
      ]
    },
    {
      "cell_type": "markdown",
      "metadata": {
        "id": "rsbjXjvZsDQl"
      },
      "source": [
        "### Let's try other models"
      ]
    },
    {
      "cell_type": "code",
      "metadata": {
        "colab": {
          "base_uri": "https://localhost:8080/"
        },
        "id": "_lLpm-utSMAz",
        "outputId": "e21eb1b4-db76-4a99-9394-94949be2e29f"
      },
      "source": [
        "\n",
        "# create array of models to evaluate\n",
        "models = []\n",
        "models.append(('LoR',LogisticRegression()))\n",
        "models.append(('Dec_Tree',DecisionTreeClassifier(max_depth=5, random_state=0)))\n",
        "models.append(('KNN',KNeighborsClassifier(n_neighbors = 10)))\n",
        "models.append(('LDA',LinearDiscriminantAnalysis()))\n",
        "models.append(('GaussianNB',GaussianNB()))\n",
        "# models.append(('SVM',SVC()))\n",
        "# models.append(('R_Forest',RandomForestClassifier(n_estimators = 190, random_state=0)))\n",
        "\n",
        "\n",
        "files = []\n",
        "names = []\n",
        "list_of_lists = []\n",
        "predictions =[]\n",
        "scores = []\n",
        "\n",
        "for name,model in models:\n",
        "    model.fit(X_train,y_train)\n",
        "    \n",
        "    pred_name = \"y\" + name\n",
        "    \n",
        "    pred_name = model.predict(X_test)\n",
        "    \n",
        "    # print(name, \" Accuracy: \" ,np.mean(evaluate_model(model,X_test,pred_name)))\n",
        "    print(name,\" Accuracy :\", np.mean(evaluate_model(model,X_train,y_train)))\n",
        "    ss = pd.DataFrame()\n",
        "    ss['client_id'] = new_df_test['client_id']\n",
        "    ss['target'] = pred_name \n",
        "    ss.to_csv(name + \".csv\",index=False)\n"
      ],
      "execution_count": 37,
      "outputs": [
        {
          "output_type": "stream",
          "text": [
            "LoR  Accuracy : 0.9440758319060054\n",
            "Dec_Tree  Accuracy : 0.9441250351214859\n",
            "KNN  Accuracy : 0.9441471766138433\n",
            "LDA  Accuracy : 0.9434386523081408\n",
            "GaussianNB  Accuracy : 0.932618895636148\n"
          ],
          "name": "stdout"
        }
      ]
    },
    {
      "cell_type": "markdown",
      "metadata": {
        "id": "7VM3GfwDSMA6"
      },
      "source": [
        "# Let's split our dataset into train and test our models with test and train splits"
      ]
    },
    {
      "cell_type": "code",
      "metadata": {
        "id": "obh4i956SMA6"
      },
      "source": [
        "X_train_split, X_test_split, y_train_split, y_test_split = train_test_split(X_train, y_train, test_size=0.33,random_state=42)"
      ],
      "execution_count": 38,
      "outputs": []
    },
    {
      "cell_type": "code",
      "metadata": {
        "colab": {
          "base_uri": "https://localhost:8080/"
        },
        "id": "pYUixv62SMA7",
        "outputId": "bfe9ac62-13ad-4185-f8a2-6126dd7ae006"
      },
      "source": [
        "scaler = StandardScaler()\n",
        "scaler.fit(X_train_split)\n",
        "scaler.transform(X_train_split)\n",
        "# Repeat same thing now evaluating our models\n",
        "models_splits = []\n",
        "models_splits.append(('LoR_split',LogisticRegression(random_state=0,max_iter = 1000)))\n",
        "models_splits.append(('Dec_Tree_split',DecisionTreeClassifier(max_depth=5, random_state=0)))\n",
        "models_splits.append(('KNN_split',KNeighborsClassifier(n_neighbors = 10)))\n",
        "models_splits.append(('LDA_split',LinearDiscriminantAnalysis()))\n",
        "models_splits.append(('GaussianNB_split',GaussianNB()))\n",
        "models_splits.append(('Catb',CatBoostClassifier(border_count = 35, depth =10, iterations= 100, learning_rate = 0.1,metric_period=100)))\n",
        "\n",
        "for name, model in models_splits:\n",
        "    model.fit(X_train_split,y_train_split)\n",
        "    \n",
        "    # pred_name = \"y\" + name\n",
        "    \n",
        "    predicted_val = model.predict(X_test_split)\n",
        "    \n",
        "    # evaluate model\n",
        "   \n",
        "    print(name,\" MAE :\", mean_absolute_error(y_test_split,predicted_val))\n",
        "  \n",
        "    # print(name,\" Model Accuracy : \", np.mean(evaluate_model(model,X_test_split,y_test_split)))\n",
        "    # print(name,\" Model Accuracy split : \", np.mean(evaluate_model(model,X_train_split,y_train_split)))\n",
        "\n",
        "    predicted_val = []\n",
        "\n",
        "  "
      ],
      "execution_count": 39,
      "outputs": [
        {
          "output_type": "stream",
          "text": [
            "LoR_split  MAE : 0.057119853286516226\n",
            "Dec_Tree_split  MAE : 0.05716458300717912\n",
            "KNN_split  MAE : 0.057119853286516226\n",
            "LDA_split  MAE : 0.057656609934470957\n",
            "GaussianNB_split  MAE : 0.08015565942790687\n",
            "0:\tlearn: 0.6181552\ttotal: 95.9ms\tremaining: 9.49s\n",
            "99:\tlearn: 0.1896891\ttotal: 3.3s\tremaining: 0us\n",
            "Catb  MAE : 0.057119853286516226\n"
          ],
          "name": "stdout"
        }
      ]
    },
    {
      "cell_type": "markdown",
      "metadata": {
        "id": "H8Fk9J5PSMA8"
      },
      "source": [
        "# Let's use boosting ensemble with Catboost"
      ]
    },
    {
      "cell_type": "code",
      "metadata": {
        "colab": {
          "base_uri": "https://localhost:8080/"
        },
        "id": "AamlznaTSMA9",
        "outputId": "ed77d08b-d2fd-4c92-aa70-47bdff463b25"
      },
      "source": [
        "model = CatBoostClassifier(iterations = 1000,learning_rate = 1, depth = 2,metric_period=1000)\n",
        "model = model.fit(X_train,y_train)\n",
        "pred_y = model.predict(X_test)\n",
        "\n",
        "# create submission_csv\n",
        "ss_boost = pd.DataFrame()\n",
        "ss_boost['client_id'] = new_df_test['client_id']\n",
        "ss_boost['target'] = pred_y\n",
        "ss_boost.to_csv(\"cat_before_estimation\" + \".csv\",index=False)\n",
        "\n",
        "print(\"Catboost\",\" Model Accuracy before estimating parameters: \", np.mean(evaluate_model(model,X_test_split,y_test_split)))\n"
      ],
      "execution_count": 40,
      "outputs": [
        {
          "output_type": "stream",
          "text": [
            "0:\tlearn: 0.2145930\ttotal: 51.6ms\tremaining: 51.6s\n",
            "999:\tlearn: 0.1901404\ttotal: 32.2s\tremaining: 0us\n",
            "Catboost  Model Accuracy before estimating parameters:  0.9405616724062988\n"
          ],
          "name": "stdout"
        }
      ]
    },
    {
      "cell_type": "markdown",
      "metadata": {
        "id": "3EdRkGQrHUMB"
      },
      "source": [
        "## Estimating Parameters for CatBoost Model using GridSearch\n",
        "\n"
      ]
    },
    {
      "cell_type": "code",
      "metadata": {
        "colab": {
          "base_uri": "https://localhost:8080/"
        },
        "id": "fBrBS1Z9K_WV",
        "outputId": "010f4f08-af2b-49f1-b6ac-6df7acbc600b"
      },
      "source": [
        "from sklearn.model_selection import GridSearchCV\n",
        "\n",
        "parameters = {'depth'         : [10],\n",
        "                 'learning_rate' : [0.1],\n",
        "                 'iterations'    : [100],\n",
        "           'border_count':[35, 40, 45, 50, 55],\n",
        "                }\n",
        "                \n",
        "model = CatBoostClassifier(iterations = 1000,learning_rate = 1, depth = 2,metric_period=1000)\n",
        "grid = GridSearchCV(estimator=model, param_grid = parameters, cv = 2, n_jobs=-1)\n",
        "grid.fit(X_train, y_train)   \n",
        "\n",
        "# Results from Grid Search\n",
        "print(\"\\n========================================================\")\n",
        "print(\" Results from Grid Search \" )\n",
        "print(\"========================================================\")   \n",
        "  \n",
        "print(\"\\n The best estimator across ALL searched params:\\n\",\n",
        "         grid.best_estimator_)\n",
        "  \n",
        "print(\"\\n The best score across ALL searched params:\\n\",\n",
        "         grid.best_score_)\n",
        "  \n",
        "print(\"\\n The best parameters across ALL searched params:\\n\",\n",
        "         grid.best_params_)"
      ],
      "execution_count": 41,
      "outputs": [
        {
          "output_type": "stream",
          "text": [
            "0:\tlearn: 0.6183555\ttotal: 49.2ms\tremaining: 4.87s\n",
            "99:\tlearn: 0.1925854\ttotal: 4.46s\tremaining: 0us\n",
            "\n",
            "========================================================\n",
            " Results from Grid Search \n",
            "========================================================\n",
            "\n",
            " The best estimator across ALL searched params:\n",
            " <catboost.core.CatBoostClassifier object at 0x7f626a533590>\n",
            "\n",
            " The best score across ALL searched params:\n",
            " 0.9441225749762039\n",
            "\n",
            " The best parameters across ALL searched params:\n",
            " {'border_count': 35, 'depth': 10, 'iterations': 100, 'learning_rate': 0.1}\n"
          ],
          "name": "stdout"
        }
      ]
    },
    {
      "cell_type": "markdown",
      "metadata": {
        "id": "t62_vJILOIyW"
      },
      "source": [
        "## Fitting the model with chosen parameters"
      ]
    },
    {
      "cell_type": "code",
      "metadata": {
        "colab": {
          "base_uri": "https://localhost:8080/"
        },
        "id": "yRIqaKVRLDtq",
        "outputId": "06b74804-5e48-4081-88f5-dbd25b43253b"
      },
      "source": [
        "model = CatBoostClassifier(border_count = 55, depth = 10, iterations = 100, learning_rate = 0.1, metric_period=100)\n",
        "# train and evaluate using whole dataset\n",
        "model = model.fit(X_train,y_train)\n",
        "y_preds = model.predict(X_test)\n",
        "\n",
        "# train using test train split dataset\n",
        "model = model.fit(X_train_split, y_train_split)\n",
        "y_pred_split = model.predict(X_test_split)\n",
        "\n",
        "# evaluate model with test-train splits\n",
        "print(\"Catboost\",\" Model Accuracy after estimating parameters : \", np.mean(evaluate_model(model,X_test_split,y_test_split)))\n",
        "print(name,\" MAE after test-train split :\", mean_absolute_error(y_test_split,y_pred_split))\n",
        "\n",
        "# create submission csv \n",
        "ss_boosts = pd.DataFrame()\n",
        "ss_boosts['client_id'] = new_df_test['client_id']\n",
        "ss_boosts['target'] = y_preds\n",
        "ss_boosts.to_csv(\"cat_afterEstimation\" + \".csv\",index=False)"
      ],
      "execution_count": 42,
      "outputs": [
        {
          "output_type": "stream",
          "text": [
            "0:\tlearn: 0.6183062\ttotal: 58.1ms\tremaining: 5.75s\n",
            "99:\tlearn: 0.1926069\ttotal: 4.75s\tremaining: 0us\n",
            "0:\tlearn: 0.6181768\ttotal: 32.3ms\tremaining: 3.2s\n",
            "99:\tlearn: 0.1896378\ttotal: 3.32s\tremaining: 0us\n",
            "Catboost  Model Accuracy after estimating parameters :  0.9429248811695381\n",
            "Catb  MAE after test-train split : 0.057142218146847674\n"
          ],
          "name": "stdout"
        }
      ]
    },
    {
      "cell_type": "markdown",
      "metadata": {
        "id": "longNrXKN3oj"
      },
      "source": [
        "### The accuracy increased after estimating parameters with GridSearch CV"
      ]
    },
    {
      "cell_type": "markdown",
      "metadata": {
        "id": "sCP7hRWESMA9"
      },
      "source": [
        "# Let's try a stacking ensemble model with a few models"
      ]
    },
    {
      "cell_type": "code",
      "metadata": {
        "id": "MuFnQGNn9HOR"
      },
      "source": [
        "scaler = StandardScaler()\n",
        "scaler.fit(X_train)\n",
        "# scaler.transform(X_train)\n",
        "\n",
        "def stack_models():\n",
        "    # base models\n",
        "    models = []\n",
        "    # models.append(('LoR_split',LogisticRegression(random_state=0,max_iter=1000)))\n",
        "    models.append(('Dec_Tree_split',DecisionTreeClassifier(max_depth=5, random_state=0)))\n",
        "    models.append(('KNN_split',KNeighborsClassifier(n_neighbors = 10)))\n",
        "    models.append(('LDA_split',LinearDiscriminantAnalysis()))\n",
        "    models.append(('GaussianNB_split',GaussianNB()))\n",
        "    models.append(('SVM_split',SVC()))\n",
        "    # estimator model\n",
        "    fin_estimator = LogisticRegression()\n",
        "    # stacking ensemble\n",
        "    model = StackingClassifier(estimators = models, final_estimator = fin_estimator, cv =5)\n",
        "    return model\n",
        "\n",
        "# Evaluate our stacked model\n",
        "model_stack = stack_models()\n",
        "pred_stack_y = model_stack.fit(X_train,y_train)\n",
        "print(\"Stacked model Accuracy : \", np.mean(evaluate_model(model_stack,X_train,y_train)))\n",
        "\n",
        "ss_stack = pd.DataFrame()\n",
        "ss_stack['client_id'] = new_df_test['client_id']\n",
        "ss_stack['target'] = pred_stack_y \n",
        "ss_stack.to_csv(\"Stacked\" + \".csv\",index=False)"
      ],
      "execution_count": null,
      "outputs": []
    },
    {
      "cell_type": "markdown",
      "metadata": {
        "id": "RhegGUeNSMBN"
      },
      "source": [
        "# Let's try an bagging ensemble model with a few models"
      ]
    },
    {
      "cell_type": "code",
      "metadata": {
        "id": "MnOuKEcUMCFK"
      },
      "source": [
        "new_X_train, new_y_train = resample_data(X_train,y_train)\n",
        "X_train_split, X_test_split, y_train_split, y_test_split = train_test_split(new_X_train, new_y_train, test_size=0.33,random_state=42)\n",
        "\n",
        "models = []\n",
        "models.append(('Bg_C_ExtraTree', BaggingClassifier(base_estimator = ExtraTreeClassifier(random_state = 0),random_state=0)))\n",
        "models.append(('Bg_C_SVM', BaggingClassifier(base_estimator = SVC(), n_estimators = 10,random_state=0)))\n",
        "models.append(('Bg_C_DTree', BaggingClassifier(base_estimator = DecisionTreeClassifier(max_depth=5, random_state=0), n_estimators = 10,random_state=0)))\n",
        "models.append(('R_Forest',RandomForestClassifier(n_estimators = 190, random_state=0)))\n",
        "\n",
        "for name,model in models:\n",
        "    model.fit(X_train_split,y_train_split)\n",
        "\n",
        "    pred_val = \"y\" + name\n",
        "    \n",
        "    pred_val = model.predict(X_test_split)\n",
        "    \n",
        "    # evaluation for test train split\n",
        "    print(name, \" Accuracy: \" ,np.mean(evaluate_model(model,X_train_split,y_train_split)))\n",
        "\n",
        "    # conf_matrix\n",
        "    cf_matrix = confusion_matrix(y_test_split,y_pred_split)\n",
        "    print(\"Confusion Matrix\\n : \", cf_matrix)\n",
        "\n",
        "    # recall --> TP / (TP + FN) \n",
        "    recall = recall_score(y_test_split,y_pred_split)\n",
        "    print(\"Recall \\n : \", recall)\n",
        "\n",
        "    # precision --> TP / (TP + FP) \n",
        "    precision = precision_score(y_test_split,y_pred_split)\n",
        "    print(\"Precision \\n : \", precision)\n",
        "        \n",
        "    # create csv\n",
        "    # ss_bagging = pd.DataFrame()\n",
        "    # ss_bagging['client_id'] = new_df_test['client_id']\n",
        "    # ss_bagging['target'] = pred_val \n",
        "    # ss_bagging.to_csv(name + \".csv\",index=False)"
      ],
      "execution_count": null,
      "outputs": []
    },
    {
      "cell_type": "markdown",
      "metadata": {
        "id": "4dDN3EAs8Of-"
      },
      "source": [
        "# Handling bias"
      ]
    },
    {
      "cell_type": "code",
      "metadata": {
        "id": "LT_jbdfF9Mg8"
      },
      "source": [
        "X_train = new_df[['tarif_type', 'counter_number',\n",
        "        'counter_code', 'reading_remarque',\n",
        "       'counter_coefficient', 'consommation_level_1', 'consommation_level_2',\n",
        "       'consommation_level_3', 'consommation_level_4', 'old_index',\n",
        "       'new_index',  'disrict', 'client_catg',\n",
        "       'region', 'joining_month', 'joining_year']]\n",
        "y_train = new_df['target']"
      ],
      "execution_count": 45,
      "outputs": []
    },
    {
      "cell_type": "code",
      "metadata": {
        "id": "3uDtUZyP9RPp"
      },
      "source": [
        "X_train_split, X_test_split, y_train_split, y_test_split = train_test_split(X_train, y_train, test_size=0.33,random_state=42)"
      ],
      "execution_count": 46,
      "outputs": []
    },
    {
      "cell_type": "code",
      "metadata": {
        "colab": {
          "base_uri": "https://localhost:8080/"
        },
        "id": "qL-WfK-R6DKP",
        "outputId": "b5143fed-5882-4e27-bd0f-da19cee7d2ea"
      },
      "source": [
        "# Trying to handle bias\n",
        "\n",
        "X_train_bal1 = X_train[y_train == 1.0]\n",
        "y_train1 = y_train[y_train == 1.0]\n",
        "\n",
        "X_train_bal0 = X_train[y_train == 0.0].sample(len(X_train_bal1))\n",
        "Y_train0 = y_train[y_train == 0].sample(len(X_train_bal1))\n",
        "\n",
        "X = pd.concat([X_train_bal1, X_train_bal0])\n",
        "Y = pd.concat([y_train1, Y_train0])\n",
        "\n",
        "logisticb = LogisticRegression()\n",
        "logisticb.fit(X,Y)\n",
        "st_pred = logisticb.predict(X)\n",
        "\n",
        "# evaluate\n",
        "print(\"Accuracy :\" ,np.mean(evaluate_model(logisticb, X,Y)))\n",
        "\n",
        "logisticb.score(X,Y)\n",
        "\n",
        "st = pd.DataFrame()\n",
        "#st['client_id'] = new_df_test['client_id']\n",
        "st['target'] = st_pred\n",
        "st.to_csv('logt.csv',index=False)"
      ],
      "execution_count": 47,
      "outputs": [
        {
          "output_type": "stream",
          "text": [
            "Accuracy : 0.5002643608613796\n"
          ],
          "name": "stdout"
        }
      ]
    },
    {
      "cell_type": "markdown",
      "metadata": {
        "id": "R7LwpATfiLpo"
      },
      "source": [
        "# Dealing with Imbalance"
      ]
    },
    {
      "cell_type": "markdown",
      "metadata": {
        "id": "0uJwRp8WirlX"
      },
      "source": [
        "Importing "
      ]
    },
    {
      "cell_type": "code",
      "metadata": {
        "id": "66mMnUO2iK_y"
      },
      "source": [
        "from imblearn.over_sampling import SMOTE\n"
      ],
      "execution_count": 48,
      "outputs": []
    },
    {
      "cell_type": "code",
      "metadata": {
        "id": "lGrQ8LJgivuo"
      },
      "source": [
        "def resample_data(X,y):\n",
        "  smote_model = SMOTE(random_state=42)\n",
        "  X_resampled, y_resampled = smote_model.fit_resample(X,y)\n",
        "  return X_resampled, y_resampled"
      ],
      "execution_count": 49,
      "outputs": []
    },
    {
      "cell_type": "code",
      "metadata": {
        "colab": {
          "base_uri": "https://localhost:8080/"
        },
        "id": "GyIlbzlNjGce",
        "outputId": "5d747de6-7990-4011-c42f-fa42b8c91ee2"
      },
      "source": [
        "new_X_train, new_y_train = resample_data(X_train,y_train)\n",
        "X_train_split, X_test_split, y_train_split, y_test_split = train_test_split(new_X_train, new_y_train, test_size=0.33,random_state=42)\n",
        "\n",
        "logisticRegr = LogisticRegression(max_iter = 100000,solver = 'lbfgs',class_weight = 'balanced')\n",
        "logisticRegr.fit(X_train_split,y_train_split)\n",
        "\n",
        "y_preds = logisticRegr.predict_proba(X_test_split)[:,0]\n",
        "\n",
        "print(\"Accuracy using crossval \" , np.mean(evaluate_model(logisticRegr, X_train,y_train)))\n",
        "score = logisticRegr.score(X_train,y_train)\n",
        "\n",
        "\n",
        "logisticRegr_split = LogisticRegression().fit(X_train_split,y_train_split)\n",
        "y_pred_split = logisticRegr.predict(X_test_split)\n",
        "\n",
        "score_split = logisticRegr.score(X_test_split,y_test_split)\n",
        "print(\"Accuracy using splitted datasets : \", score_split)\n",
        "\n",
        "# conf_matrix\n",
        "cf_matrix = confusion_matrix(y_test_split,y_pred_split)\n",
        "print(\"Confusion Matrix\\n : \", cf_matrix)\n",
        "\n",
        "# recall --> TP / (TP + FN) \n",
        "recall = recall_score(y_test_split,y_pred_split)\n",
        "print(\"Recall \\n : \", recall)\n",
        "\n",
        "# precision --> TP / (TP + FP) \n",
        "precision = precision_score(y_test_split,y_pred_split)\n",
        "print(\"Precision \\n : \", precision)"
      ],
      "execution_count": 51,
      "outputs": [
        {
          "output_type": "stream",
          "text": [
            "Accuracy using crossval  0.9384617705295807\n",
            "Accuracy using splitted datasets :  0.4988866780367633\n",
            "Confusion Matrix\n",
            " :  [[41819   247]\n",
            " [42063   303]]\n",
            "Recall \n",
            " :  0.007151961478544116\n",
            "Precision \n",
            " :  0.5509090909090909\n"
          ],
          "name": "stdout"
        }
      ]
    },
    {
      "cell_type": "markdown",
      "metadata": {
        "id": "3KSUvrPnn9bA"
      },
      "source": [
        "## Lets now use the resampled dataset "
      ]
    },
    {
      "cell_type": "code",
      "metadata": {
        "colab": {
          "base_uri": "https://localhost:8080/"
        },
        "id": "835oBJ87nx1j",
        "outputId": "db02d246-b9b2-431a-9a2e-b4989355da46"
      },
      "source": [
        "scaler = StandardScaler()\n",
        "scaler.fit(X_train_split)\n",
        "scaler.transform(X_train_split)\n",
        "\n",
        "new_X_train, new_y_train = resample_data(X_train,y_train)\n",
        "X_train_split, X_test_split, y_train_split, y_test_split = train_test_split(new_X_train, new_y_train, test_size=0.33,random_state=42)\n",
        "\n",
        "# Repeat same thing now evaluating our models\n",
        "models_splits = []\n",
        "models_splits.append(('LoR_split',LogisticRegression(random_state=0,max_iter = 1000)))\n",
        "models_splits.append(('Dec_Tree_split',DecisionTreeClassifier(max_depth=5, random_state=0)))\n",
        "models_splits.append(('KNN_split',KNeighborsClassifier(n_neighbors = 10)))\n",
        "models_splits.append(('LDA_split',LinearDiscriminantAnalysis()))\n",
        "models_splits.append(('GaussianNB_split',GaussianNB()))\n",
        "models_splits.append(('Catb',CatBoostClassifier(border_count = 35, depth =10, iterations= 100, learning_rate = 0.1,metric_period=100)))\n",
        "\n",
        "for name, model in models_splits:\n",
        "    model.fit(X_train_split,y_train_split)\n",
        "    \n",
        "    # pred_name = \"y\" + name\n",
        "    \n",
        "    y_pred_split = model.predict(X_test_split)\n",
        "    \n",
        "    # evaluate model\n",
        "    # conf_matrix\n",
        "    cf_matrix = confusion_matrix(y_test_split,y_pred_split)\n",
        "    print(name,\" Confusion Matrix\\n : \", cf_matrix)\n",
        "\n",
        "    # recall --> TP / (TP + FN) \n",
        "    recall = recall_score(y_test_split,y_pred_split)\n",
        "    print(name,\" Recall \\n : \", recall)\n",
        "\n",
        "    # precision --> TP / (TP + FP) \n",
        "    precision = precision_score(y_test_split,y_pred_split)\n",
        "    print(name, \"Precision \\n : \", precision)\n",
        "   \n",
        "    # print(name,\" Model Accuracy : \", np.mean(evaluate_model(model,X_test_split,y_test_split)))\n",
        "    # print(name,\" Model Accuracy split : \", np.mean(evaluate_model(model,X_train_split,y_train_split)))\n",
        "\n",
        "    predicted_val = []\n",
        "\n",
        "  "
      ],
      "execution_count": 52,
      "outputs": [
        {
          "output_type": "stream",
          "text": [
            "LoR_split  Confusion Matrix\n",
            " :  [[41819   247]\n",
            " [42063   303]]\n",
            "LoR_split  Recall \n",
            " :  0.007151961478544116\n",
            "LoR_split Precision \n",
            " :  0.5509090909090909\n",
            "Dec_Tree_split  Confusion Matrix\n",
            " :  [[32068  9998]\n",
            " [10024 32342]]\n",
            "Dec_Tree_split  Recall \n",
            " :  0.7633951753764812\n",
            "Dec_Tree_split Precision \n",
            " :  0.763863958431743\n",
            "KNN_split  Confusion Matrix\n",
            " :  [[29518 12548]\n",
            " [ 5966 36400]]\n",
            "KNN_split  Recall \n",
            " :  0.8591795307557948\n",
            "KNN_split Precision \n",
            " :  0.7436463185421264\n",
            "LDA_split  Confusion Matrix\n",
            " :  [[25531 16535]\n",
            " [17085 25281]]\n",
            "LDA_split  Recall \n",
            " :  0.5967285087098144\n",
            "LDA_split Precision \n",
            " :  0.6045771953319303\n",
            "GaussianNB_split  Confusion Matrix\n",
            " :  [[ 1034 41032]\n",
            " [  547 41819]]\n",
            "GaussianNB_split  Recall \n",
            " :  0.9870887032054005\n",
            "GaussianNB_split Precision \n",
            " :  0.5047494900484001\n",
            "0:\tlearn: 0.6494452\ttotal: 97.7ms\tremaining: 9.68s\n",
            "99:\tlearn: 0.2643262\ttotal: 7.96s\tremaining: 0us\n",
            "Catb  Confusion Matrix\n",
            " :  [[39728  2338]\n",
            " [ 6776 35590]]\n",
            "Catb  Recall \n",
            " :  0.8400604258131521\n",
            "Catb Precision \n",
            " :  0.9383568867327569\n"
          ],
          "name": "stdout"
        }
      ]
    },
    {
      "cell_type": "markdown",
      "metadata": {
        "id": "uBATCMWG8nv-"
      },
      "source": [
        ""
      ]
    },
    {
      "cell_type": "markdown",
      "metadata": {
        "id": "BhZEVNmaSMBQ"
      },
      "source": [
        "# You can do more to improve the model!\n",
        "\n",
        "**Estimate parameters for models and bag, stack or boost them**\n",
        "#### More Boosting Algorithms e.g XgBoost, AdaBoost\n",
        "#### More Ensembles i.e Bagging, Voting, Gradient Boosting\n",
        "\n",
        "### Resample, use splits and ensambles "
      ]
    },
    {
      "cell_type": "code",
      "metadata": {
        "id": "2iB_DMgNs1Jf"
      },
      "source": [
        ""
      ],
      "execution_count": null,
      "outputs": []
    }
  ]
}