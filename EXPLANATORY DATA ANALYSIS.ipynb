{
 "cells": [
  {
   "cell_type": "markdown",
   "metadata": {},
   "source": [
    "# FRAUD DETECTION\n",
    "\n",
    "This notebook should help you get started with any competition on Zindi. In it we cover:\n",
    "- Loading the data\n",
    "- Simple EDA and an example of feature enginnering"
   ]
  },
  {
   "cell_type": "markdown",
   "metadata": {},
   "source": [
    "# Setup\n",
    "\n",
    "Load the data into the notebook."
   ]
  },
  {
   "cell_type": "code",
   "execution_count": 1,
   "metadata": {},
   "outputs": [],
   "source": [
    "import pandas as pd\n",
    "import numpy as np\n",
    "from matplotlib import pyplot as plt\n",
    "import seaborn as sns\n",
    "\n",
    "##Supress warnings\n",
    "import sys\n",
    "import warnings\n",
    "\n",
    "if not sys.warnoptions:\n",
    "    warnings.simplefilter(\"ignore\")\n",
    "    \n",
    "# Models\n",
    "from sklearn.linear_model import LinearRegression, LogisticRegression\n",
    "from sklearn.metrics import mean_absolute_error\n",
    "from sklearn.neighbors import KNeighborsClassifier\n",
    "from sklearn import preprocessing\n",
    "from sklearn.tree import DecisionTreeClassifier\n",
    "from sklearn.discriminant_analysis import LinearDiscriminantAnalysis\n",
    "from sklearn.naive_bayes import GaussianNB\n",
    "from sklearn.svm import SVC\n",
    "from sklearn.ensemble import RandomForestClassifier\n",
    "from sklearn.model_selection import train_test_split\n",
    "from sklearn.ensemble import BaggingClassifier\n",
    "from catboost import CatBoostClassifier\n",
    "\n",
    "# Metrics\n",
    "from sklearn.metrics import mean_absolute_error\n",
    "from sklearn.metrics import accuracy_score\n",
    "from sklearn.metrics import r2_score"
   ]
  },
  {
   "cell_type": "markdown",
   "metadata": {},
   "source": [
    "## Load the client training dataset"
   ]
  },
  {
   "cell_type": "code",
   "execution_count": 2,
   "metadata": {},
   "outputs": [
    {
     "data": {
      "text/html": [
       "<div>\n",
       "<style scoped>\n",
       "    .dataframe tbody tr th:only-of-type {\n",
       "        vertical-align: middle;\n",
       "    }\n",
       "\n",
       "    .dataframe tbody tr th {\n",
       "        vertical-align: top;\n",
       "    }\n",
       "\n",
       "    .dataframe thead th {\n",
       "        text-align: right;\n",
       "    }\n",
       "</style>\n",
       "<table border=\"1\" class=\"dataframe\">\n",
       "  <thead>\n",
       "    <tr style=\"text-align: right;\">\n",
       "      <th></th>\n",
       "      <th>disrict</th>\n",
       "      <th>client_id</th>\n",
       "      <th>client_catg</th>\n",
       "      <th>region</th>\n",
       "      <th>creation_date</th>\n",
       "      <th>target</th>\n",
       "    </tr>\n",
       "  </thead>\n",
       "  <tbody>\n",
       "    <tr>\n",
       "      <th>0</th>\n",
       "      <td>60</td>\n",
       "      <td>train_Client_0</td>\n",
       "      <td>11</td>\n",
       "      <td>101</td>\n",
       "      <td>31/12/1994</td>\n",
       "      <td>0.0</td>\n",
       "    </tr>\n",
       "    <tr>\n",
       "      <th>1</th>\n",
       "      <td>69</td>\n",
       "      <td>train_Client_1</td>\n",
       "      <td>11</td>\n",
       "      <td>107</td>\n",
       "      <td>29/05/2002</td>\n",
       "      <td>0.0</td>\n",
       "    </tr>\n",
       "    <tr>\n",
       "      <th>2</th>\n",
       "      <td>62</td>\n",
       "      <td>train_Client_10</td>\n",
       "      <td>11</td>\n",
       "      <td>301</td>\n",
       "      <td>13/03/1986</td>\n",
       "      <td>0.0</td>\n",
       "    </tr>\n",
       "    <tr>\n",
       "      <th>3</th>\n",
       "      <td>69</td>\n",
       "      <td>train_Client_100</td>\n",
       "      <td>11</td>\n",
       "      <td>105</td>\n",
       "      <td>11/07/1996</td>\n",
       "      <td>0.0</td>\n",
       "    </tr>\n",
       "    <tr>\n",
       "      <th>4</th>\n",
       "      <td>62</td>\n",
       "      <td>train_Client_1000</td>\n",
       "      <td>11</td>\n",
       "      <td>303</td>\n",
       "      <td>14/10/2014</td>\n",
       "      <td>0.0</td>\n",
       "    </tr>\n",
       "  </tbody>\n",
       "</table>\n",
       "</div>"
      ],
      "text/plain": [
       "   disrict          client_id  client_catg  region creation_date  target\n",
       "0       60     train_Client_0           11     101    31/12/1994     0.0\n",
       "1       69     train_Client_1           11     107    29/05/2002     0.0\n",
       "2       62    train_Client_10           11     301    13/03/1986     0.0\n",
       "3       69   train_Client_100           11     105    11/07/1996     0.0\n",
       "4       62  train_Client_1000           11     303    14/10/2014     0.0"
      ]
     },
     "execution_count": 2,
     "metadata": {},
     "output_type": "execute_result"
    }
   ],
   "source": [
    "client_train = pd.read_csv('client_train.csv')\n",
    "client_train.head(5)"
   ]
  },
  {
   "cell_type": "markdown",
   "metadata": {},
   "source": [
    ".\n",
    ".\n",
    "\n",
    "## Check the shape of the client  training dataset"
   ]
  },
  {
   "cell_type": "code",
   "execution_count": 3,
   "metadata": {},
   "outputs": [
    {
     "data": {
      "text/plain": [
       "(135493, 6)"
      ]
     },
     "execution_count": 3,
     "metadata": {},
     "output_type": "execute_result"
    }
   ],
   "source": [
    "client_train.shape"
   ]
  },
  {
   "cell_type": "markdown",
   "metadata": {},
   "source": [
    "## Load the client testing dataset"
   ]
  },
  {
   "cell_type": "code",
   "execution_count": 4,
   "metadata": {},
   "outputs": [
    {
     "data": {
      "text/plain": [
       "0           test_Client_0\n",
       "1           test_Client_1\n",
       "2          test_Client_10\n",
       "3         test_Client_100\n",
       "4        test_Client_1000\n",
       "               ...       \n",
       "58064    test_Client_9995\n",
       "58065    test_Client_9996\n",
       "58066    test_Client_9997\n",
       "58067    test_Client_9998\n",
       "58068    test_Client_9999\n",
       "Name: client_id, Length: 58069, dtype: object"
      ]
     },
     "execution_count": 4,
     "metadata": {},
     "output_type": "execute_result"
    }
   ],
   "source": [
    "client_test = pd.read_csv('client_test.csv')\n",
    "client_test['client_id']"
   ]
  },
  {
   "cell_type": "markdown",
   "metadata": {},
   "source": [
    ".\n",
    ".\n",
    "\n",
    "## Check the shape of the client  training dataset"
   ]
  },
  {
   "cell_type": "code",
   "execution_count": 5,
   "metadata": {},
   "outputs": [
    {
     "data": {
      "text/plain": [
       "(58069, 5)"
      ]
     },
     "execution_count": 5,
     "metadata": {},
     "output_type": "execute_result"
    }
   ],
   "source": [
    "client_test.shape"
   ]
  },
  {
   "cell_type": "markdown",
   "metadata": {},
   "source": [
    ".\n",
    "## Load the invoice training dataset"
   ]
  },
  {
   "cell_type": "code",
   "execution_count": 6,
   "metadata": {},
   "outputs": [
    {
     "data": {
      "text/html": [
       "<div>\n",
       "<style scoped>\n",
       "    .dataframe tbody tr th:only-of-type {\n",
       "        vertical-align: middle;\n",
       "    }\n",
       "\n",
       "    .dataframe tbody tr th {\n",
       "        vertical-align: top;\n",
       "    }\n",
       "\n",
       "    .dataframe thead th {\n",
       "        text-align: right;\n",
       "    }\n",
       "</style>\n",
       "<table border=\"1\" class=\"dataframe\">\n",
       "  <thead>\n",
       "    <tr style=\"text-align: right;\">\n",
       "      <th></th>\n",
       "      <th>client_id</th>\n",
       "      <th>invoice_date</th>\n",
       "      <th>tarif_type</th>\n",
       "      <th>counter_number</th>\n",
       "      <th>counter_statue</th>\n",
       "      <th>counter_code</th>\n",
       "      <th>reading_remarque</th>\n",
       "      <th>counter_coefficient</th>\n",
       "      <th>consommation_level_1</th>\n",
       "      <th>consommation_level_2</th>\n",
       "      <th>consommation_level_3</th>\n",
       "      <th>consommation_level_4</th>\n",
       "      <th>old_index</th>\n",
       "      <th>new_index</th>\n",
       "      <th>months_number</th>\n",
       "      <th>counter_type</th>\n",
       "    </tr>\n",
       "  </thead>\n",
       "  <tbody>\n",
       "    <tr>\n",
       "      <th>0</th>\n",
       "      <td>train_Client_0</td>\n",
       "      <td>2014-03-24</td>\n",
       "      <td>11</td>\n",
       "      <td>1335667</td>\n",
       "      <td>0</td>\n",
       "      <td>203</td>\n",
       "      <td>8</td>\n",
       "      <td>1</td>\n",
       "      <td>82</td>\n",
       "      <td>0</td>\n",
       "      <td>0</td>\n",
       "      <td>0</td>\n",
       "      <td>14302</td>\n",
       "      <td>14384</td>\n",
       "      <td>4</td>\n",
       "      <td>ELEC</td>\n",
       "    </tr>\n",
       "    <tr>\n",
       "      <th>1</th>\n",
       "      <td>train_Client_0</td>\n",
       "      <td>2013-03-29</td>\n",
       "      <td>11</td>\n",
       "      <td>1335667</td>\n",
       "      <td>0</td>\n",
       "      <td>203</td>\n",
       "      <td>6</td>\n",
       "      <td>1</td>\n",
       "      <td>1200</td>\n",
       "      <td>184</td>\n",
       "      <td>0</td>\n",
       "      <td>0</td>\n",
       "      <td>12294</td>\n",
       "      <td>13678</td>\n",
       "      <td>4</td>\n",
       "      <td>ELEC</td>\n",
       "    </tr>\n",
       "    <tr>\n",
       "      <th>2</th>\n",
       "      <td>train_Client_0</td>\n",
       "      <td>2015-03-23</td>\n",
       "      <td>11</td>\n",
       "      <td>1335667</td>\n",
       "      <td>0</td>\n",
       "      <td>203</td>\n",
       "      <td>8</td>\n",
       "      <td>1</td>\n",
       "      <td>123</td>\n",
       "      <td>0</td>\n",
       "      <td>0</td>\n",
       "      <td>0</td>\n",
       "      <td>14624</td>\n",
       "      <td>14747</td>\n",
       "      <td>4</td>\n",
       "      <td>ELEC</td>\n",
       "    </tr>\n",
       "    <tr>\n",
       "      <th>3</th>\n",
       "      <td>train_Client_0</td>\n",
       "      <td>2015-07-13</td>\n",
       "      <td>11</td>\n",
       "      <td>1335667</td>\n",
       "      <td>0</td>\n",
       "      <td>207</td>\n",
       "      <td>8</td>\n",
       "      <td>1</td>\n",
       "      <td>102</td>\n",
       "      <td>0</td>\n",
       "      <td>0</td>\n",
       "      <td>0</td>\n",
       "      <td>14747</td>\n",
       "      <td>14849</td>\n",
       "      <td>4</td>\n",
       "      <td>ELEC</td>\n",
       "    </tr>\n",
       "    <tr>\n",
       "      <th>4</th>\n",
       "      <td>train_Client_0</td>\n",
       "      <td>2016-11-17</td>\n",
       "      <td>11</td>\n",
       "      <td>1335667</td>\n",
       "      <td>0</td>\n",
       "      <td>207</td>\n",
       "      <td>9</td>\n",
       "      <td>1</td>\n",
       "      <td>572</td>\n",
       "      <td>0</td>\n",
       "      <td>0</td>\n",
       "      <td>0</td>\n",
       "      <td>15066</td>\n",
       "      <td>15638</td>\n",
       "      <td>12</td>\n",
       "      <td>ELEC</td>\n",
       "    </tr>\n",
       "  </tbody>\n",
       "</table>\n",
       "</div>"
      ],
      "text/plain": [
       "        client_id invoice_date  tarif_type  counter_number counter_statue  \\\n",
       "0  train_Client_0   2014-03-24          11         1335667              0   \n",
       "1  train_Client_0   2013-03-29          11         1335667              0   \n",
       "2  train_Client_0   2015-03-23          11         1335667              0   \n",
       "3  train_Client_0   2015-07-13          11         1335667              0   \n",
       "4  train_Client_0   2016-11-17          11         1335667              0   \n",
       "\n",
       "   counter_code  reading_remarque  counter_coefficient  consommation_level_1  \\\n",
       "0           203                 8                    1                    82   \n",
       "1           203                 6                    1                  1200   \n",
       "2           203                 8                    1                   123   \n",
       "3           207                 8                    1                   102   \n",
       "4           207                 9                    1                   572   \n",
       "\n",
       "   consommation_level_2  consommation_level_3  consommation_level_4  \\\n",
       "0                     0                     0                     0   \n",
       "1                   184                     0                     0   \n",
       "2                     0                     0                     0   \n",
       "3                     0                     0                     0   \n",
       "4                     0                     0                     0   \n",
       "\n",
       "   old_index  new_index  months_number counter_type  \n",
       "0      14302      14384              4         ELEC  \n",
       "1      12294      13678              4         ELEC  \n",
       "2      14624      14747              4         ELEC  \n",
       "3      14747      14849              4         ELEC  \n",
       "4      15066      15638             12         ELEC  "
      ]
     },
     "execution_count": 6,
     "metadata": {},
     "output_type": "execute_result"
    }
   ],
   "source": [
    "invoice_train = pd.read_csv('invoice_train.csv')\n",
    "invoice_train.head(5)"
   ]
  },
  {
   "cell_type": "markdown",
   "metadata": {},
   "source": [
    ".\n",
    ".\n",
    "## Check the shape of the invoice training dataset"
   ]
  },
  {
   "cell_type": "code",
   "execution_count": 7,
   "metadata": {},
   "outputs": [
    {
     "data": {
      "text/plain": [
       "(4476749, 16)"
      ]
     },
     "execution_count": 7,
     "metadata": {},
     "output_type": "execute_result"
    }
   ],
   "source": [
    "invoice_train.shape"
   ]
  },
  {
   "cell_type": "markdown",
   "metadata": {},
   "source": [
    ".\n",
    ".\n",
    "## Load the invoice testing dataset"
   ]
  },
  {
   "cell_type": "code",
   "execution_count": 8,
   "metadata": {},
   "outputs": [
    {
     "data": {
      "text/html": [
       "<div>\n",
       "<style scoped>\n",
       "    .dataframe tbody tr th:only-of-type {\n",
       "        vertical-align: middle;\n",
       "    }\n",
       "\n",
       "    .dataframe tbody tr th {\n",
       "        vertical-align: top;\n",
       "    }\n",
       "\n",
       "    .dataframe thead th {\n",
       "        text-align: right;\n",
       "    }\n",
       "</style>\n",
       "<table border=\"1\" class=\"dataframe\">\n",
       "  <thead>\n",
       "    <tr style=\"text-align: right;\">\n",
       "      <th></th>\n",
       "      <th>client_id</th>\n",
       "      <th>invoice_date</th>\n",
       "      <th>tarif_type</th>\n",
       "      <th>counter_number</th>\n",
       "      <th>counter_statue</th>\n",
       "      <th>counter_code</th>\n",
       "      <th>reading_remarque</th>\n",
       "      <th>counter_coefficient</th>\n",
       "      <th>consommation_level_1</th>\n",
       "      <th>consommation_level_2</th>\n",
       "      <th>consommation_level_3</th>\n",
       "      <th>consommation_level_4</th>\n",
       "      <th>old_index</th>\n",
       "      <th>new_index</th>\n",
       "      <th>months_number</th>\n",
       "      <th>counter_type</th>\n",
       "    </tr>\n",
       "  </thead>\n",
       "  <tbody>\n",
       "    <tr>\n",
       "      <th>0</th>\n",
       "      <td>test_Client_0</td>\n",
       "      <td>2018-03-16</td>\n",
       "      <td>11</td>\n",
       "      <td>651208</td>\n",
       "      <td>0</td>\n",
       "      <td>203</td>\n",
       "      <td>8</td>\n",
       "      <td>1</td>\n",
       "      <td>755</td>\n",
       "      <td>0</td>\n",
       "      <td>0</td>\n",
       "      <td>0</td>\n",
       "      <td>19145</td>\n",
       "      <td>19900</td>\n",
       "      <td>8</td>\n",
       "      <td>ELEC</td>\n",
       "    </tr>\n",
       "    <tr>\n",
       "      <th>1</th>\n",
       "      <td>test_Client_0</td>\n",
       "      <td>2014-03-21</td>\n",
       "      <td>11</td>\n",
       "      <td>651208</td>\n",
       "      <td>0</td>\n",
       "      <td>203</td>\n",
       "      <td>8</td>\n",
       "      <td>1</td>\n",
       "      <td>1067</td>\n",
       "      <td>0</td>\n",
       "      <td>0</td>\n",
       "      <td>0</td>\n",
       "      <td>13725</td>\n",
       "      <td>14792</td>\n",
       "      <td>8</td>\n",
       "      <td>ELEC</td>\n",
       "    </tr>\n",
       "    <tr>\n",
       "      <th>2</th>\n",
       "      <td>test_Client_0</td>\n",
       "      <td>2014-07-17</td>\n",
       "      <td>11</td>\n",
       "      <td>651208</td>\n",
       "      <td>0</td>\n",
       "      <td>203</td>\n",
       "      <td>8</td>\n",
       "      <td>1</td>\n",
       "      <td>0</td>\n",
       "      <td>0</td>\n",
       "      <td>0</td>\n",
       "      <td>0</td>\n",
       "      <td>14792</td>\n",
       "      <td>14792</td>\n",
       "      <td>4</td>\n",
       "      <td>ELEC</td>\n",
       "    </tr>\n",
       "    <tr>\n",
       "      <th>3</th>\n",
       "      <td>test_Client_0</td>\n",
       "      <td>2015-07-13</td>\n",
       "      <td>11</td>\n",
       "      <td>651208</td>\n",
       "      <td>0</td>\n",
       "      <td>203</td>\n",
       "      <td>9</td>\n",
       "      <td>1</td>\n",
       "      <td>410</td>\n",
       "      <td>0</td>\n",
       "      <td>0</td>\n",
       "      <td>0</td>\n",
       "      <td>16122</td>\n",
       "      <td>16532</td>\n",
       "      <td>4</td>\n",
       "      <td>ELEC</td>\n",
       "    </tr>\n",
       "    <tr>\n",
       "      <th>4</th>\n",
       "      <td>test_Client_0</td>\n",
       "      <td>2016-07-19</td>\n",
       "      <td>11</td>\n",
       "      <td>651208</td>\n",
       "      <td>0</td>\n",
       "      <td>203</td>\n",
       "      <td>9</td>\n",
       "      <td>1</td>\n",
       "      <td>412</td>\n",
       "      <td>0</td>\n",
       "      <td>0</td>\n",
       "      <td>0</td>\n",
       "      <td>17471</td>\n",
       "      <td>17883</td>\n",
       "      <td>4</td>\n",
       "      <td>ELEC</td>\n",
       "    </tr>\n",
       "  </tbody>\n",
       "</table>\n",
       "</div>"
      ],
      "text/plain": [
       "       client_id invoice_date  tarif_type  counter_number  counter_statue  \\\n",
       "0  test_Client_0   2018-03-16          11          651208               0   \n",
       "1  test_Client_0   2014-03-21          11          651208               0   \n",
       "2  test_Client_0   2014-07-17          11          651208               0   \n",
       "3  test_Client_0   2015-07-13          11          651208               0   \n",
       "4  test_Client_0   2016-07-19          11          651208               0   \n",
       "\n",
       "   counter_code  reading_remarque  counter_coefficient  consommation_level_1  \\\n",
       "0           203                 8                    1                   755   \n",
       "1           203                 8                    1                  1067   \n",
       "2           203                 8                    1                     0   \n",
       "3           203                 9                    1                   410   \n",
       "4           203                 9                    1                   412   \n",
       "\n",
       "   consommation_level_2  consommation_level_3  consommation_level_4  \\\n",
       "0                     0                     0                     0   \n",
       "1                     0                     0                     0   \n",
       "2                     0                     0                     0   \n",
       "3                     0                     0                     0   \n",
       "4                     0                     0                     0   \n",
       "\n",
       "   old_index  new_index  months_number counter_type  \n",
       "0      19145      19900              8         ELEC  \n",
       "1      13725      14792              8         ELEC  \n",
       "2      14792      14792              4         ELEC  \n",
       "3      16122      16532              4         ELEC  \n",
       "4      17471      17883              4         ELEC  "
      ]
     },
     "execution_count": 8,
     "metadata": {},
     "output_type": "execute_result"
    }
   ],
   "source": [
    "invoice_test = pd.read_csv('invoice_test.csv')\n",
    "invoice_test.head(5)"
   ]
  },
  {
   "cell_type": "markdown",
   "metadata": {},
   "source": [
    ".\n",
    ".\n",
    "## Check the shape of the invoice testing dataset"
   ]
  },
  {
   "cell_type": "code",
   "execution_count": 9,
   "metadata": {},
   "outputs": [
    {
     "data": {
      "text/plain": [
       "(1939730, 16)"
      ]
     },
     "execution_count": 9,
     "metadata": {},
     "output_type": "execute_result"
    }
   ],
   "source": [
    "invoice_test.shape"
   ]
  },
  {
   "cell_type": "markdown",
   "metadata": {},
   "source": [
    "## Take a look at the sample submission"
   ]
  },
  {
   "cell_type": "code",
   "execution_count": 10,
   "metadata": {},
   "outputs": [
    {
     "data": {
      "text/html": [
       "<div>\n",
       "<style scoped>\n",
       "    .dataframe tbody tr th:only-of-type {\n",
       "        vertical-align: middle;\n",
       "    }\n",
       "\n",
       "    .dataframe tbody tr th {\n",
       "        vertical-align: top;\n",
       "    }\n",
       "\n",
       "    .dataframe thead th {\n",
       "        text-align: right;\n",
       "    }\n",
       "</style>\n",
       "<table border=\"1\" class=\"dataframe\">\n",
       "  <thead>\n",
       "    <tr style=\"text-align: right;\">\n",
       "      <th></th>\n",
       "      <th>client_id</th>\n",
       "      <th>target</th>\n",
       "    </tr>\n",
       "  </thead>\n",
       "  <tbody>\n",
       "    <tr>\n",
       "      <th>0</th>\n",
       "      <td>test_Client_0</td>\n",
       "      <td>0.957281</td>\n",
       "    </tr>\n",
       "    <tr>\n",
       "      <th>1</th>\n",
       "      <td>test_Client_1</td>\n",
       "      <td>0.996425</td>\n",
       "    </tr>\n",
       "    <tr>\n",
       "      <th>2</th>\n",
       "      <td>test_Client_10</td>\n",
       "      <td>0.612359</td>\n",
       "    </tr>\n",
       "    <tr>\n",
       "      <th>3</th>\n",
       "      <td>test_Client_100</td>\n",
       "      <td>0.776933</td>\n",
       "    </tr>\n",
       "    <tr>\n",
       "      <th>4</th>\n",
       "      <td>test_Client_1000</td>\n",
       "      <td>0.571046</td>\n",
       "    </tr>\n",
       "  </tbody>\n",
       "</table>\n",
       "</div>"
      ],
      "text/plain": [
       "          client_id    target\n",
       "0     test_Client_0  0.957281\n",
       "1     test_Client_1  0.996425\n",
       "2    test_Client_10  0.612359\n",
       "3   test_Client_100  0.776933\n",
       "4  test_Client_1000  0.571046"
      ]
     },
     "execution_count": 10,
     "metadata": {},
     "output_type": "execute_result"
    }
   ],
   "source": [
    "SampleSubmission = pd.read_csv('SampleSubmission.csv')\n",
    "SampleSubmission.head(5)"
   ]
  },
  {
   "cell_type": "markdown",
   "metadata": {},
   "source": [
    "\n",
    "# . \n",
    "\n",
    "# Missing values\n",
    "Let's check if there's any missing values in our data."
   ]
  },
  {
   "cell_type": "code",
   "execution_count": 11,
   "metadata": {},
   "outputs": [
    {
     "data": {
      "text/plain": [
       "disrict          0\n",
       "client_id        0\n",
       "client_catg      0\n",
       "region           0\n",
       "creation_date    0\n",
       "target           0\n",
       "dtype: int64"
      ]
     },
     "execution_count": 11,
     "metadata": {},
     "output_type": "execute_result"
    }
   ],
   "source": [
    "client_train.isnull().sum() "
   ]
  },
  {
   "cell_type": "code",
   "execution_count": 12,
   "metadata": {},
   "outputs": [
    {
     "data": {
      "text/plain": [
       "disrict          0\n",
       "client_id        0\n",
       "client_catg      0\n",
       "region           0\n",
       "creation_date    0\n",
       "dtype: int64"
      ]
     },
     "execution_count": 12,
     "metadata": {},
     "output_type": "execute_result"
    }
   ],
   "source": [
    "client_test.isnull().sum() "
   ]
  },
  {
   "cell_type": "code",
   "execution_count": 13,
   "metadata": {},
   "outputs": [
    {
     "data": {
      "text/plain": [
       "client_id               0\n",
       "invoice_date            0\n",
       "tarif_type              0\n",
       "counter_number          0\n",
       "counter_statue          0\n",
       "counter_code            0\n",
       "reading_remarque        0\n",
       "counter_coefficient     0\n",
       "consommation_level_1    0\n",
       "consommation_level_2    0\n",
       "consommation_level_3    0\n",
       "consommation_level_4    0\n",
       "old_index               0\n",
       "new_index               0\n",
       "months_number           0\n",
       "counter_type            0\n",
       "dtype: int64"
      ]
     },
     "execution_count": 13,
     "metadata": {},
     "output_type": "execute_result"
    }
   ],
   "source": [
    "invoice_train.isnull().sum() "
   ]
  },
  {
   "cell_type": "code",
   "execution_count": 14,
   "metadata": {},
   "outputs": [
    {
     "data": {
      "text/plain": [
       "client_id               0\n",
       "invoice_date            0\n",
       "tarif_type              0\n",
       "counter_number          0\n",
       "counter_statue          0\n",
       "counter_code            0\n",
       "reading_remarque        0\n",
       "counter_coefficient     0\n",
       "consommation_level_1    0\n",
       "consommation_level_2    0\n",
       "consommation_level_3    0\n",
       "consommation_level_4    0\n",
       "old_index               0\n",
       "new_index               0\n",
       "months_number           0\n",
       "counter_type            0\n",
       "dtype: int64"
      ]
     },
     "execution_count": 14,
     "metadata": {},
     "output_type": "execute_result"
    }
   ],
   "source": [
    "invoice_test.isnull().sum() "
   ]
  },
  {
   "cell_type": "markdown",
   "metadata": {},
   "source": [
    "# Combining the data sets"
   ]
  },
  {
   "cell_type": "code",
   "execution_count": 15,
   "metadata": {},
   "outputs": [
    {
     "data": {
      "text/plain": [
       "0              train_Client_0\n",
       "35             train_Client_1\n",
       "72            train_Client_10\n",
       "90           train_Client_100\n",
       "110         train_Client_1000\n",
       "                  ...        \n",
       "4476596    train_Client_99995\n",
       "4476667    train_Client_99996\n",
       "4476708    train_Client_99997\n",
       "4476744    train_Client_99998\n",
       "4476746    train_Client_99999\n",
       "Name: client_id, Length: 135493, dtype: object"
      ]
     },
     "execution_count": 15,
     "metadata": {},
     "output_type": "execute_result"
    }
   ],
   "source": [
    "new_df = invoice_train.merge(client_train, left_on='client_id', right_on='client_id',\n",
    "          suffixes=('', None))\n",
    "new_df_test = invoice_test.merge(client_test, left_on='client_id', right_on='client_id',\n",
    "          suffixes=('', None))\n",
    "\n",
    "# Drop duplicates\n",
    "new_df = new_df.drop_duplicates(subset=[\"client_id\"])\n",
    "new_df_test = new_df_test.drop_duplicates(subset=[\"client_id\"])\n",
    "new_df['client_id']"
   ]
  },
  {
   "cell_type": "code",
   "execution_count": 16,
   "metadata": {},
   "outputs": [
    {
     "data": {
      "text/plain": [
       "Index(['client_id', 'invoice_date', 'tarif_type', 'counter_number',\n",
       "       'counter_statue', 'counter_code', 'reading_remarque',\n",
       "       'counter_coefficient', 'consommation_level_1', 'consommation_level_2',\n",
       "       'consommation_level_3', 'consommation_level_4', 'old_index',\n",
       "       'new_index', 'months_number', 'counter_type', 'disrict', 'client_catg',\n",
       "       'region', 'creation_date'],\n",
       "      dtype='object')"
      ]
     },
     "execution_count": 16,
     "metadata": {},
     "output_type": "execute_result"
    }
   ],
   "source": [
    "new_df_test.columns"
   ]
  },
  {
   "cell_type": "code",
   "execution_count": 17,
   "metadata": {},
   "outputs": [
    {
     "data": {
      "text/plain": [
       "Index(['client_id', 'invoice_date', 'tarif_type', 'counter_number',\n",
       "       'counter_statue', 'counter_code', 'reading_remarque',\n",
       "       'counter_coefficient', 'consommation_level_1', 'consommation_level_2',\n",
       "       'consommation_level_3', 'consommation_level_4', 'old_index',\n",
       "       'new_index', 'months_number', 'counter_type', 'disrict', 'client_catg',\n",
       "       'region', 'creation_date', 'target'],\n",
       "      dtype='object')"
      ]
     },
     "execution_count": 17,
     "metadata": {},
     "output_type": "execute_result"
    }
   ],
   "source": [
    "new_df.columns"
   ]
  },
  {
   "cell_type": "markdown",
   "metadata": {},
   "source": [
    "## Check for NaN values to make sure everything went well"
   ]
  },
  {
   "cell_type": "code",
   "execution_count": 18,
   "metadata": {},
   "outputs": [
    {
     "data": {
      "text/plain": [
       "client_id               0\n",
       "invoice_date            0\n",
       "tarif_type              0\n",
       "counter_number          0\n",
       "counter_statue          0\n",
       "counter_code            0\n",
       "reading_remarque        0\n",
       "counter_coefficient     0\n",
       "consommation_level_1    0\n",
       "consommation_level_2    0\n",
       "consommation_level_3    0\n",
       "consommation_level_4    0\n",
       "old_index               0\n",
       "new_index               0\n",
       "months_number           0\n",
       "counter_type            0\n",
       "disrict                 0\n",
       "client_catg             0\n",
       "region                  0\n",
       "creation_date           0\n",
       "target                  0\n",
       "dtype: int64"
      ]
     },
     "execution_count": 18,
     "metadata": {},
     "output_type": "execute_result"
    }
   ],
   "source": [
    "new_df.isna().sum()"
   ]
  },
  {
   "cell_type": "markdown",
   "metadata": {},
   "source": [
    "# .\n",
    "# EDA + Feature Engineering"
   ]
  },
  {
   "cell_type": "code",
   "execution_count": 19,
   "metadata": {},
   "outputs": [
    {
     "data": {
      "text/plain": [
       "<AxesSubplot:>"
      ]
     },
     "execution_count": 19,
     "metadata": {},
     "output_type": "execute_result"
    },
    {
     "data": {
      "image/png": "[encoded data removed]",
      "text/plain": [
       "<Figure size 1296x432 with 1 Axes>"
      ]
     },
     "metadata": {
      "needs_background": "light"
     },
     "output_type": "display_data"
    }
   ],
   "source": [
    "# Look at correlation with target\n",
    "new_df.corr()['target'].sort_values().plot(kind='bar', color ='g', figsize=(18, 6))"
   ]
  },
  {
   "cell_type": "markdown",
   "metadata": {},
   "source": [
    "\n",
    ".\n",
    "\n",
    "\n",
    "## Take a look at the correlation between the variables"
   ]
  },
  {
   "cell_type": "code",
   "execution_count": 20,
   "metadata": {},
   "outputs": [
    {
     "data": {
      "image/png": "[encoded data removed]",
      "text/plain": [
       "<Figure size 1800x864 with 2 Axes>"
      ]
     },
     "metadata": {
      "needs_background": "light"
     },
     "output_type": "display_data"
    }
   ],
   "source": [
    "Correlation  = new_df.corr(method = 'pearson')\n",
    "\n",
    "plt.figure(figsize=(25,12))\n",
    "sns.heatmap(Correlation, annot=True)\n",
    "plt.tick_params(axis='y', labelsize=15)\n",
    "plt.tick_params(axis='x', labelsize=15)\n",
    "plt.suptitle(\"CORRELATION BETWEEN THE VARIABLES\", fontsize = 30)\n",
    "plt.show()"
   ]
  },
  {
   "cell_type": "markdown",
   "metadata": {},
   "source": [
    "From the correlation heatmap, we observe that the avariables (old index and new index) are strongly correlated.Putting features that are highly correlated to a model brings the problem of collinearity and could lower the performance of a model. You can decide to train one model with all the features, and then another with only the poorly correlated features and compare their accuracy."
   ]
  },
  {
   "cell_type": "code",
   "execution_count": 21,
   "metadata": {},
   "outputs": [
    {
     "name": "stdout",
     "output_type": "stream",
     "text": [
      "<class 'pandas.core.frame.DataFrame'>\n",
      "Int64Index: 135493 entries, 0 to 4476746\n",
      "Data columns (total 21 columns):\n",
      " #   Column                Non-Null Count   Dtype  \n",
      "---  ------                --------------   -----  \n",
      " 0   client_id             135493 non-null  object \n",
      " 1   invoice_date          135493 non-null  object \n",
      " 2   tarif_type            135493 non-null  int64  \n",
      " 3   counter_number        135493 non-null  int64  \n",
      " 4   counter_statue        135493 non-null  object \n",
      " 5   counter_code          135493 non-null  int64  \n",
      " 6   reading_remarque      135493 non-null  int64  \n",
      " 7   counter_coefficient   135493 non-null  int64  \n",
      " 8   consommation_level_1  135493 non-null  int64  \n",
      " 9   consommation_level_2  135493 non-null  int64  \n",
      " 10  consommation_level_3  135493 non-null  int64  \n",
      " 11  consommation_level_4  135493 non-null  int64  \n",
      " 12  old_index             135493 non-null  int64  \n",
      " 13  new_index             135493 non-null  int64  \n",
      " 14  months_number         135493 non-null  int64  \n",
      " 15  counter_type          135493 non-null  object \n",
      " 16  disrict               135493 non-null  int64  \n",
      " 17  client_catg           135493 non-null  int64  \n",
      " 18  region                135493 non-null  int64  \n",
      " 19  creation_date         135493 non-null  object \n",
      " 20  target                135493 non-null  float64\n",
      "dtypes: float64(1), int64(15), object(5)\n",
      "memory usage: 22.7+ MB\n"
     ]
    },
    {
     "data": {
      "text/html": [
       "<div>\n",
       "<style scoped>\n",
       "    .dataframe tbody tr th:only-of-type {\n",
       "        vertical-align: middle;\n",
       "    }\n",
       "\n",
       "    .dataframe tbody tr th {\n",
       "        vertical-align: top;\n",
       "    }\n",
       "\n",
       "    .dataframe thead th {\n",
       "        text-align: right;\n",
       "    }\n",
       "</style>\n",
       "<table border=\"1\" class=\"dataframe\">\n",
       "  <thead>\n",
       "    <tr style=\"text-align: right;\">\n",
       "      <th></th>\n",
       "      <th>client_id</th>\n",
       "      <th>invoice_date</th>\n",
       "      <th>tarif_type</th>\n",
       "      <th>counter_number</th>\n",
       "      <th>counter_statue</th>\n",
       "      <th>counter_code</th>\n",
       "      <th>reading_remarque</th>\n",
       "      <th>counter_coefficient</th>\n",
       "      <th>consommation_level_1</th>\n",
       "      <th>consommation_level_2</th>\n",
       "      <th>...</th>\n",
       "      <th>consommation_level_4</th>\n",
       "      <th>old_index</th>\n",
       "      <th>new_index</th>\n",
       "      <th>months_number</th>\n",
       "      <th>counter_type</th>\n",
       "      <th>disrict</th>\n",
       "      <th>client_catg</th>\n",
       "      <th>region</th>\n",
       "      <th>creation_date</th>\n",
       "      <th>target</th>\n",
       "    </tr>\n",
       "  </thead>\n",
       "  <tbody>\n",
       "    <tr>\n",
       "      <th>0</th>\n",
       "      <td>train_Client_0</td>\n",
       "      <td>2014-03-24</td>\n",
       "      <td>11</td>\n",
       "      <td>1335667</td>\n",
       "      <td>0</td>\n",
       "      <td>203</td>\n",
       "      <td>8</td>\n",
       "      <td>1</td>\n",
       "      <td>82</td>\n",
       "      <td>0</td>\n",
       "      <td>...</td>\n",
       "      <td>0</td>\n",
       "      <td>14302</td>\n",
       "      <td>14384</td>\n",
       "      <td>4</td>\n",
       "      <td>ELEC</td>\n",
       "      <td>60</td>\n",
       "      <td>11</td>\n",
       "      <td>101</td>\n",
       "      <td>31/12/1994</td>\n",
       "      <td>0.0</td>\n",
       "    </tr>\n",
       "    <tr>\n",
       "      <th>35</th>\n",
       "      <td>train_Client_1</td>\n",
       "      <td>2010-09-02</td>\n",
       "      <td>11</td>\n",
       "      <td>678902</td>\n",
       "      <td>0</td>\n",
       "      <td>203</td>\n",
       "      <td>8</td>\n",
       "      <td>1</td>\n",
       "      <td>388</td>\n",
       "      <td>0</td>\n",
       "      <td>...</td>\n",
       "      <td>0</td>\n",
       "      <td>11429</td>\n",
       "      <td>11817</td>\n",
       "      <td>2</td>\n",
       "      <td>ELEC</td>\n",
       "      <td>69</td>\n",
       "      <td>11</td>\n",
       "      <td>107</td>\n",
       "      <td>29/05/2002</td>\n",
       "      <td>0.0</td>\n",
       "    </tr>\n",
       "    <tr>\n",
       "      <th>72</th>\n",
       "      <td>train_Client_10</td>\n",
       "      <td>2010-02-15</td>\n",
       "      <td>11</td>\n",
       "      <td>572765</td>\n",
       "      <td>0</td>\n",
       "      <td>203</td>\n",
       "      <td>8</td>\n",
       "      <td>1</td>\n",
       "      <td>407</td>\n",
       "      <td>0</td>\n",
       "      <td>...</td>\n",
       "      <td>0</td>\n",
       "      <td>31955</td>\n",
       "      <td>32362</td>\n",
       "      <td>4</td>\n",
       "      <td>ELEC</td>\n",
       "      <td>62</td>\n",
       "      <td>11</td>\n",
       "      <td>301</td>\n",
       "      <td>13/03/1986</td>\n",
       "      <td>0.0</td>\n",
       "    </tr>\n",
       "    <tr>\n",
       "      <th>90</th>\n",
       "      <td>train_Client_100</td>\n",
       "      <td>2009-10-22</td>\n",
       "      <td>11</td>\n",
       "      <td>2078</td>\n",
       "      <td>0</td>\n",
       "      <td>413</td>\n",
       "      <td>6</td>\n",
       "      <td>1</td>\n",
       "      <td>0</td>\n",
       "      <td>0</td>\n",
       "      <td>...</td>\n",
       "      <td>0</td>\n",
       "      <td>98</td>\n",
       "      <td>98</td>\n",
       "      <td>4</td>\n",
       "      <td>ELEC</td>\n",
       "      <td>69</td>\n",
       "      <td>11</td>\n",
       "      <td>105</td>\n",
       "      <td>11/07/1996</td>\n",
       "      <td>0.0</td>\n",
       "    </tr>\n",
       "    <tr>\n",
       "      <th>110</th>\n",
       "      <td>train_Client_1000</td>\n",
       "      <td>2015-02-13</td>\n",
       "      <td>11</td>\n",
       "      <td>19575</td>\n",
       "      <td>0</td>\n",
       "      <td>207</td>\n",
       "      <td>9</td>\n",
       "      <td>1</td>\n",
       "      <td>800</td>\n",
       "      <td>159</td>\n",
       "      <td>...</td>\n",
       "      <td>0</td>\n",
       "      <td>0</td>\n",
       "      <td>959</td>\n",
       "      <td>4</td>\n",
       "      <td>ELEC</td>\n",
       "      <td>62</td>\n",
       "      <td>11</td>\n",
       "      <td>303</td>\n",
       "      <td>14/10/2014</td>\n",
       "      <td>0.0</td>\n",
       "    </tr>\n",
       "    <tr>\n",
       "      <th>...</th>\n",
       "      <td>...</td>\n",
       "      <td>...</td>\n",
       "      <td>...</td>\n",
       "      <td>...</td>\n",
       "      <td>...</td>\n",
       "      <td>...</td>\n",
       "      <td>...</td>\n",
       "      <td>...</td>\n",
       "      <td>...</td>\n",
       "      <td>...</td>\n",
       "      <td>...</td>\n",
       "      <td>...</td>\n",
       "      <td>...</td>\n",
       "      <td>...</td>\n",
       "      <td>...</td>\n",
       "      <td>...</td>\n",
       "      <td>...</td>\n",
       "      <td>...</td>\n",
       "      <td>...</td>\n",
       "      <td>...</td>\n",
       "      <td>...</td>\n",
       "    </tr>\n",
       "    <tr>\n",
       "      <th>4476596</th>\n",
       "      <td>train_Client_99995</td>\n",
       "      <td>2005-07-10</td>\n",
       "      <td>11</td>\n",
       "      <td>897286</td>\n",
       "      <td>0</td>\n",
       "      <td>207</td>\n",
       "      <td>6</td>\n",
       "      <td>1</td>\n",
       "      <td>0</td>\n",
       "      <td>0</td>\n",
       "      <td>...</td>\n",
       "      <td>0</td>\n",
       "      <td>14</td>\n",
       "      <td>14</td>\n",
       "      <td>4</td>\n",
       "      <td>ELEC</td>\n",
       "      <td>62</td>\n",
       "      <td>11</td>\n",
       "      <td>304</td>\n",
       "      <td>26/07/2004</td>\n",
       "      <td>0.0</td>\n",
       "    </tr>\n",
       "    <tr>\n",
       "      <th>4476667</th>\n",
       "      <td>train_Client_99996</td>\n",
       "      <td>2015-10-20</td>\n",
       "      <td>11</td>\n",
       "      <td>398783</td>\n",
       "      <td>0</td>\n",
       "      <td>207</td>\n",
       "      <td>9</td>\n",
       "      <td>1</td>\n",
       "      <td>605</td>\n",
       "      <td>0</td>\n",
       "      <td>...</td>\n",
       "      <td>0</td>\n",
       "      <td>895</td>\n",
       "      <td>1500</td>\n",
       "      <td>4</td>\n",
       "      <td>ELEC</td>\n",
       "      <td>63</td>\n",
       "      <td>11</td>\n",
       "      <td>311</td>\n",
       "      <td>25/10/2012</td>\n",
       "      <td>0.0</td>\n",
       "    </tr>\n",
       "    <tr>\n",
       "      <th>4476708</th>\n",
       "      <td>train_Client_99997</td>\n",
       "      <td>2015-08-06</td>\n",
       "      <td>11</td>\n",
       "      <td>262195</td>\n",
       "      <td>0</td>\n",
       "      <td>207</td>\n",
       "      <td>9</td>\n",
       "      <td>1</td>\n",
       "      <td>280</td>\n",
       "      <td>0</td>\n",
       "      <td>...</td>\n",
       "      <td>0</td>\n",
       "      <td>3573</td>\n",
       "      <td>3853</td>\n",
       "      <td>4</td>\n",
       "      <td>ELEC</td>\n",
       "      <td>63</td>\n",
       "      <td>11</td>\n",
       "      <td>311</td>\n",
       "      <td>22/11/2011</td>\n",
       "      <td>0.0</td>\n",
       "    </tr>\n",
       "    <tr>\n",
       "      <th>4476744</th>\n",
       "      <td>train_Client_99998</td>\n",
       "      <td>2005-08-19</td>\n",
       "      <td>10</td>\n",
       "      <td>1253571</td>\n",
       "      <td>0</td>\n",
       "      <td>202</td>\n",
       "      <td>9</td>\n",
       "      <td>1</td>\n",
       "      <td>400</td>\n",
       "      <td>135</td>\n",
       "      <td>...</td>\n",
       "      <td>0</td>\n",
       "      <td>3197</td>\n",
       "      <td>3732</td>\n",
       "      <td>8</td>\n",
       "      <td>ELEC</td>\n",
       "      <td>60</td>\n",
       "      <td>11</td>\n",
       "      <td>101</td>\n",
       "      <td>22/12/1993</td>\n",
       "      <td>0.0</td>\n",
       "    </tr>\n",
       "    <tr>\n",
       "      <th>4476746</th>\n",
       "      <td>train_Client_99999</td>\n",
       "      <td>1996-09-25</td>\n",
       "      <td>11</td>\n",
       "      <td>560948</td>\n",
       "      <td>0</td>\n",
       "      <td>203</td>\n",
       "      <td>6</td>\n",
       "      <td>1</td>\n",
       "      <td>259</td>\n",
       "      <td>0</td>\n",
       "      <td>...</td>\n",
       "      <td>0</td>\n",
       "      <td>13884</td>\n",
       "      <td>14143</td>\n",
       "      <td>4</td>\n",
       "      <td>ELEC</td>\n",
       "      <td>60</td>\n",
       "      <td>11</td>\n",
       "      <td>101</td>\n",
       "      <td>18/02/1986</td>\n",
       "      <td>0.0</td>\n",
       "    </tr>\n",
       "  </tbody>\n",
       "</table>\n",
       "<p>135493 rows × 21 columns</p>\n",
       "</div>"
      ],
      "text/plain": [
       "                  client_id invoice_date  tarif_type  counter_number  \\\n",
       "0            train_Client_0   2014-03-24          11         1335667   \n",
       "35           train_Client_1   2010-09-02          11          678902   \n",
       "72          train_Client_10   2010-02-15          11          572765   \n",
       "90         train_Client_100   2009-10-22          11            2078   \n",
       "110       train_Client_1000   2015-02-13          11           19575   \n",
       "...                     ...          ...         ...             ...   \n",
       "4476596  train_Client_99995   2005-07-10          11          897286   \n",
       "4476667  train_Client_99996   2015-10-20          11          398783   \n",
       "4476708  train_Client_99997   2015-08-06          11          262195   \n",
       "4476744  train_Client_99998   2005-08-19          10         1253571   \n",
       "4476746  train_Client_99999   1996-09-25          11          560948   \n",
       "\n",
       "        counter_statue  counter_code  reading_remarque  counter_coefficient  \\\n",
       "0                    0           203                 8                    1   \n",
       "35                   0           203                 8                    1   \n",
       "72                   0           203                 8                    1   \n",
       "90                   0           413                 6                    1   \n",
       "110                  0           207                 9                    1   \n",
       "...                ...           ...               ...                  ...   \n",
       "4476596              0           207                 6                    1   \n",
       "4476667              0           207                 9                    1   \n",
       "4476708              0           207                 9                    1   \n",
       "4476744              0           202                 9                    1   \n",
       "4476746              0           203                 6                    1   \n",
       "\n",
       "         consommation_level_1  consommation_level_2  ...  \\\n",
       "0                          82                     0  ...   \n",
       "35                        388                     0  ...   \n",
       "72                        407                     0  ...   \n",
       "90                          0                     0  ...   \n",
       "110                       800                   159  ...   \n",
       "...                       ...                   ...  ...   \n",
       "4476596                     0                     0  ...   \n",
       "4476667                   605                     0  ...   \n",
       "4476708                   280                     0  ...   \n",
       "4476744                   400                   135  ...   \n",
       "4476746                   259                     0  ...   \n",
       "\n",
       "         consommation_level_4  old_index  new_index  months_number  \\\n",
       "0                           0      14302      14384              4   \n",
       "35                          0      11429      11817              2   \n",
       "72                          0      31955      32362              4   \n",
       "90                          0         98         98              4   \n",
       "110                         0          0        959              4   \n",
       "...                       ...        ...        ...            ...   \n",
       "4476596                     0         14         14              4   \n",
       "4476667                     0        895       1500              4   \n",
       "4476708                     0       3573       3853              4   \n",
       "4476744                     0       3197       3732              8   \n",
       "4476746                     0      13884      14143              4   \n",
       "\n",
       "         counter_type disrict  client_catg  region  creation_date target  \n",
       "0                ELEC      60           11     101     31/12/1994    0.0  \n",
       "35               ELEC      69           11     107     29/05/2002    0.0  \n",
       "72               ELEC      62           11     301     13/03/1986    0.0  \n",
       "90               ELEC      69           11     105     11/07/1996    0.0  \n",
       "110              ELEC      62           11     303     14/10/2014    0.0  \n",
       "...               ...     ...          ...     ...            ...    ...  \n",
       "4476596          ELEC      62           11     304     26/07/2004    0.0  \n",
       "4476667          ELEC      63           11     311     25/10/2012    0.0  \n",
       "4476708          ELEC      63           11     311     22/11/2011    0.0  \n",
       "4476744          ELEC      60           11     101     22/12/1993    0.0  \n",
       "4476746          ELEC      60           11     101     18/02/1986    0.0  \n",
       "\n",
       "[135493 rows x 21 columns]"
      ]
     },
     "execution_count": 21,
     "metadata": {},
     "output_type": "execute_result"
    }
   ],
   "source": [
    "new_df.info()\n",
    "new_df"
   ]
  },
  {
   "cell_type": "markdown",
   "metadata": {},
   "source": [
    "## Simple Feature engineering"
   ]
  },
  {
   "cell_type": "markdown",
   "metadata": {},
   "source": [
    "#### Trend of of electricty fraud, based off of the month of joining "
   ]
  },
  {
   "cell_type": "code",
   "execution_count": 22,
   "metadata": {},
   "outputs": [
    {
     "data": {
      "text/plain": [
       "<AxesSubplot:xlabel='joining_month'>"
      ]
     },
     "execution_count": 22,
     "metadata": {},
     "output_type": "execute_result"
    },
    {
     "data": {
      "text/plain": [
       "<Figure size 1440x1080 with 0 Axes>"
      ]
     },
     "metadata": {},
     "output_type": "display_data"
    },
    {
     "data": {
      "image/png": "[encoded data removed]",
      "text/plain": [
       "<Figure size 1440x432 with 1 Axes>"
      ]
     },
     "metadata": {
      "needs_background": "light"
     },
     "output_type": "display_data"
    }
   ],
   "source": [
    "\n",
    "new_df['creation_date'] = pd.to_datetime(new_df['creation_date'])\n",
    "new_df_test['creation_date'] = pd.to_datetime(new_df_test['creation_date'])\n",
    "\n",
    "# Date variables\n",
    "new_df_test['joining_month'] = new_df_test['creation_date'].dt.month\n",
    "new_df_test['joining_year'] = new_df_test['creation_date'].dt.year\n",
    "\n",
    "new_df['joining_month'] = new_df['creation_date'].dt.month\n",
    "new_df['joining_year'] = new_df['creation_date'].dt.year\n",
    "\n",
    "\n",
    "plt.figure(figsize = (20, 15))\n",
    "new_df.groupby('joining_month').mean().reset_index().plot(y='target', x='joining_month', kind='bar', figsize = (20,6))"
   ]
  },
  {
   "cell_type": "code",
   "execution_count": 23,
   "metadata": {},
   "outputs": [
    {
     "data": {
      "text/html": [
       "<div>\n",
       "<style scoped>\n",
       "    .dataframe tbody tr th:only-of-type {\n",
       "        vertical-align: middle;\n",
       "    }\n",
       "\n",
       "    .dataframe tbody tr th {\n",
       "        vertical-align: top;\n",
       "    }\n",
       "\n",
       "    .dataframe thead th {\n",
       "        text-align: right;\n",
       "    }\n",
       "</style>\n",
       "<table border=\"1\" class=\"dataframe\">\n",
       "  <thead>\n",
       "    <tr style=\"text-align: right;\">\n",
       "      <th></th>\n",
       "      <th>client_id</th>\n",
       "      <th>invoice_date</th>\n",
       "      <th>tarif_type</th>\n",
       "      <th>counter_number</th>\n",
       "      <th>counter_statue</th>\n",
       "      <th>counter_code</th>\n",
       "      <th>reading_remarque</th>\n",
       "      <th>counter_coefficient</th>\n",
       "      <th>consommation_level_1</th>\n",
       "      <th>consommation_level_2</th>\n",
       "      <th>...</th>\n",
       "      <th>new_index</th>\n",
       "      <th>months_number</th>\n",
       "      <th>counter_type</th>\n",
       "      <th>disrict</th>\n",
       "      <th>client_catg</th>\n",
       "      <th>region</th>\n",
       "      <th>creation_date</th>\n",
       "      <th>target</th>\n",
       "      <th>joining_month</th>\n",
       "      <th>joining_year</th>\n",
       "    </tr>\n",
       "  </thead>\n",
       "  <tbody>\n",
       "    <tr>\n",
       "      <th>0</th>\n",
       "      <td>train_Client_0</td>\n",
       "      <td>2014-03-24</td>\n",
       "      <td>11</td>\n",
       "      <td>1335667</td>\n",
       "      <td>0</td>\n",
       "      <td>203</td>\n",
       "      <td>8</td>\n",
       "      <td>1</td>\n",
       "      <td>82</td>\n",
       "      <td>0</td>\n",
       "      <td>...</td>\n",
       "      <td>14384</td>\n",
       "      <td>4</td>\n",
       "      <td>ELEC</td>\n",
       "      <td>60</td>\n",
       "      <td>11</td>\n",
       "      <td>101</td>\n",
       "      <td>1994-12-31</td>\n",
       "      <td>0.0</td>\n",
       "      <td>12</td>\n",
       "      <td>1994</td>\n",
       "    </tr>\n",
       "    <tr>\n",
       "      <th>35</th>\n",
       "      <td>train_Client_1</td>\n",
       "      <td>2010-09-02</td>\n",
       "      <td>11</td>\n",
       "      <td>678902</td>\n",
       "      <td>0</td>\n",
       "      <td>203</td>\n",
       "      <td>8</td>\n",
       "      <td>1</td>\n",
       "      <td>388</td>\n",
       "      <td>0</td>\n",
       "      <td>...</td>\n",
       "      <td>11817</td>\n",
       "      <td>2</td>\n",
       "      <td>ELEC</td>\n",
       "      <td>69</td>\n",
       "      <td>11</td>\n",
       "      <td>107</td>\n",
       "      <td>2002-05-29</td>\n",
       "      <td>0.0</td>\n",
       "      <td>5</td>\n",
       "      <td>2002</td>\n",
       "    </tr>\n",
       "    <tr>\n",
       "      <th>72</th>\n",
       "      <td>train_Client_10</td>\n",
       "      <td>2010-02-15</td>\n",
       "      <td>11</td>\n",
       "      <td>572765</td>\n",
       "      <td>0</td>\n",
       "      <td>203</td>\n",
       "      <td>8</td>\n",
       "      <td>1</td>\n",
       "      <td>407</td>\n",
       "      <td>0</td>\n",
       "      <td>...</td>\n",
       "      <td>32362</td>\n",
       "      <td>4</td>\n",
       "      <td>ELEC</td>\n",
       "      <td>62</td>\n",
       "      <td>11</td>\n",
       "      <td>301</td>\n",
       "      <td>1986-03-13</td>\n",
       "      <td>0.0</td>\n",
       "      <td>3</td>\n",
       "      <td>1986</td>\n",
       "    </tr>\n",
       "    <tr>\n",
       "      <th>90</th>\n",
       "      <td>train_Client_100</td>\n",
       "      <td>2009-10-22</td>\n",
       "      <td>11</td>\n",
       "      <td>2078</td>\n",
       "      <td>0</td>\n",
       "      <td>413</td>\n",
       "      <td>6</td>\n",
       "      <td>1</td>\n",
       "      <td>0</td>\n",
       "      <td>0</td>\n",
       "      <td>...</td>\n",
       "      <td>98</td>\n",
       "      <td>4</td>\n",
       "      <td>ELEC</td>\n",
       "      <td>69</td>\n",
       "      <td>11</td>\n",
       "      <td>105</td>\n",
       "      <td>1996-11-07</td>\n",
       "      <td>0.0</td>\n",
       "      <td>11</td>\n",
       "      <td>1996</td>\n",
       "    </tr>\n",
       "    <tr>\n",
       "      <th>110</th>\n",
       "      <td>train_Client_1000</td>\n",
       "      <td>2015-02-13</td>\n",
       "      <td>11</td>\n",
       "      <td>19575</td>\n",
       "      <td>0</td>\n",
       "      <td>207</td>\n",
       "      <td>9</td>\n",
       "      <td>1</td>\n",
       "      <td>800</td>\n",
       "      <td>159</td>\n",
       "      <td>...</td>\n",
       "      <td>959</td>\n",
       "      <td>4</td>\n",
       "      <td>ELEC</td>\n",
       "      <td>62</td>\n",
       "      <td>11</td>\n",
       "      <td>303</td>\n",
       "      <td>2014-10-14</td>\n",
       "      <td>0.0</td>\n",
       "      <td>10</td>\n",
       "      <td>2014</td>\n",
       "    </tr>\n",
       "    <tr>\n",
       "      <th>...</th>\n",
       "      <td>...</td>\n",
       "      <td>...</td>\n",
       "      <td>...</td>\n",
       "      <td>...</td>\n",
       "      <td>...</td>\n",
       "      <td>...</td>\n",
       "      <td>...</td>\n",
       "      <td>...</td>\n",
       "      <td>...</td>\n",
       "      <td>...</td>\n",
       "      <td>...</td>\n",
       "      <td>...</td>\n",
       "      <td>...</td>\n",
       "      <td>...</td>\n",
       "      <td>...</td>\n",
       "      <td>...</td>\n",
       "      <td>...</td>\n",
       "      <td>...</td>\n",
       "      <td>...</td>\n",
       "      <td>...</td>\n",
       "      <td>...</td>\n",
       "    </tr>\n",
       "    <tr>\n",
       "      <th>4476596</th>\n",
       "      <td>train_Client_99995</td>\n",
       "      <td>2005-07-10</td>\n",
       "      <td>11</td>\n",
       "      <td>897286</td>\n",
       "      <td>0</td>\n",
       "      <td>207</td>\n",
       "      <td>6</td>\n",
       "      <td>1</td>\n",
       "      <td>0</td>\n",
       "      <td>0</td>\n",
       "      <td>...</td>\n",
       "      <td>14</td>\n",
       "      <td>4</td>\n",
       "      <td>ELEC</td>\n",
       "      <td>62</td>\n",
       "      <td>11</td>\n",
       "      <td>304</td>\n",
       "      <td>2004-07-26</td>\n",
       "      <td>0.0</td>\n",
       "      <td>7</td>\n",
       "      <td>2004</td>\n",
       "    </tr>\n",
       "    <tr>\n",
       "      <th>4476667</th>\n",
       "      <td>train_Client_99996</td>\n",
       "      <td>2015-10-20</td>\n",
       "      <td>11</td>\n",
       "      <td>398783</td>\n",
       "      <td>0</td>\n",
       "      <td>207</td>\n",
       "      <td>9</td>\n",
       "      <td>1</td>\n",
       "      <td>605</td>\n",
       "      <td>0</td>\n",
       "      <td>...</td>\n",
       "      <td>1500</td>\n",
       "      <td>4</td>\n",
       "      <td>ELEC</td>\n",
       "      <td>63</td>\n",
       "      <td>11</td>\n",
       "      <td>311</td>\n",
       "      <td>2012-10-25</td>\n",
       "      <td>0.0</td>\n",
       "      <td>10</td>\n",
       "      <td>2012</td>\n",
       "    </tr>\n",
       "    <tr>\n",
       "      <th>4476708</th>\n",
       "      <td>train_Client_99997</td>\n",
       "      <td>2015-08-06</td>\n",
       "      <td>11</td>\n",
       "      <td>262195</td>\n",
       "      <td>0</td>\n",
       "      <td>207</td>\n",
       "      <td>9</td>\n",
       "      <td>1</td>\n",
       "      <td>280</td>\n",
       "      <td>0</td>\n",
       "      <td>...</td>\n",
       "      <td>3853</td>\n",
       "      <td>4</td>\n",
       "      <td>ELEC</td>\n",
       "      <td>63</td>\n",
       "      <td>11</td>\n",
       "      <td>311</td>\n",
       "      <td>2011-11-22</td>\n",
       "      <td>0.0</td>\n",
       "      <td>11</td>\n",
       "      <td>2011</td>\n",
       "    </tr>\n",
       "    <tr>\n",
       "      <th>4476744</th>\n",
       "      <td>train_Client_99998</td>\n",
       "      <td>2005-08-19</td>\n",
       "      <td>10</td>\n",
       "      <td>1253571</td>\n",
       "      <td>0</td>\n",
       "      <td>202</td>\n",
       "      <td>9</td>\n",
       "      <td>1</td>\n",
       "      <td>400</td>\n",
       "      <td>135</td>\n",
       "      <td>...</td>\n",
       "      <td>3732</td>\n",
       "      <td>8</td>\n",
       "      <td>ELEC</td>\n",
       "      <td>60</td>\n",
       "      <td>11</td>\n",
       "      <td>101</td>\n",
       "      <td>1993-12-22</td>\n",
       "      <td>0.0</td>\n",
       "      <td>12</td>\n",
       "      <td>1993</td>\n",
       "    </tr>\n",
       "    <tr>\n",
       "      <th>4476746</th>\n",
       "      <td>train_Client_99999</td>\n",
       "      <td>1996-09-25</td>\n",
       "      <td>11</td>\n",
       "      <td>560948</td>\n",
       "      <td>0</td>\n",
       "      <td>203</td>\n",
       "      <td>6</td>\n",
       "      <td>1</td>\n",
       "      <td>259</td>\n",
       "      <td>0</td>\n",
       "      <td>...</td>\n",
       "      <td>14143</td>\n",
       "      <td>4</td>\n",
       "      <td>ELEC</td>\n",
       "      <td>60</td>\n",
       "      <td>11</td>\n",
       "      <td>101</td>\n",
       "      <td>1986-02-18</td>\n",
       "      <td>0.0</td>\n",
       "      <td>2</td>\n",
       "      <td>1986</td>\n",
       "    </tr>\n",
       "  </tbody>\n",
       "</table>\n",
       "<p>135493 rows × 23 columns</p>\n",
       "</div>"
      ],
      "text/plain": [
       "                  client_id invoice_date  tarif_type  counter_number  \\\n",
       "0            train_Client_0   2014-03-24          11         1335667   \n",
       "35           train_Client_1   2010-09-02          11          678902   \n",
       "72          train_Client_10   2010-02-15          11          572765   \n",
       "90         train_Client_100   2009-10-22          11            2078   \n",
       "110       train_Client_1000   2015-02-13          11           19575   \n",
       "...                     ...          ...         ...             ...   \n",
       "4476596  train_Client_99995   2005-07-10          11          897286   \n",
       "4476667  train_Client_99996   2015-10-20          11          398783   \n",
       "4476708  train_Client_99997   2015-08-06          11          262195   \n",
       "4476744  train_Client_99998   2005-08-19          10         1253571   \n",
       "4476746  train_Client_99999   1996-09-25          11          560948   \n",
       "\n",
       "        counter_statue  counter_code  reading_remarque  counter_coefficient  \\\n",
       "0                    0           203                 8                    1   \n",
       "35                   0           203                 8                    1   \n",
       "72                   0           203                 8                    1   \n",
       "90                   0           413                 6                    1   \n",
       "110                  0           207                 9                    1   \n",
       "...                ...           ...               ...                  ...   \n",
       "4476596              0           207                 6                    1   \n",
       "4476667              0           207                 9                    1   \n",
       "4476708              0           207                 9                    1   \n",
       "4476744              0           202                 9                    1   \n",
       "4476746              0           203                 6                    1   \n",
       "\n",
       "         consommation_level_1  consommation_level_2  ...  new_index  \\\n",
       "0                          82                     0  ...      14384   \n",
       "35                        388                     0  ...      11817   \n",
       "72                        407                     0  ...      32362   \n",
       "90                          0                     0  ...         98   \n",
       "110                       800                   159  ...        959   \n",
       "...                       ...                   ...  ...        ...   \n",
       "4476596                     0                     0  ...         14   \n",
       "4476667                   605                     0  ...       1500   \n",
       "4476708                   280                     0  ...       3853   \n",
       "4476744                   400                   135  ...       3732   \n",
       "4476746                   259                     0  ...      14143   \n",
       "\n",
       "         months_number  counter_type  disrict  client_catg region  \\\n",
       "0                    4          ELEC       60           11    101   \n",
       "35                   2          ELEC       69           11    107   \n",
       "72                   4          ELEC       62           11    301   \n",
       "90                   4          ELEC       69           11    105   \n",
       "110                  4          ELEC       62           11    303   \n",
       "...                ...           ...      ...          ...    ...   \n",
       "4476596              4          ELEC       62           11    304   \n",
       "4476667              4          ELEC       63           11    311   \n",
       "4476708              4          ELEC       63           11    311   \n",
       "4476744              8          ELEC       60           11    101   \n",
       "4476746              4          ELEC       60           11    101   \n",
       "\n",
       "         creation_date  target  joining_month joining_year  \n",
       "0           1994-12-31     0.0             12         1994  \n",
       "35          2002-05-29     0.0              5         2002  \n",
       "72          1986-03-13     0.0              3         1986  \n",
       "90          1996-11-07     0.0             11         1996  \n",
       "110         2014-10-14     0.0             10         2014  \n",
       "...                ...     ...            ...          ...  \n",
       "4476596     2004-07-26     0.0              7         2004  \n",
       "4476667     2012-10-25     0.0             10         2012  \n",
       "4476708     2011-11-22     0.0             11         2011  \n",
       "4476744     1993-12-22     0.0             12         1993  \n",
       "4476746     1986-02-18     0.0              2         1986  \n",
       "\n",
       "[135493 rows x 23 columns]"
      ]
     },
     "execution_count": 23,
     "metadata": {},
     "output_type": "execute_result"
    }
   ],
   "source": [
    "new_df"
   ]
  },
  {
   "cell_type": "markdown",
   "metadata": {},
   "source": [
    "## Trend of of electricty fraud, based off of the year of joining "
   ]
  },
  {
   "cell_type": "code",
   "execution_count": 24,
   "metadata": {},
   "outputs": [
    {
     "data": {
      "text/plain": [
       "<AxesSubplot:xlabel='joining_year'>"
      ]
     },
     "execution_count": 24,
     "metadata": {},
     "output_type": "execute_result"
    },
    {
     "data": {
      "image/png": "[encoded data removed]",
      "text/plain": [
       "<Figure size 1440x432 with 1 Axes>"
      ]
     },
     "metadata": {
      "needs_background": "light"
     },
     "output_type": "display_data"
    }
   ],
   "source": [
    "new_df.groupby('joining_year').mean().reset_index().plot(y='target', x='joining_year',figsize = (20,6))"
   ]
  },
  {
   "cell_type": "markdown",
   "metadata": {},
   "source": [
    "## You can do more!!!"
   ]
  },
  {
   "cell_type": "markdown",
   "metadata": {},
   "source": [
    "You can continue to look at different features and make visualizations that would allow yoiu to better understand the data"
   ]
  },
  {
   "cell_type": "markdown",
   "metadata": {},
   "source": [
    "# Model Evaluation"
   ]
  },
  {
   "cell_type": "markdown",
   "metadata": {},
   "source": [
    "We already have split datasets, so no need of splitting them more.\n",
    "\n",
    "And since the target has a high correlation with each independent variable, we shall incorporate all."
   ]
  },
  {
   "cell_type": "markdown",
   "metadata": {},
   "source": [
    "## Convert objects and datetime to numerical for regression to work"
   ]
  },
  {
   "cell_type": "code",
   "execution_count": 25,
   "metadata": {},
   "outputs": [],
   "source": [
    "\n",
    "y_train = new_df['target']\n",
    "X_train = new_df[['tarif_type', 'counter_number',\n",
    "        'counter_code', 'reading_remarque',\n",
    "       'counter_coefficient', 'consommation_level_1', 'consommation_level_2',\n",
    "       'consommation_level_3', 'consommation_level_4', 'old_index',\n",
    "       'new_index', 'months_number',  'disrict', 'client_catg',\n",
    "       'region', 'joining_month', 'joining_year']]\n",
    "\n",
    "\n",
    "\n",
    "X_test = new_df_test[['tarif_type', 'counter_number',\n",
    "        'counter_code', 'reading_remarque',\n",
    "       'counter_coefficient', 'consommation_level_1', 'consommation_level_2',\n",
    "       'consommation_level_3', 'consommation_level_4', 'old_index',\n",
    "       'new_index', 'months_number',  'disrict', 'client_catg',\n",
    "       'region', 'joining_month', 'joining_year']]\n"
   ]
  },
  {
   "cell_type": "markdown",
   "metadata": {},
   "source": [
    "Lets test model on our model"
   ]
  },
  {
   "cell_type": "code",
   "execution_count": 26,
   "metadata": {},
   "outputs": [],
   "source": []
  },
  {
   "cell_type": "code",
   "execution_count": 27,
   "metadata": {},
   "outputs": [],
   "source": [
    "# scores = []\n",
    "# dicts = {}\n",
    "# for i in range(1,200,5):\n",
    "#     rf_classifier = RandomForestClassifier(n_estimators = i, random_state=0)\n",
    "#     rf_classifier.fit(X_train, y_train)\n",
    "#     rf_Pred = rf_classifier.predict(X_train)\n",
    "#     score_ = accuracy_score(y_train,rf_Pred)\n",
    "#     print(i, \" optimal score: \",score_)\n",
    "#     scores.append(score_)\n"
   ]
  },
  {
   "cell_type": "code",
   "execution_count": 28,
   "metadata": {},
   "outputs": [],
   "source": [
    "# print(min(scores))"
   ]
  },
  {
   "cell_type": "code",
   "execution_count": 29,
   "metadata": {},
   "outputs": [],
   "source": [
    "# Get optimal values for KNN\n",
    "# k_range = range(1, 200)\n",
    "# scores = []\n",
    "# for k in k_range:\n",
    "#     knn = KNeighborsClassifier(n_neighbors = k)\n",
    "#     knn.fit(X_train, y_train)\n",
    "#     y_test = knn.predict(X_test)\n",
    "#     scores.append(knn.score(X_test, y_test))\n",
    "# plt.figure()\n",
    "# plt.xlabel('k')\n",
    "# plt.ylabel('accuracy')\n",
    "# plt.scatter(k_range, scores)\n",
    "# plt.xticks([0,5,10,15,20])"
   ]
  },
  {
   "cell_type": "code",
   "execution_count": 33,
   "metadata": {},
   "outputs": [
    {
     "name": "stdout",
     "output_type": "stream",
     "text": [
      "Learning rate set to 0.083804\n",
      "0:\tlearn: 0.5930103\ttotal: 104ms\tremaining: 1m 43s\n",
      "100:\tlearn: 0.1823721\ttotal: 5.43s\tremaining: 48.3s\n",
      "200:\tlearn: 0.1686623\ttotal: 11.2s\tremaining: 44.6s\n",
      "300:\tlearn: 0.1566846\ttotal: 17s\tremaining: 39.6s\n",
      "400:\tlearn: 0.1464819\ttotal: 22.8s\tremaining: 34s\n",
      "500:\tlearn: 0.1386302\ttotal: 28.5s\tremaining: 28.3s\n",
      "600:\tlearn: 0.1307671\ttotal: 34.1s\tremaining: 22.7s\n",
      "700:\tlearn: 0.1227585\ttotal: 39.9s\tremaining: 17s\n",
      "800:\tlearn: 0.1163452\ttotal: 45.6s\tremaining: 11.3s\n",
      "900:\tlearn: 0.1104010\ttotal: 51.3s\tremaining: 5.64s\n",
      "999:\tlearn: 0.1049441\ttotal: 56.9s\tremaining: 0us\n"
     ]
    }
   ],
   "source": [
    "\n",
    "# create array of models to evaluate\n",
    "models = []\n",
    "models.append(('LoR',LogisticRegression()))\n",
    "models.append(('Dec_Tree',DecisionTreeClassifier(max_depth=5, random_state=0)))\n",
    "models.append(('KNN',KNeighborsClassifier(n_neighbors = 10)))\n",
    "models.append(('LDA',LinearDiscriminantAnalysis()))\n",
    "models.append(('GaussianNB',GaussianNB()))\n",
    "models.append(('SVM',SVC()))\n",
    "models.append(('R_Forest',RandomForestClassifier(n_estimators = 190, random_state=0)))\n",
    "\n",
    "files = []\n",
    "names = []\n",
    "list_of_lists = []\n",
    "predictions =[]\n",
    "scores = []\n",
    "\n",
    "for name,model in models:\n",
    "    model.fit(X_train,y_train)\n",
    "    \n",
    "    pred_name = \"y\" + name\n",
    "    \n",
    "    pred_name = model.predict(X_test)\n",
    "    \n",
    "    \n",
    "    ss = pd.DataFrame()\n",
    "    ss['client_id'] = new_df_test['client_id']\n",
    "    ss['target'] = pred_name \n",
    "    ss.to_csv(name + \".csv\",index=False)\n",
    "        \n",
    "    names.append(name)\n",
    "    predictions.append(pred_name)\n",
    "\n",
    "list_of_lists.append(predictions)\n",
    "list_of_lists.append(names)"
   ]
  },
  {
   "cell_type": "markdown",
   "metadata": {},
   "source": [
    "##  After submitting to Zindi, the scores:"
   ]
  },
  {
   "cell_type": "markdown",
   "metadata": {},
   "source": [
    "\n"
   ]
  },
  {
   "cell_type": "markdown",
   "metadata": {},
   "source": [
    "Logistic Regression : 0.5"
   ]
  },
  {
   "cell_type": "markdown",
   "metadata": {},
   "source": [
    "Decision Tree: 0.531734771688113"
   ]
  },
  {
   "cell_type": "markdown",
   "metadata": {},
   "source": [
    "KNN: 0.50214540863999\n"
   ]
  },
  {
   "cell_type": "markdown",
   "metadata": {},
   "source": [
    "Linear Discriminant Analysis: 0.500871236158714\n"
   ]
  },
  {
   "cell_type": "markdown",
   "metadata": {},
   "source": [
    "Gaussian : 0.5"
   ]
  },
  {
   "cell_type": "markdown",
   "metadata": {},
   "source": [
    "Random Forest : 0.503808680471835"
   ]
  },
  {
   "cell_type": "markdown",
   "metadata": {},
   "source": [
    "SVM : 0.5"
   ]
  },
  {
   "cell_type": "markdown",
   "metadata": {},
   "source": [
    "## Let's use a boosting Algorithm"
   ]
  },
  {
   "cell_type": "code",
   "execution_count": 34,
   "metadata": {},
   "outputs": [
    {
     "name": "stdout",
     "output_type": "stream",
     "text": [
      "0:\tlearn: 0.2555857\ttotal: 9.33ms\tremaining: 924ms\n",
      "99:\tlearn: 0.1956777\ttotal: 651ms\tremaining: 0us\n"
     ]
    }
   ],
   "source": [
    "model = CatBoostClassifier(iterations = 100,learning_rate = 1, depth = 2,metric_period=100)\n",
    "model = model.fit(X_train,y_train)\n",
    "pred_y = model.predict(X_test)\n",
    "\n",
    "ss_split = pd.DataFrame()\n",
    "ss_split['client_id'] = new_df_test['client_id']\n",
    "ss_split['target'] = pred_y \n",
    "ss_split.to_csv(\"Catboost\" + \".csv\",index=False)"
   ]
  },
  {
   "cell_type": "markdown",
   "metadata": {},
   "source": [
    "# Let's split our dataset into train and test our models with test and train splits"
   ]
  },
  {
   "cell_type": "code",
   "execution_count": 35,
   "metadata": {},
   "outputs": [],
   "source": [
    "X_train_split, X_test_split, y_train_split, y_test_split = train_test_split(X_train, y_train, test_size=0.33,random_state=42)"
   ]
  },
  {
   "cell_type": "code",
   "execution_count": null,
   "metadata": {},
   "outputs": [
    {
     "name": "stdout",
     "output_type": "stream",
     "text": [
      "LoR_split 0.057052758705521886\n",
      "Dec_Tree_split 0.05723167758817346\n",
      "KNN_split 0.057119853286516226\n",
      "LDA_split 0.057701339655133854\n",
      "GaussianNB_split 0.057052758705521886\n"
     ]
    }
   ],
   "source": [
    "# Repeat same thing now evaluating our models\n",
    "models = []\n",
    "models.append(('LoR_split',LogisticRegression()))\n",
    "models.append(('Dec_Tree_split',DecisionTreeClassifier(max_depth=5, random_state=0)))\n",
    "models.append(('KNN_split',KNeighborsClassifier(n_neighbors = 10)))\n",
    "models.append(('LDA_split',LinearDiscriminantAnalysis()))\n",
    "models.append(('GaussianNB_split',GaussianNB()))\n",
    "models.append(('SVM_split',SVC()))\n",
    "models.append(('R_Forest_split',RandomForestClassifier(n_estimators = 190, random_state=0)))\n",
    "# Boost our models\n",
    "models.append(('CatBoost',CatBoostClassifier(depth=10,metric_period=100)))\n",
    "\n",
    "files = []\n",
    "names = []\n",
    "list_of_lists = []\n",
    "predictions =[]\n",
    "scores = []\n",
    "\n",
    "for name,model in models:\n",
    "    model.fit(X_train_split,y_train_split)\n",
    "    \n",
    "    pred_name = \"y\" + name\n",
    "    \n",
    "    pred_name = model.predict(X_test_split)\n",
    "    \n",
    "    # evaluate model\n",
    "    print(name, mean_absolute_error(y_test_split,pred_name))\n",
    "    \n",
    "        \n",
    "    names.append(name)\n",
    "    predictions.append(pred_name)\n",
    "\n",
    "list_of_lists.append(predictions)\n",
    "list_of_lists.append(names)"
   ]
  },
  {
   "cell_type": "markdown",
   "metadata": {},
   "source": [
    "## Let's boost our models with Catboost"
   ]
  },
  {
   "cell_type": "code",
   "execution_count": 36,
   "metadata": {},
   "outputs": [
    {
     "name": "stdout",
     "output_type": "stream",
     "text": [
      "Learning rate set to 0.070631\n",
      "0:\tlearn: 0.6083967\ttotal: 19.4ms\tremaining: 19.3s\n",
      "100:\tlearn: 0.1939066\ttotal: 1.05s\tremaining: 9.35s\n",
      "200:\tlearn: 0.1884074\ttotal: 2.08s\tremaining: 8.26s\n",
      "300:\tlearn: 0.1843463\ttotal: 3.43s\tremaining: 7.96s\n",
      "400:\tlearn: 0.1810335\ttotal: 4.67s\tremaining: 6.97s\n",
      "500:\tlearn: 0.1778750\ttotal: 5.71s\tremaining: 5.69s\n",
      "600:\tlearn: 0.1750215\ttotal: 6.8s\tremaining: 4.51s\n",
      "700:\tlearn: 0.1721286\ttotal: 8.03s\tremaining: 3.43s\n",
      "800:\tlearn: 0.1695344\ttotal: 9.17s\tremaining: 2.28s\n",
      "900:\tlearn: 0.1667569\ttotal: 10.3s\tremaining: 1.14s\n",
      "999:\tlearn: 0.1644007\ttotal: 11.4s\tremaining: 0us\n"
     ]
    },
    {
     "ename": "CatBoostError",
     "evalue": "y may be None only when X is an instance of catboost.Pool or string",
     "output_type": "error",
     "traceback": [
      "\u001b[0;31m---------------------------------------------------------------------------\u001b[0m",
      "\u001b[0;31mCatBoostError\u001b[0m                             Traceback (most recent call last)",
      "\u001b[0;32m<ipython-input-36-e823e0cecf8d>\u001b[0m in \u001b[0;36m<module>\u001b[0;34m\u001b[0m\n\u001b[1;32m      1\u001b[0m \u001b[0mmodel\u001b[0m \u001b[0;34m=\u001b[0m \u001b[0mCatBoostClassifier\u001b[0m\u001b[0;34m(\u001b[0m\u001b[0mmetric_period\u001b[0m \u001b[0;34m=\u001b[0m \u001b[0;36m100\u001b[0m\u001b[0;34m)\u001b[0m\u001b[0;34m\u001b[0m\u001b[0;34m\u001b[0m\u001b[0m\n\u001b[1;32m      2\u001b[0m \u001b[0mmodel\u001b[0m \u001b[0;34m=\u001b[0m \u001b[0mmodel\u001b[0m\u001b[0;34m.\u001b[0m\u001b[0mfit\u001b[0m\u001b[0;34m(\u001b[0m\u001b[0mX_train_split\u001b[0m\u001b[0;34m,\u001b[0m\u001b[0my_train_split\u001b[0m\u001b[0;34m)\u001b[0m\u001b[0;34m\u001b[0m\u001b[0;34m\u001b[0m\u001b[0m\n\u001b[0;32m----> 3\u001b[0;31m \u001b[0mpred_y\u001b[0m \u001b[0;34m=\u001b[0m \u001b[0mmodel\u001b[0m\u001b[0;34m.\u001b[0m\u001b[0mfit\u001b[0m\u001b[0;34m(\u001b[0m\u001b[0mX_test_split\u001b[0m\u001b[0;34m)\u001b[0m\u001b[0;34m\u001b[0m\u001b[0;34m\u001b[0m\u001b[0m\n\u001b[0m\u001b[1;32m      4\u001b[0m \u001b[0;34m\u001b[0m\u001b[0m\n\u001b[1;32m      5\u001b[0m \u001b[0;31m# evaluate model\u001b[0m\u001b[0;34m\u001b[0m\u001b[0;34m\u001b[0m\u001b[0;34m\u001b[0m\u001b[0m\n",
      "\u001b[0;32m~/anaconda3/lib/python3.8/site-packages/catboost/core.py\u001b[0m in \u001b[0;36mfit\u001b[0;34m(self, X, y, cat_features, text_features, embedding_features, sample_weight, baseline, use_best_model, eval_set, verbose, logging_level, plot, column_description, verbose_eval, metric_period, silent, early_stopping_rounds, save_snapshot, snapshot_file, snapshot_interval, init_model)\u001b[0m\n\u001b[1;32m   4300\u001b[0m             \u001b[0mself\u001b[0m\u001b[0;34m.\u001b[0m\u001b[0m_check_is_classification_objective\u001b[0m\u001b[0;34m(\u001b[0m\u001b[0mparams\u001b[0m\u001b[0;34m[\u001b[0m\u001b[0;34m'loss_function'\u001b[0m\u001b[0;34m]\u001b[0m\u001b[0;34m)\u001b[0m\u001b[0;34m\u001b[0m\u001b[0;34m\u001b[0m\u001b[0m\n\u001b[1;32m   4301\u001b[0m \u001b[0;34m\u001b[0m\u001b[0m\n\u001b[0;32m-> 4302\u001b[0;31m         self._fit(X, y, cat_features, text_features, embedding_features, None, sample_weight, None, None, None, None, baseline, use_best_model,\n\u001b[0m\u001b[1;32m   4303\u001b[0m                   \u001b[0meval_set\u001b[0m\u001b[0;34m,\u001b[0m \u001b[0mverbose\u001b[0m\u001b[0;34m,\u001b[0m \u001b[0mlogging_level\u001b[0m\u001b[0;34m,\u001b[0m \u001b[0mplot\u001b[0m\u001b[0;34m,\u001b[0m \u001b[0mcolumn_description\u001b[0m\u001b[0;34m,\u001b[0m \u001b[0mverbose_eval\u001b[0m\u001b[0;34m,\u001b[0m \u001b[0mmetric_period\u001b[0m\u001b[0;34m,\u001b[0m\u001b[0;34m\u001b[0m\u001b[0;34m\u001b[0m\u001b[0m\n\u001b[1;32m   4304\u001b[0m                   silent, early_stopping_rounds, save_snapshot, snapshot_file, snapshot_interval, init_model)\n",
      "\u001b[0;32m~/anaconda3/lib/python3.8/site-packages/catboost/core.py\u001b[0m in \u001b[0;36m_fit\u001b[0;34m(self, X, y, cat_features, text_features, embedding_features, pairs, sample_weight, group_id, group_weight, subgroup_id, pairs_weight, baseline, use_best_model, eval_set, verbose, logging_level, plot, column_description, verbose_eval, metric_period, silent, early_stopping_rounds, save_snapshot, snapshot_file, snapshot_interval, init_model)\u001b[0m\n\u001b[1;32m   1790\u001b[0m \u001b[0;34m\u001b[0m\u001b[0m\n\u001b[1;32m   1791\u001b[0m         \u001b[0;32mif\u001b[0m \u001b[0my\u001b[0m \u001b[0;32mis\u001b[0m \u001b[0;32mNone\u001b[0m \u001b[0;32mand\u001b[0m \u001b[0;32mnot\u001b[0m \u001b[0misinstance\u001b[0m\u001b[0;34m(\u001b[0m\u001b[0mX\u001b[0m\u001b[0;34m,\u001b[0m \u001b[0mSTRING_TYPES\u001b[0m \u001b[0;34m+\u001b[0m \u001b[0;34m(\u001b[0m\u001b[0mPool\u001b[0m\u001b[0;34m,\u001b[0m\u001b[0;34m)\u001b[0m\u001b[0;34m)\u001b[0m\u001b[0;34m:\u001b[0m\u001b[0;34m\u001b[0m\u001b[0;34m\u001b[0m\u001b[0m\n\u001b[0;32m-> 1792\u001b[0;31m             \u001b[0;32mraise\u001b[0m \u001b[0mCatBoostError\u001b[0m\u001b[0;34m(\u001b[0m\u001b[0;34m\"y may be None only when X is an instance of catboost.Pool or string\"\u001b[0m\u001b[0;34m)\u001b[0m\u001b[0;34m\u001b[0m\u001b[0;34m\u001b[0m\u001b[0m\n\u001b[0m\u001b[1;32m   1793\u001b[0m \u001b[0;34m\u001b[0m\u001b[0m\n\u001b[1;32m   1794\u001b[0m         train_params = self._prepare_train_params(\n",
      "\u001b[0;31mCatBoostError\u001b[0m: y may be None only when X is an instance of catboost.Pool or string"
     ]
    }
   ],
   "source": [
    "# model = CatBoostClassifier(metric_period = 100)\n",
    "# model = model.fit(X_train_split,y_train_split)\n",
    "# pred_y = model.fit(X_test_split)\n",
    "\n",
    "# # evaluate model\n",
    "# print(\"Catboost\", mean_absolute_error(y_test,pred_y))"
   ]
  },
  {
   "cell_type": "markdown",
   "metadata": {},
   "source": [
    "## You can do more !\n",
    "#### More Boosting Algorithms e.g XgBoost, AdaBoost\n",
    "#### More Ensembles i.e Voting, Gradient Boosting"
   ]
  },
  {
   "cell_type": "code",
   "execution_count": null,
   "metadata": {},
   "outputs": [],
   "source": [
    "# Voting Ensemble\n"
   ]
  }
 ],
 "metadata": {
  "kernelspec": {
   "display_name": "Python 3",
   "language": "python",
   "name": "python3"
  },
  "language_info": {
   "codemirror_mode": {
    "name": "ipython",
    "version": 3
   },
   "file_extension": ".py",
   "mimetype": "text/x-python",
   "name": "python",
   "nbconvert_exporter": "python",
   "pygments_lexer": "ipython3",
   "version": "3.8.3"
  }
 },
 "nbformat": 4,
 "nbformat_minor": 4
}
